{
  "cells": [
    {
      "cell_type": "code",
      "execution_count": null,
      "metadata": {
        "colab": {
          "base_uri": "https://localhost:8080/"
        },
        "id": "EvtFPuvFm1yF",
        "outputId": "91692a9e-46db-4c7f-b418-4c9f59458961"
      },
      "outputs": [
        {
          "name": "stdout",
          "output_type": "stream",
          "text": [
            "Drive already mounted at /content/drive; to attempt to forcibly remount, call drive.mount(\"/content/drive\", force_remount=True).\n"
          ]
        }
      ],
      "source": [
        "from google.colab import drive\n",
        "drive.mount('/content/drive')"
      ]
    },
    {
      "cell_type": "code",
      "execution_count": null,
      "metadata": {
        "colab": {
          "base_uri": "https://localhost:8080/"
        },
        "id": "LaoOQ1l_ptqu",
        "outputId": "04beac3e-dcfd-466c-94df-e86711f0715f"
      },
      "outputs": [
        {
          "name": "stdout",
          "output_type": "stream",
          "text": [
            "Requirement already satisfied: tensorflow==2.11.0 in /usr/local/lib/python3.10/dist-packages (2.11.0)\n",
            "Requirement already satisfied: absl-py>=1.0.0 in /usr/local/lib/python3.10/dist-packages (from tensorflow==2.11.0) (1.4.0)\n",
            "Requirement already satisfied: astunparse>=1.6.0 in /usr/local/lib/python3.10/dist-packages (from tensorflow==2.11.0) (1.6.3)\n",
            "Requirement already satisfied: flatbuffers>=2.0 in /usr/local/lib/python3.10/dist-packages (from tensorflow==2.11.0) (23.5.26)\n",
            "Requirement already satisfied: gast<=0.4.0,>=0.2.1 in /usr/local/lib/python3.10/dist-packages (from tensorflow==2.11.0) (0.4.0)\n",
            "Requirement already satisfied: google-pasta>=0.1.1 in /usr/local/lib/python3.10/dist-packages (from tensorflow==2.11.0) (0.2.0)\n",
            "Requirement already satisfied: grpcio<2.0,>=1.24.3 in /usr/local/lib/python3.10/dist-packages (from tensorflow==2.11.0) (1.56.0)\n",
            "Requirement already satisfied: h5py>=2.9.0 in /usr/local/lib/python3.10/dist-packages (from tensorflow==2.11.0) (3.8.0)\n",
            "Requirement already satisfied: keras<2.12,>=2.11.0 in /usr/local/lib/python3.10/dist-packages (from tensorflow==2.11.0) (2.11.0)\n",
            "Requirement already satisfied: libclang>=13.0.0 in /usr/local/lib/python3.10/dist-packages (from tensorflow==2.11.0) (16.0.0)\n",
            "Requirement already satisfied: numpy>=1.20 in /usr/local/lib/python3.10/dist-packages (from tensorflow==2.11.0) (1.22.4)\n",
            "Requirement already satisfied: opt-einsum>=2.3.2 in /usr/local/lib/python3.10/dist-packages (from tensorflow==2.11.0) (3.3.0)\n",
            "Requirement already satisfied: packaging in /usr/local/lib/python3.10/dist-packages (from tensorflow==2.11.0) (23.1)\n",
            "Requirement already satisfied: protobuf<3.20,>=3.9.2 in /usr/local/lib/python3.10/dist-packages (from tensorflow==2.11.0) (3.19.6)\n",
            "Requirement already satisfied: setuptools in /usr/local/lib/python3.10/dist-packages (from tensorflow==2.11.0) (67.7.2)\n",
            "Requirement already satisfied: six>=1.12.0 in /usr/local/lib/python3.10/dist-packages (from tensorflow==2.11.0) (1.16.0)\n",
            "Requirement already satisfied: tensorboard<2.12,>=2.11 in /usr/local/lib/python3.10/dist-packages (from tensorflow==2.11.0) (2.11.2)\n",
            "Requirement already satisfied: tensorflow-estimator<2.12,>=2.11.0 in /usr/local/lib/python3.10/dist-packages (from tensorflow==2.11.0) (2.11.0)\n",
            "Requirement already satisfied: termcolor>=1.1.0 in /usr/local/lib/python3.10/dist-packages (from tensorflow==2.11.0) (2.3.0)\n",
            "Requirement already satisfied: typing-extensions>=3.6.6 in /usr/local/lib/python3.10/dist-packages (from tensorflow==2.11.0) (4.7.1)\n",
            "Requirement already satisfied: wrapt>=1.11.0 in /usr/local/lib/python3.10/dist-packages (from tensorflow==2.11.0) (1.14.1)\n",
            "Requirement already satisfied: tensorflow-io-gcs-filesystem>=0.23.1 in /usr/local/lib/python3.10/dist-packages (from tensorflow==2.11.0) (0.32.0)\n",
            "Requirement already satisfied: wheel<1.0,>=0.23.0 in /usr/local/lib/python3.10/dist-packages (from astunparse>=1.6.0->tensorflow==2.11.0) (0.40.0)\n",
            "Requirement already satisfied: google-auth<3,>=1.6.3 in /usr/local/lib/python3.10/dist-packages (from tensorboard<2.12,>=2.11->tensorflow==2.11.0) (2.17.3)\n",
            "Requirement already satisfied: google-auth-oauthlib<0.5,>=0.4.1 in /usr/local/lib/python3.10/dist-packages (from tensorboard<2.12,>=2.11->tensorflow==2.11.0) (0.4.6)\n",
            "Requirement already satisfied: markdown>=2.6.8 in /usr/local/lib/python3.10/dist-packages (from tensorboard<2.12,>=2.11->tensorflow==2.11.0) (3.4.3)\n",
            "Requirement already satisfied: requests<3,>=2.21.0 in /usr/local/lib/python3.10/dist-packages (from tensorboard<2.12,>=2.11->tensorflow==2.11.0) (2.27.1)\n",
            "Requirement already satisfied: tensorboard-data-server<0.7.0,>=0.6.0 in /usr/local/lib/python3.10/dist-packages (from tensorboard<2.12,>=2.11->tensorflow==2.11.0) (0.6.1)\n",
            "Requirement already satisfied: tensorboard-plugin-wit>=1.6.0 in /usr/local/lib/python3.10/dist-packages (from tensorboard<2.12,>=2.11->tensorflow==2.11.0) (1.8.1)\n",
            "Requirement already satisfied: werkzeug>=1.0.1 in /usr/local/lib/python3.10/dist-packages (from tensorboard<2.12,>=2.11->tensorflow==2.11.0) (2.3.6)\n",
            "Requirement already satisfied: cachetools<6.0,>=2.0.0 in /usr/local/lib/python3.10/dist-packages (from google-auth<3,>=1.6.3->tensorboard<2.12,>=2.11->tensorflow==2.11.0) (5.3.1)\n",
            "Requirement already satisfied: pyasn1-modules>=0.2.1 in /usr/local/lib/python3.10/dist-packages (from google-auth<3,>=1.6.3->tensorboard<2.12,>=2.11->tensorflow==2.11.0) (0.3.0)\n",
            "Requirement already satisfied: rsa<5,>=3.1.4 in /usr/local/lib/python3.10/dist-packages (from google-auth<3,>=1.6.3->tensorboard<2.12,>=2.11->tensorflow==2.11.0) (4.9)\n",
            "Requirement already satisfied: requests-oauthlib>=0.7.0 in /usr/local/lib/python3.10/dist-packages (from google-auth-oauthlib<0.5,>=0.4.1->tensorboard<2.12,>=2.11->tensorflow==2.11.0) (1.3.1)\n",
            "Requirement already satisfied: urllib3<1.27,>=1.21.1 in /usr/local/lib/python3.10/dist-packages (from requests<3,>=2.21.0->tensorboard<2.12,>=2.11->tensorflow==2.11.0) (1.26.16)\n",
            "Requirement already satisfied: certifi>=2017.4.17 in /usr/local/lib/python3.10/dist-packages (from requests<3,>=2.21.0->tensorboard<2.12,>=2.11->tensorflow==2.11.0) (2023.5.7)\n",
            "Requirement already satisfied: charset-normalizer~=2.0.0 in /usr/local/lib/python3.10/dist-packages (from requests<3,>=2.21.0->tensorboard<2.12,>=2.11->tensorflow==2.11.0) (2.0.12)\n",
            "Requirement already satisfied: idna<4,>=2.5 in /usr/local/lib/python3.10/dist-packages (from requests<3,>=2.21.0->tensorboard<2.12,>=2.11->tensorflow==2.11.0) (3.4)\n",
            "Requirement already satisfied: MarkupSafe>=2.1.1 in /usr/local/lib/python3.10/dist-packages (from werkzeug>=1.0.1->tensorboard<2.12,>=2.11->tensorflow==2.11.0) (2.1.3)\n",
            "Requirement already satisfied: pyasn1<0.6.0,>=0.4.6 in /usr/local/lib/python3.10/dist-packages (from pyasn1-modules>=0.2.1->google-auth<3,>=1.6.3->tensorboard<2.12,>=2.11->tensorflow==2.11.0) (0.5.0)\n",
            "Requirement already satisfied: oauthlib>=3.0.0 in /usr/local/lib/python3.10/dist-packages (from requests-oauthlib>=0.7.0->google-auth-oauthlib<0.5,>=0.4.1->tensorboard<2.12,>=2.11->tensorflow==2.11.0) (3.2.2)\n"
          ]
        }
      ],
      "source": [
        "!pip install tensorflow==2.11.0"
      ]
    },
    {
      "cell_type": "code",
      "execution_count": null,
      "metadata": {
        "colab": {
          "base_uri": "https://localhost:8080/"
        },
        "id": "kEANjsSyqE0-",
        "outputId": "a5723d62-c3fb-4721-f51a-843a16b08618"
      },
      "outputs": [
        {
          "name": "stdout",
          "output_type": "stream",
          "text": [
            "Collecting git+https://github.com/VenkateshwaranB/stellargraph.git\n",
            "  Cloning https://github.com/VenkateshwaranB/stellargraph.git to /tmp/pip-req-build-vr74exoo\n",
            "  Running command git clone --filter=blob:none --quiet https://github.com/VenkateshwaranB/stellargraph.git /tmp/pip-req-build-vr74exoo\n",
            "  Resolved https://github.com/VenkateshwaranB/stellargraph.git to commit ce29510c83d924561c9e6054641d02a5abdeaaf5\n",
            "  Preparing metadata (setup.py) ... \u001b[?25l\u001b[?25hdone\n",
            "Requirement already satisfied: tensorflow>=2.1.0 in /usr/local/lib/python3.10/dist-packages (from stellargraph==1.3.0b0) (2.11.0)\n",
            "Requirement already satisfied: numpy>=1.14 in /usr/local/lib/python3.10/dist-packages (from stellargraph==1.3.0b0) (1.22.4)\n",
            "Requirement already satisfied: scipy>=1.1.0 in /usr/local/lib/python3.10/dist-packages (from stellargraph==1.3.0b0) (1.10.1)\n",
            "Requirement already satisfied: networkx>=2.2 in /usr/local/lib/python3.10/dist-packages (from stellargraph==1.3.0b0) (3.1)\n",
            "Requirement already satisfied: scikit_learn>=0.20 in /usr/local/lib/python3.10/dist-packages (from stellargraph==1.3.0b0) (1.2.2)\n",
            "Requirement already satisfied: matplotlib>=2.2 in /usr/local/lib/python3.10/dist-packages (from stellargraph==1.3.0b0) (3.7.1)\n",
            "Requirement already satisfied: pandas>=0.24 in /usr/local/lib/python3.10/dist-packages (from stellargraph==1.3.0b0) (1.5.3)\n",
            "Requirement already satisfied: contourpy>=1.0.1 in /usr/local/lib/python3.10/dist-packages (from matplotlib>=2.2->stellargraph==1.3.0b0) (1.1.0)\n",
            "Requirement already satisfied: cycler>=0.10 in /usr/local/lib/python3.10/dist-packages (from matplotlib>=2.2->stellargraph==1.3.0b0) (0.11.0)\n",
            "Requirement already satisfied: fonttools>=4.22.0 in /usr/local/lib/python3.10/dist-packages (from matplotlib>=2.2->stellargraph==1.3.0b0) (4.40.0)\n",
            "Requirement already satisfied: kiwisolver>=1.0.1 in /usr/local/lib/python3.10/dist-packages (from matplotlib>=2.2->stellargraph==1.3.0b0) (1.4.4)\n",
            "Requirement already satisfied: packaging>=20.0 in /usr/local/lib/python3.10/dist-packages (from matplotlib>=2.2->stellargraph==1.3.0b0) (23.1)\n",
            "Requirement already satisfied: pillow>=6.2.0 in /usr/local/lib/python3.10/dist-packages (from matplotlib>=2.2->stellargraph==1.3.0b0) (8.4.0)\n",
            "Requirement already satisfied: pyparsing>=2.3.1 in /usr/local/lib/python3.10/dist-packages (from matplotlib>=2.2->stellargraph==1.3.0b0) (3.1.0)\n",
            "Requirement already satisfied: python-dateutil>=2.7 in /usr/local/lib/python3.10/dist-packages (from matplotlib>=2.2->stellargraph==1.3.0b0) (2.8.2)\n",
            "Requirement already satisfied: pytz>=2020.1 in /usr/local/lib/python3.10/dist-packages (from pandas>=0.24->stellargraph==1.3.0b0) (2022.7.1)\n",
            "Requirement already satisfied: joblib>=1.1.1 in /usr/local/lib/python3.10/dist-packages (from scikit_learn>=0.20->stellargraph==1.3.0b0) (1.3.1)\n",
            "Requirement already satisfied: threadpoolctl>=2.0.0 in /usr/local/lib/python3.10/dist-packages (from scikit_learn>=0.20->stellargraph==1.3.0b0) (3.1.0)\n",
            "Requirement already satisfied: absl-py>=1.0.0 in /usr/local/lib/python3.10/dist-packages (from tensorflow>=2.1.0->stellargraph==1.3.0b0) (1.4.0)\n",
            "Requirement already satisfied: astunparse>=1.6.0 in /usr/local/lib/python3.10/dist-packages (from tensorflow>=2.1.0->stellargraph==1.3.0b0) (1.6.3)\n",
            "Requirement already satisfied: flatbuffers>=2.0 in /usr/local/lib/python3.10/dist-packages (from tensorflow>=2.1.0->stellargraph==1.3.0b0) (23.5.26)\n",
            "Requirement already satisfied: gast<=0.4.0,>=0.2.1 in /usr/local/lib/python3.10/dist-packages (from tensorflow>=2.1.0->stellargraph==1.3.0b0) (0.4.0)\n",
            "Requirement already satisfied: google-pasta>=0.1.1 in /usr/local/lib/python3.10/dist-packages (from tensorflow>=2.1.0->stellargraph==1.3.0b0) (0.2.0)\n",
            "Requirement already satisfied: grpcio<2.0,>=1.24.3 in /usr/local/lib/python3.10/dist-packages (from tensorflow>=2.1.0->stellargraph==1.3.0b0) (1.56.0)\n",
            "Requirement already satisfied: h5py>=2.9.0 in /usr/local/lib/python3.10/dist-packages (from tensorflow>=2.1.0->stellargraph==1.3.0b0) (3.8.0)\n",
            "Requirement already satisfied: keras<2.12,>=2.11.0 in /usr/local/lib/python3.10/dist-packages (from tensorflow>=2.1.0->stellargraph==1.3.0b0) (2.11.0)\n",
            "Requirement already satisfied: libclang>=13.0.0 in /usr/local/lib/python3.10/dist-packages (from tensorflow>=2.1.0->stellargraph==1.3.0b0) (16.0.0)\n",
            "Requirement already satisfied: opt-einsum>=2.3.2 in /usr/local/lib/python3.10/dist-packages (from tensorflow>=2.1.0->stellargraph==1.3.0b0) (3.3.0)\n",
            "Requirement already satisfied: protobuf<3.20,>=3.9.2 in /usr/local/lib/python3.10/dist-packages (from tensorflow>=2.1.0->stellargraph==1.3.0b0) (3.19.6)\n",
            "Requirement already satisfied: setuptools in /usr/local/lib/python3.10/dist-packages (from tensorflow>=2.1.0->stellargraph==1.3.0b0) (67.7.2)\n",
            "Requirement already satisfied: six>=1.12.0 in /usr/local/lib/python3.10/dist-packages (from tensorflow>=2.1.0->stellargraph==1.3.0b0) (1.16.0)\n",
            "Requirement already satisfied: tensorboard<2.12,>=2.11 in /usr/local/lib/python3.10/dist-packages (from tensorflow>=2.1.0->stellargraph==1.3.0b0) (2.11.2)\n",
            "Requirement already satisfied: tensorflow-estimator<2.12,>=2.11.0 in /usr/local/lib/python3.10/dist-packages (from tensorflow>=2.1.0->stellargraph==1.3.0b0) (2.11.0)\n",
            "Requirement already satisfied: termcolor>=1.1.0 in /usr/local/lib/python3.10/dist-packages (from tensorflow>=2.1.0->stellargraph==1.3.0b0) (2.3.0)\n",
            "Requirement already satisfied: typing-extensions>=3.6.6 in /usr/local/lib/python3.10/dist-packages (from tensorflow>=2.1.0->stellargraph==1.3.0b0) (4.7.1)\n",
            "Requirement already satisfied: wrapt>=1.11.0 in /usr/local/lib/python3.10/dist-packages (from tensorflow>=2.1.0->stellargraph==1.3.0b0) (1.14.1)\n",
            "Requirement already satisfied: tensorflow-io-gcs-filesystem>=0.23.1 in /usr/local/lib/python3.10/dist-packages (from tensorflow>=2.1.0->stellargraph==1.3.0b0) (0.32.0)\n",
            "Requirement already satisfied: wheel<1.0,>=0.23.0 in /usr/local/lib/python3.10/dist-packages (from astunparse>=1.6.0->tensorflow>=2.1.0->stellargraph==1.3.0b0) (0.40.0)\n",
            "Requirement already satisfied: google-auth<3,>=1.6.3 in /usr/local/lib/python3.10/dist-packages (from tensorboard<2.12,>=2.11->tensorflow>=2.1.0->stellargraph==1.3.0b0) (2.17.3)\n",
            "Requirement already satisfied: google-auth-oauthlib<0.5,>=0.4.1 in /usr/local/lib/python3.10/dist-packages (from tensorboard<2.12,>=2.11->tensorflow>=2.1.0->stellargraph==1.3.0b0) (0.4.6)\n",
            "Requirement already satisfied: markdown>=2.6.8 in /usr/local/lib/python3.10/dist-packages (from tensorboard<2.12,>=2.11->tensorflow>=2.1.0->stellargraph==1.3.0b0) (3.4.3)\n",
            "Requirement already satisfied: requests<3,>=2.21.0 in /usr/local/lib/python3.10/dist-packages (from tensorboard<2.12,>=2.11->tensorflow>=2.1.0->stellargraph==1.3.0b0) (2.27.1)\n",
            "Requirement already satisfied: tensorboard-data-server<0.7.0,>=0.6.0 in /usr/local/lib/python3.10/dist-packages (from tensorboard<2.12,>=2.11->tensorflow>=2.1.0->stellargraph==1.3.0b0) (0.6.1)\n",
            "Requirement already satisfied: tensorboard-plugin-wit>=1.6.0 in /usr/local/lib/python3.10/dist-packages (from tensorboard<2.12,>=2.11->tensorflow>=2.1.0->stellargraph==1.3.0b0) (1.8.1)\n",
            "Requirement already satisfied: werkzeug>=1.0.1 in /usr/local/lib/python3.10/dist-packages (from tensorboard<2.12,>=2.11->tensorflow>=2.1.0->stellargraph==1.3.0b0) (2.3.6)\n",
            "Requirement already satisfied: cachetools<6.0,>=2.0.0 in /usr/local/lib/python3.10/dist-packages (from google-auth<3,>=1.6.3->tensorboard<2.12,>=2.11->tensorflow>=2.1.0->stellargraph==1.3.0b0) (5.3.1)\n",
            "Requirement already satisfied: pyasn1-modules>=0.2.1 in /usr/local/lib/python3.10/dist-packages (from google-auth<3,>=1.6.3->tensorboard<2.12,>=2.11->tensorflow>=2.1.0->stellargraph==1.3.0b0) (0.3.0)\n",
            "Requirement already satisfied: rsa<5,>=3.1.4 in /usr/local/lib/python3.10/dist-packages (from google-auth<3,>=1.6.3->tensorboard<2.12,>=2.11->tensorflow>=2.1.0->stellargraph==1.3.0b0) (4.9)\n",
            "Requirement already satisfied: requests-oauthlib>=0.7.0 in /usr/local/lib/python3.10/dist-packages (from google-auth-oauthlib<0.5,>=0.4.1->tensorboard<2.12,>=2.11->tensorflow>=2.1.0->stellargraph==1.3.0b0) (1.3.1)\n",
            "Requirement already satisfied: urllib3<1.27,>=1.21.1 in /usr/local/lib/python3.10/dist-packages (from requests<3,>=2.21.0->tensorboard<2.12,>=2.11->tensorflow>=2.1.0->stellargraph==1.3.0b0) (1.26.16)\n",
            "Requirement already satisfied: certifi>=2017.4.17 in /usr/local/lib/python3.10/dist-packages (from requests<3,>=2.21.0->tensorboard<2.12,>=2.11->tensorflow>=2.1.0->stellargraph==1.3.0b0) (2023.5.7)\n",
            "Requirement already satisfied: charset-normalizer~=2.0.0 in /usr/local/lib/python3.10/dist-packages (from requests<3,>=2.21.0->tensorboard<2.12,>=2.11->tensorflow>=2.1.0->stellargraph==1.3.0b0) (2.0.12)\n",
            "Requirement already satisfied: idna<4,>=2.5 in /usr/local/lib/python3.10/dist-packages (from requests<3,>=2.21.0->tensorboard<2.12,>=2.11->tensorflow>=2.1.0->stellargraph==1.3.0b0) (3.4)\n",
            "Requirement already satisfied: MarkupSafe>=2.1.1 in /usr/local/lib/python3.10/dist-packages (from werkzeug>=1.0.1->tensorboard<2.12,>=2.11->tensorflow>=2.1.0->stellargraph==1.3.0b0) (2.1.3)\n",
            "Requirement already satisfied: pyasn1<0.6.0,>=0.4.6 in /usr/local/lib/python3.10/dist-packages (from pyasn1-modules>=0.2.1->google-auth<3,>=1.6.3->tensorboard<2.12,>=2.11->tensorflow>=2.1.0->stellargraph==1.3.0b0) (0.5.0)\n",
            "Requirement already satisfied: oauthlib>=3.0.0 in /usr/local/lib/python3.10/dist-packages (from requests-oauthlib>=0.7.0->google-auth-oauthlib<0.5,>=0.4.1->tensorboard<2.12,>=2.11->tensorflow>=2.1.0->stellargraph==1.3.0b0) (3.2.2)\n"
          ]
        }
      ],
      "source": [
        "!pip install git+https://github.com/VenkateshwaranB/stellargraph.git"
      ]
    },
    {
      "cell_type": "code",
      "execution_count": null,
      "metadata": {
        "colab": {
          "base_uri": "https://localhost:8080/",
          "height": 106
        },
        "id": "Ckf8hB6Cm_CS",
        "outputId": "4a7c993b-ae33-4c75-e9b1-47f8441a1723"
      },
      "outputs": [
        {
          "data": {
            "text/markdown": [
              "<div class=\"alert alert-block alert-danger\">This notebook is designed for an older StellarGraph version 1.2.1 and may not function correctly with the newer installed version 1.3.0b. Please see: <a href=\"https://github.com/stellargraph/stellargraph/issues/1172\">https://github.com/stellargraph/stellargraph/issues/1172</a>.</div>"
            ],
            "text/plain": [
              "<IPython.core.display.Markdown object>"
            ]
          },
          "metadata": {},
          "output_type": "display_data"
        },
        {
          "name": "stderr",
          "output_type": "stream",
          "text": [
            "<ipython-input-4-670eaa390d98>:5: DeprecationWarning: This notebook is designed for an older StellarGraph version 1.2.1 and may not function correctly with the newer installed version 1.3.0b. Please see: <https://github.com/stellargraph/stellargraph/issues/1172>.\n",
            "  sg.utils.validate_notebook_version(\"1.2.1\")\n"
          ]
        }
      ],
      "source": [
        "import networkx as nx\n",
        "import stellargraph as sg\n",
        "\n",
        "try:\n",
        "    sg.utils.validate_notebook_version(\"1.2.1\")\n",
        "except AttributeError:\n",
        "    raise ValueError(\n",
        "        f\"This notebook requires StellarGraph version 1.2.1, but a different version {sg.__version__} is installed.  Please see <https://github.com/stellargraph/stellargraph/issues/1172>.\"\n",
        "    ) from None"
      ]
    },
    {
      "cell_type": "code",
      "execution_count": null,
      "metadata": {
        "colab": {
          "base_uri": "https://localhost:8080/"
        },
        "id": "Rfds7yCKouU3",
        "outputId": "f70ae841-80d4-404f-ddc7-b0ea74d104d8"
      },
      "outputs": [
        {
          "name": "stdout",
          "output_type": "stream",
          "text": [
            "Looking in links: https://data.dgl.ai/wheels/cu118/repo.html\n",
            "Collecting dgl\n",
            "  Downloading https://data.dgl.ai/wheels/cu118/dgl-1.1.1%2Bcu118-cp310-cp310-manylinux1_x86_64.whl (86.8 MB)\n",
            "\u001b[2K     \u001b[90m━━━━━━━━━━━━━━━━━━━━━━━━━━━━━━━━━━━━━━━━\u001b[0m \u001b[32m86.8/86.8 MB\u001b[0m \u001b[31m8.7 MB/s\u001b[0m eta \u001b[36m0:00:00\u001b[0m\n",
            "\u001b[?25hRequirement already satisfied: numpy>=1.14.0 in /usr/local/lib/python3.10/dist-packages (from dgl) (1.22.4)\n",
            "Requirement already satisfied: scipy>=1.1.0 in /usr/local/lib/python3.10/dist-packages (from dgl) (1.10.1)\n",
            "Requirement already satisfied: networkx>=2.1 in /usr/local/lib/python3.10/dist-packages (from dgl) (3.1)\n",
            "Requirement already satisfied: requests>=2.19.0 in /usr/local/lib/python3.10/dist-packages (from dgl) (2.27.1)\n",
            "Requirement already satisfied: tqdm in /usr/local/lib/python3.10/dist-packages (from dgl) (4.65.0)\n",
            "Requirement already satisfied: psutil>=5.8.0 in /usr/local/lib/python3.10/dist-packages (from dgl) (5.9.5)\n",
            "Requirement already satisfied: urllib3<1.27,>=1.21.1 in /usr/local/lib/python3.10/dist-packages (from requests>=2.19.0->dgl) (1.26.16)\n",
            "Requirement already satisfied: certifi>=2017.4.17 in /usr/local/lib/python3.10/dist-packages (from requests>=2.19.0->dgl) (2023.5.7)\n",
            "Requirement already satisfied: charset-normalizer~=2.0.0 in /usr/local/lib/python3.10/dist-packages (from requests>=2.19.0->dgl) (2.0.12)\n",
            "Requirement already satisfied: idna<4,>=2.5 in /usr/local/lib/python3.10/dist-packages (from requests>=2.19.0->dgl) (3.4)\n",
            "Installing collected packages: dgl\n",
            "Successfully installed dgl-1.1.1+cu118\n",
            "Looking in links: https://data.dgl.ai/wheels-test/repo.html\n",
            "Collecting dglgo\n",
            "  Downloading dglgo-0.0.2-py3-none-any.whl (63 kB)\n",
            "\u001b[2K     \u001b[90m━━━━━━━━━━━━━━━━━━━━━━━━━━━━━━━━━━━━━━━━\u001b[0m \u001b[32m63.5/63.5 kB\u001b[0m \u001b[31m3.3 MB/s\u001b[0m eta \u001b[36m0:00:00\u001b[0m\n",
            "\u001b[?25hRequirement already satisfied: typer>=0.4.0 in /usr/local/lib/python3.10/dist-packages (from dglgo) (0.9.0)\n",
            "Collecting isort>=5.10.1 (from dglgo)\n",
            "  Downloading isort-5.12.0-py3-none-any.whl (91 kB)\n",
            "\u001b[2K     \u001b[90m━━━━━━━━━━━━━━━━━━━━━━━━━━━━━━━━━━━━━━━━\u001b[0m \u001b[32m91.2/91.2 kB\u001b[0m \u001b[31m6.6 MB/s\u001b[0m eta \u001b[36m0:00:00\u001b[0m\n",
            "\u001b[?25hCollecting autopep8>=1.6.0 (from dglgo)\n",
            "  Downloading autopep8-2.0.2-py2.py3-none-any.whl (45 kB)\n",
            "\u001b[2K     \u001b[90m━━━━━━━━━━━━━━━━━━━━━━━━━━━━━━━━━━━━━━━━\u001b[0m \u001b[32m45.2/45.2 kB\u001b[0m \u001b[31m5.3 MB/s\u001b[0m eta \u001b[36m0:00:00\u001b[0m\n",
            "\u001b[?25hCollecting numpydoc>=1.1.0 (from dglgo)\n",
            "  Downloading numpydoc-1.5.0-py3-none-any.whl (52 kB)\n",
            "\u001b[2K     \u001b[90m━━━━━━━━━━━━━━━━━━━━━━━━━━━━━━━━━━━━━━━━\u001b[0m \u001b[32m52.4/52.4 kB\u001b[0m \u001b[31m5.9 MB/s\u001b[0m eta \u001b[36m0:00:00\u001b[0m\n",
            "\u001b[?25hRequirement already satisfied: pydantic>=1.9.0 in /usr/local/lib/python3.10/dist-packages (from dglgo) (1.10.11)\n",
            "Collecting ruamel.yaml>=0.17.20 (from dglgo)\n",
            "  Downloading ruamel.yaml-0.17.32-py3-none-any.whl (112 kB)\n",
            "\u001b[2K     \u001b[90m━━━━━━━━━━━━━━━━━━━━━━━━━━━━━━━━━━━━━━━\u001b[0m \u001b[32m112.2/112.2 kB\u001b[0m \u001b[31m7.5 MB/s\u001b[0m eta \u001b[36m0:00:00\u001b[0m\n",
            "\u001b[?25hRequirement already satisfied: PyYAML>=5.1 in /usr/local/lib/python3.10/dist-packages (from dglgo) (6.0)\n",
            "Collecting ogb>=1.3.3 (from dglgo)\n",
            "  Downloading ogb-1.3.6-py3-none-any.whl (78 kB)\n",
            "\u001b[2K     \u001b[90m━━━━━━━━━━━━━━━━━━━━━━━━━━━━━━━━━━━━━━━━\u001b[0m \u001b[32m78.8/78.8 kB\u001b[0m \u001b[31m7.9 MB/s\u001b[0m eta \u001b[36m0:00:00\u001b[0m\n",
            "\u001b[?25hCollecting rdkit-pypi (from dglgo)\n",
            "  Downloading rdkit_pypi-2022.9.5-cp310-cp310-manylinux_2_17_x86_64.manylinux2014_x86_64.whl (29.4 MB)\n",
            "\u001b[2K     \u001b[90m━━━━━━━━━━━━━━━━━━━━━━━━━━━━━━━━━━━━━━━━\u001b[0m \u001b[32m29.4/29.4 MB\u001b[0m \u001b[31m46.4 MB/s\u001b[0m eta \u001b[36m0:00:00\u001b[0m\n",
            "\u001b[?25hRequirement already satisfied: scikit-learn>=0.20.0 in /usr/local/lib/python3.10/dist-packages (from dglgo) (1.2.2)\n",
            "Collecting pycodestyle>=2.10.0 (from autopep8>=1.6.0->dglgo)\n",
            "  Downloading pycodestyle-2.10.0-py2.py3-none-any.whl (41 kB)\n",
            "\u001b[2K     \u001b[90m━━━━━━━━━━━━━━━━━━━━━━━━━━━━━━━━━━━━━━━━\u001b[0m \u001b[32m41.3/41.3 kB\u001b[0m \u001b[31m4.4 MB/s\u001b[0m eta \u001b[36m0:00:00\u001b[0m\n",
            "\u001b[?25hRequirement already satisfied: tomli in /usr/local/lib/python3.10/dist-packages (from autopep8>=1.6.0->dglgo) (2.0.1)\n",
            "Collecting sphinx>=4.2 (from numpydoc>=1.1.0->dglgo)\n",
            "  Downloading sphinx-7.0.1-py3-none-any.whl (3.0 MB)\n",
            "\u001b[2K     \u001b[90m━━━━━━━━━━━━━━━━━━━━━━━━━━━━━━━━━━━━━━━━\u001b[0m \u001b[32m3.0/3.0 MB\u001b[0m \u001b[31m118.3 MB/s\u001b[0m eta \u001b[36m0:00:00\u001b[0m\n",
            "\u001b[?25hRequirement already satisfied: Jinja2>=2.10 in /usr/local/lib/python3.10/dist-packages (from numpydoc>=1.1.0->dglgo) (3.1.2)\n",
            "Requirement already satisfied: torch>=1.6.0 in /usr/local/lib/python3.10/dist-packages (from ogb>=1.3.3->dglgo) (2.0.1+cu118)\n",
            "Requirement already satisfied: numpy>=1.16.0 in /usr/local/lib/python3.10/dist-packages (from ogb>=1.3.3->dglgo) (1.22.4)\n",
            "Requirement already satisfied: tqdm>=4.29.0 in /usr/local/lib/python3.10/dist-packages (from ogb>=1.3.3->dglgo) (4.65.0)\n",
            "Requirement already satisfied: pandas>=0.24.0 in /usr/local/lib/python3.10/dist-packages (from ogb>=1.3.3->dglgo) (1.5.3)\n",
            "Requirement already satisfied: six>=1.12.0 in /usr/local/lib/python3.10/dist-packages (from ogb>=1.3.3->dglgo) (1.16.0)\n",
            "Requirement already satisfied: urllib3>=1.24.0 in /usr/local/lib/python3.10/dist-packages (from ogb>=1.3.3->dglgo) (1.26.16)\n",
            "Collecting outdated>=0.2.0 (from ogb>=1.3.3->dglgo)\n",
            "  Downloading outdated-0.2.2-py2.py3-none-any.whl (7.5 kB)\n",
            "Requirement already satisfied: typing-extensions>=4.2.0 in /usr/local/lib/python3.10/dist-packages (from pydantic>=1.9.0->dglgo) (4.7.1)\n",
            "Collecting ruamel.yaml.clib>=0.2.7 (from ruamel.yaml>=0.17.20->dglgo)\n",
            "  Downloading ruamel.yaml.clib-0.2.7-cp310-cp310-manylinux_2_17_x86_64.manylinux2014_x86_64.manylinux_2_24_x86_64.whl (485 kB)\n",
            "\u001b[2K     \u001b[90m━━━━━━━━━━━━━━━━━━━━━━━━━━━━━━━━━━━━━━\u001b[0m \u001b[32m485.6/485.6 kB\u001b[0m \u001b[31m38.4 MB/s\u001b[0m eta \u001b[36m0:00:00\u001b[0m\n",
            "\u001b[?25hRequirement already satisfied: scipy>=1.3.2 in /usr/local/lib/python3.10/dist-packages (from scikit-learn>=0.20.0->dglgo) (1.10.1)\n",
            "Requirement already satisfied: joblib>=1.1.1 in /usr/local/lib/python3.10/dist-packages (from scikit-learn>=0.20.0->dglgo) (1.3.1)\n",
            "Requirement already satisfied: threadpoolctl>=2.0.0 in /usr/local/lib/python3.10/dist-packages (from scikit-learn>=0.20.0->dglgo) (3.1.0)\n",
            "Requirement already satisfied: click<9.0.0,>=7.1.1 in /usr/local/lib/python3.10/dist-packages (from typer>=0.4.0->dglgo) (8.1.4)\n",
            "Requirement already satisfied: Pillow in /usr/local/lib/python3.10/dist-packages (from rdkit-pypi->dglgo) (8.4.0)\n",
            "Requirement already satisfied: MarkupSafe>=2.0 in /usr/local/lib/python3.10/dist-packages (from Jinja2>=2.10->numpydoc>=1.1.0->dglgo) (2.1.3)\n",
            "Requirement already satisfied: setuptools>=44 in /usr/local/lib/python3.10/dist-packages (from outdated>=0.2.0->ogb>=1.3.3->dglgo) (67.7.2)\n",
            "Collecting littleutils (from outdated>=0.2.0->ogb>=1.3.3->dglgo)\n",
            "  Downloading littleutils-0.2.2.tar.gz (6.6 kB)\n",
            "  Preparing metadata (setup.py) ... \u001b[?25l\u001b[?25hdone\n",
            "Requirement already satisfied: requests in /usr/local/lib/python3.10/dist-packages (from outdated>=0.2.0->ogb>=1.3.3->dglgo) (2.27.1)\n",
            "Requirement already satisfied: python-dateutil>=2.8.1 in /usr/local/lib/python3.10/dist-packages (from pandas>=0.24.0->ogb>=1.3.3->dglgo) (2.8.2)\n",
            "Requirement already satisfied: pytz>=2020.1 in /usr/local/lib/python3.10/dist-packages (from pandas>=0.24.0->ogb>=1.3.3->dglgo) (2022.7.1)\n",
            "Requirement already satisfied: sphinxcontrib-applehelp in /usr/local/lib/python3.10/dist-packages (from sphinx>=4.2->numpydoc>=1.1.0->dglgo) (1.0.4)\n",
            "Requirement already satisfied: sphinxcontrib-devhelp in /usr/local/lib/python3.10/dist-packages (from sphinx>=4.2->numpydoc>=1.1.0->dglgo) (1.0.2)\n",
            "Requirement already satisfied: sphinxcontrib-jsmath in /usr/local/lib/python3.10/dist-packages (from sphinx>=4.2->numpydoc>=1.1.0->dglgo) (1.0.1)\n",
            "Requirement already satisfied: sphinxcontrib-htmlhelp>=2.0.0 in /usr/local/lib/python3.10/dist-packages (from sphinx>=4.2->numpydoc>=1.1.0->dglgo) (2.0.1)\n",
            "Requirement already satisfied: sphinxcontrib-serializinghtml>=1.1.5 in /usr/local/lib/python3.10/dist-packages (from sphinx>=4.2->numpydoc>=1.1.0->dglgo) (1.1.5)\n",
            "Requirement already satisfied: sphinxcontrib-qthelp in /usr/local/lib/python3.10/dist-packages (from sphinx>=4.2->numpydoc>=1.1.0->dglgo) (1.0.3)\n",
            "Requirement already satisfied: Pygments>=2.13 in /usr/local/lib/python3.10/dist-packages (from sphinx>=4.2->numpydoc>=1.1.0->dglgo) (2.14.0)\n",
            "Collecting docutils<0.21,>=0.18.1 (from sphinx>=4.2->numpydoc>=1.1.0->dglgo)\n",
            "  Downloading docutils-0.20.1-py3-none-any.whl (572 kB)\n",
            "\u001b[2K     \u001b[90m━━━━━━━━━━━━━━━━━━━━━━━━━━━━━━━━━━━━━━\u001b[0m \u001b[32m572.7/572.7 kB\u001b[0m \u001b[31m43.7 MB/s\u001b[0m eta \u001b[36m0:00:00\u001b[0m\n",
            "\u001b[?25hRequirement already satisfied: snowballstemmer>=2.0 in /usr/local/lib/python3.10/dist-packages (from sphinx>=4.2->numpydoc>=1.1.0->dglgo) (2.2.0)\n",
            "Requirement already satisfied: babel>=2.9 in /usr/local/lib/python3.10/dist-packages (from sphinx>=4.2->numpydoc>=1.1.0->dglgo) (2.12.1)\n",
            "Requirement already satisfied: alabaster<0.8,>=0.7 in /usr/local/lib/python3.10/dist-packages (from sphinx>=4.2->numpydoc>=1.1.0->dglgo) (0.7.13)\n",
            "Requirement already satisfied: imagesize>=1.3 in /usr/local/lib/python3.10/dist-packages (from sphinx>=4.2->numpydoc>=1.1.0->dglgo) (1.4.1)\n",
            "Requirement already satisfied: packaging>=21.0 in /usr/local/lib/python3.10/dist-packages (from sphinx>=4.2->numpydoc>=1.1.0->dglgo) (23.1)\n",
            "Requirement already satisfied: filelock in /usr/local/lib/python3.10/dist-packages (from torch>=1.6.0->ogb>=1.3.3->dglgo) (3.12.2)\n",
            "Requirement already satisfied: sympy in /usr/local/lib/python3.10/dist-packages (from torch>=1.6.0->ogb>=1.3.3->dglgo) (1.11.1)\n",
            "Requirement already satisfied: networkx in /usr/local/lib/python3.10/dist-packages (from torch>=1.6.0->ogb>=1.3.3->dglgo) (3.1)\n",
            "Requirement already satisfied: triton==2.0.0 in /usr/local/lib/python3.10/dist-packages (from torch>=1.6.0->ogb>=1.3.3->dglgo) (2.0.0)\n",
            "Requirement already satisfied: cmake in /usr/local/lib/python3.10/dist-packages (from triton==2.0.0->torch>=1.6.0->ogb>=1.3.3->dglgo) (3.25.2)\n",
            "Requirement already satisfied: lit in /usr/local/lib/python3.10/dist-packages (from triton==2.0.0->torch>=1.6.0->ogb>=1.3.3->dglgo) (16.0.6)\n",
            "Requirement already satisfied: certifi>=2017.4.17 in /usr/local/lib/python3.10/dist-packages (from requests->outdated>=0.2.0->ogb>=1.3.3->dglgo) (2023.5.7)\n",
            "Requirement already satisfied: charset-normalizer~=2.0.0 in /usr/local/lib/python3.10/dist-packages (from requests->outdated>=0.2.0->ogb>=1.3.3->dglgo) (2.0.12)\n",
            "Requirement already satisfied: idna<4,>=2.5 in /usr/local/lib/python3.10/dist-packages (from requests->outdated>=0.2.0->ogb>=1.3.3->dglgo) (3.4)\n",
            "Requirement already satisfied: mpmath>=0.19 in /usr/local/lib/python3.10/dist-packages (from sympy->torch>=1.6.0->ogb>=1.3.3->dglgo) (1.3.0)\n",
            "Building wheels for collected packages: littleutils\n",
            "  Building wheel for littleutils (setup.py) ... \u001b[?25l\u001b[?25hdone\n",
            "  Created wheel for littleutils: filename=littleutils-0.2.2-py3-none-any.whl size=7029 sha256=3a7ae4578443b4cad67210e7bf5fbfe43006c1b806b233e172ed60daed380deb\n",
            "  Stored in directory: /root/.cache/pip/wheels/3d/fe/b0/27a9892da57472e538c7452a721a9cf463cc03cf7379889266\n",
            "Successfully built littleutils\n",
            "Installing collected packages: littleutils, ruamel.yaml.clib, rdkit-pypi, pycodestyle, isort, docutils, sphinx, ruamel.yaml, outdated, autopep8, numpydoc, ogb, dglgo\n",
            "  Attempting uninstall: docutils\n",
            "    Found existing installation: docutils 0.16\n",
            "    Uninstalling docutils-0.16:\n",
            "      Successfully uninstalled docutils-0.16\n",
            "  Attempting uninstall: sphinx\n",
            "    Found existing installation: Sphinx 3.5.4\n",
            "    Uninstalling Sphinx-3.5.4:\n",
            "      Successfully uninstalled Sphinx-3.5.4\n",
            "Successfully installed autopep8-2.0.2 dglgo-0.0.2 docutils-0.20.1 isort-5.12.0 littleutils-0.2.2 numpydoc-1.5.0 ogb-1.3.6 outdated-0.2.2 pycodestyle-2.10.0 rdkit-pypi-2022.9.5 ruamel.yaml-0.17.32 ruamel.yaml.clib-0.2.7 sphinx-7.0.1\n"
          ]
        }
      ],
      "source": [
        "# If you have installed dgl-cuXX package, please uninstall it first.\n",
        "!pip install  dgl -f https://data.dgl.ai/wheels/cu118/repo.html\n",
        "!pip install  dglgo -f https://data.dgl.ai/wheels-test/repo.html"
      ]
    },
    {
      "cell_type": "code",
      "execution_count": null,
      "metadata": {
        "colab": {
          "base_uri": "https://localhost:8080/",
          "height": 398
        },
        "id": "UV_388BkpIBu",
        "outputId": "cb153313-397e-4715-fea6-b3dbbb3cceb5"
      },
      "outputs": [
        {
          "name": "stdout",
          "output_type": "stream",
          "text": [
            "Collecting node2vec\n",
            "  Downloading node2vec-0.4.6-py3-none-any.whl (7.0 kB)\n",
            "Requirement already satisfied: gensim<5.0.0,>=4.1.2 in /usr/local/lib/python3.10/dist-packages (from node2vec) (4.3.1)\n",
            "Requirement already satisfied: joblib<2.0.0,>=1.1.0 in /usr/local/lib/python3.10/dist-packages (from node2vec) (1.3.1)\n",
            "Collecting networkx<3.0,>=2.5 (from node2vec)\n",
            "  Downloading networkx-2.8.8-py3-none-any.whl (2.0 MB)\n",
            "\u001b[2K     \u001b[90m━━━━━━━━━━━━━━━━━━━━━━━━━━━━━━━━━━━━━━━━\u001b[0m \u001b[32m2.0/2.0 MB\u001b[0m \u001b[31m35.3 MB/s\u001b[0m eta \u001b[36m0:00:00\u001b[0m\n",
            "\u001b[?25hRequirement already satisfied: numpy<2.0.0,>=1.19.5 in /usr/local/lib/python3.10/dist-packages (from node2vec) (1.22.4)\n",
            "Requirement already satisfied: tqdm<5.0.0,>=4.55.1 in /usr/local/lib/python3.10/dist-packages (from node2vec) (4.65.0)\n",
            "Requirement already satisfied: scipy>=1.7.0 in /usr/local/lib/python3.10/dist-packages (from gensim<5.0.0,>=4.1.2->node2vec) (1.10.1)\n",
            "Requirement already satisfied: smart-open>=1.8.1 in /usr/local/lib/python3.10/dist-packages (from gensim<5.0.0,>=4.1.2->node2vec) (6.3.0)\n",
            "Installing collected packages: networkx, node2vec\n",
            "  Attempting uninstall: networkx\n",
            "    Found existing installation: networkx 3.1\n",
            "    Uninstalling networkx-3.1:\n",
            "      Successfully uninstalled networkx-3.1\n",
            "Successfully installed networkx-2.8.8 node2vec-0.4.6\n"
          ]
        },
        {
          "data": {
            "application/vnd.colab-display-data+json": {
              "pip_warning": {
                "packages": [
                  "networkx"
                ]
              }
            }
          },
          "metadata": {},
          "output_type": "display_data"
        }
      ],
      "source": [
        "!pip install node2vec"
      ]
    },
    {
      "cell_type": "code",
      "execution_count": null,
      "metadata": {
        "colab": {
          "base_uri": "https://localhost:8080/"
        },
        "id": "GqoW7FhPozBW",
        "outputId": "61a7aa87-ebb1-49d4-faff-992cb664d26c"
      },
      "outputs": [
        {
          "name": "stderr",
          "output_type": "stream",
          "text": [
            "DGL backend not selected or invalid.  Assuming PyTorch for now.\n"
          ]
        },
        {
          "name": "stdout",
          "output_type": "stream",
          "text": [
            "Setting the default backend to \"pytorch\". You can change it in the ~/.dgl/config.json file or export the DGLBACKEND environment variable.  Valid options are: pytorch, mxnet, tensorflow (all lowercase)\n"
          ]
        }
      ],
      "source": [
        "import dgl\n",
        "import torch\n",
        "import torch.nn as nn\n",
        "import dgl.nn.pytorch as dglnn\n",
        "import os\n",
        "os.environ[\"DGLBACKEND\"] = \"pytorch\"\n",
        "import numpy as np\n",
        "import networkx as nx\n",
        "import random\n",
        "from typing import List\n",
        "from tqdm import tqdm\n",
        "from gensim.models.word2vec import Word2Vec\n",
        "from node2vec import Node2Vec\n",
        "import json"
      ]
    },
    {
      "cell_type": "code",
      "execution_count": null,
      "metadata": {
        "id": "WbGYIqIfo3qe"
      },
      "outputs": [],
      "source": [
        "import torch\n",
        "from dgl.data import CoraGraphDataset\n",
        "from dgl.nn import DeepWalk\n",
        "from torch.optim import SparseAdam\n",
        "from torch.utils.data import DataLoader\n",
        "from sklearn.linear_model import LogisticRegression"
      ]
    },
    {
      "cell_type": "code",
      "execution_count": null,
      "metadata": {
        "colab": {
          "base_uri": "https://localhost:8080/"
        },
        "id": "BDgmmdNDoTaA",
        "outputId": "b622ecdb-4b38-4ad0-d4e6-9a40b901172a"
      },
      "outputs": [
        {
          "data": {
            "text/plain": [
              "Graph(num_nodes=5186, num_edges=40662,\n",
              "      ndata_schemes={}\n",
              "      edata_schemes={})"
            ]
          },
          "execution_count": 9,
          "metadata": {},
          "output_type": "execute_result"
        }
      ],
      "source": [
        "(g,), _ = dgl.load_graphs('/content/drive/MyDrive/graph.dgl')\n",
        "g"
      ]
    },
    {
      "cell_type": "code",
      "execution_count": null,
      "metadata": {
        "colab": {
          "base_uri": "https://localhost:8080/",
          "height": 52
        },
        "id": "y3zFnN6y9bYD",
        "outputId": "0e9f952e-bc4c-441b-9607-b4ed9c7fcd4a"
      },
      "outputs": [
        {
          "data": {
            "text/html": [
              "The Cora dataset consists of 2708 scientific publications classified into one of seven classes. The citation network consists of 5429 links. Each publication in the dataset is described by a 0/1-valued word vector indicating the absence/presence of the corresponding word from the dictionary. The dictionary consists of 1433 unique words."
            ],
            "text/plain": [
              "<IPython.core.display.HTML object>"
            ]
          },
          "metadata": {},
          "output_type": "display_data"
        }
      ],
      "source": [
        "dataset = datasets.Cora()\n",
        "display(HTML(dataset.description))\n",
        "G, subjects = dataset.load(largest_connected_component_only=True)"
      ]
    },
    {
      "cell_type": "code",
      "execution_count": null,
      "metadata": {
        "colab": {
          "base_uri": "https://localhost:8080/"
        },
        "id": "-Btons4b9vxT",
        "outputId": "f41d48d9-110f-4b74-c67a-552b091489da"
      },
      "outputs": [
        {
          "name": "stdout",
          "output_type": "stream",
          "text": [
            "StellarGraph: Undirected multigraph\n",
            " Nodes: 2485, Edges: 5209\n",
            "\n",
            " Node types:\n",
            "  paper: [2485]\n",
            "    Features: float32 vector, length 1433\n",
            "    Edge types: paper-cites->paper\n",
            "\n",
            " Edge types:\n",
            "    paper-cites->paper: [5209]\n",
            "        Weights: all 1 (default)\n",
            "        Features: none\n"
          ]
        }
      ],
      "source": [
        "print(G.info())"
      ]
    },
    {
      "cell_type": "code",
      "execution_count": null,
      "metadata": {
        "colab": {
          "base_uri": "https://localhost:8080/"
        },
        "id": "9Vga6lwj9jmi",
        "outputId": "803f3b94-d897-4e8a-a32e-2d0877559dfc"
      },
      "outputs": [
        {
          "data": {
            "text/plain": [
              "Int64Index([  31336, 1061127, 1106406,   13195,   37879, 1126012, 1107140,\n",
              "            1102850,   31349, 1106418,\n",
              "            ...\n",
              "             767763,  152226,  152227, 1131180, 1128974, 1128975, 1128977,\n",
              "            1128978,  117328,   24043],\n",
              "           dtype='int64', length=2485)"
            ]
          },
          "execution_count": 30,
          "metadata": {},
          "output_type": "execute_result"
        }
      ],
      "source": [
        "subjects.index"
      ]
    },
    {
      "cell_type": "code",
      "execution_count": null,
      "metadata": {
        "id": "paUelCupognG"
      },
      "outputs": [],
      "source": [
        "nx_graph = dgl.to_networkx(g)"
      ]
    },
    {
      "cell_type": "code",
      "execution_count": null,
      "metadata": {
        "id": "oqh8zGyxpeqG"
      },
      "outputs": [],
      "source": [
        "graph = sg.StellarGraph.from_networkx(nx_graph)"
      ]
    },
    {
      "cell_type": "code",
      "execution_count": null,
      "metadata": {
        "colab": {
          "base_uri": "https://localhost:8080/",
          "height": 53
        },
        "id": "5Vx7FvzRpf72",
        "outputId": "b3a70866-323f-46ff-9652-649a4928e857"
      },
      "outputs": [
        {
          "data": {
            "application/vnd.google.colaboratory.intrinsic+json": {
              "type": "string"
            },
            "text/plain": [
              "'StellarDiGraph: Directed multigraph\\n Nodes: 5186, Edges: 40662\\n\\n Node types:\\n  default: [5186]\\n    Features: none\\n    Edge types: default-default->default\\n\\n Edge types:\\n    default-default->default: [40662]\\n        Weights: all 1 (default)\\n        Features: none'"
            ]
          },
          "execution_count": 12,
          "metadata": {},
          "output_type": "execute_result"
        }
      ],
      "source": [
        "graph.info()"
      ]
    },
    {
      "cell_type": "code",
      "execution_count": null,
      "metadata": {
        "id": "kpSd7y5Jq9he"
      },
      "outputs": [],
      "source": [
        "import matplotlib.pyplot as plt\n",
        "\n",
        "from sklearn.manifold import TSNE\n",
        "\n",
        "import os\n",
        "import networkx as nx\n",
        "import numpy as np\n",
        "import pandas as pd\n",
        "from tensorflow import keras\n",
        "\n",
        "from stellargraph import StellarGraph\n",
        "from stellargraph.data import BiasedRandomWalk\n",
        "from stellargraph.data import UnsupervisedSampler\n",
        "from stellargraph.data import BiasedRandomWalk\n",
        "from stellargraph.mapper import Node2VecLinkGenerator, Node2VecNodeGenerator\n",
        "from stellargraph.layer import Node2Vec, link_classification\n",
        "\n",
        "from stellargraph import datasets\n",
        "from IPython.display import display, HTML\n",
        "\n",
        "%matplotlib inline"
      ]
    },
    {
      "cell_type": "code",
      "execution_count": null,
      "metadata": {
        "id": "2BZvSLdyrOHF"
      },
      "outputs": [],
      "source": [
        "G = graph"
      ]
    },
    {
      "cell_type": "code",
      "execution_count": null,
      "metadata": {
        "colab": {
          "base_uri": "https://localhost:8080/"
        },
        "id": "zMFpg65rrQu-",
        "outputId": "2e8d382d-6efd-4d7c-ea58-41603c95e3cd"
      },
      "outputs": [
        {
          "name": "stdout",
          "output_type": "stream",
          "text": [
            "StellarDiGraph: Directed multigraph\n",
            " Nodes: 5186, Edges: 40662\n",
            "\n",
            " Node types:\n",
            "  default: [5186]\n",
            "    Features: none\n",
            "    Edge types: default-default->default\n",
            "\n",
            " Edge types:\n",
            "    default-default->default: [40662]\n",
            "        Weights: all 1 (default)\n",
            "        Features: none\n"
          ]
        }
      ],
      "source": [
        "print(G.info())"
      ]
    },
    {
      "cell_type": "code",
      "execution_count": null,
      "metadata": {
        "id": "xiONd7R8rSFk"
      },
      "outputs": [],
      "source": [
        "walk_number = 100\n",
        "walk_length = 5"
      ]
    },
    {
      "cell_type": "code",
      "execution_count": null,
      "metadata": {
        "id": "jIXMMmxTrVJV"
      },
      "outputs": [],
      "source": [
        "walker = BiasedRandomWalk(\n",
        "    G,\n",
        "    n=walk_number,\n",
        "    length=walk_length,\n",
        "    p=0.5,  # defines probability, 1/p, of returning to source node\n",
        "    q=2.0,  # defines probability, 1/q, for moving to a node away from the source node\n",
        ")"
      ]
    },
    {
      "cell_type": "code",
      "execution_count": null,
      "metadata": {
        "id": "b1LHszELrW7t"
      },
      "outputs": [],
      "source": [
        "unsupervised_samples = UnsupervisedSampler(G, nodes=list(G.nodes()), walker=walker)"
      ]
    },
    {
      "cell_type": "code",
      "execution_count": null,
      "metadata": {
        "id": "lrpfGfp1rZJN"
      },
      "outputs": [],
      "source": [
        "batch_size = 50\n",
        "epochs = 2"
      ]
    },
    {
      "cell_type": "code",
      "execution_count": null,
      "metadata": {
        "id": "hKwiNgLyraz9"
      },
      "outputs": [],
      "source": [
        "generator = Node2VecLinkGenerator(G, batch_size)"
      ]
    },
    {
      "cell_type": "code",
      "execution_count": null,
      "metadata": {
        "id": "0qSWjQuSrccG"
      },
      "outputs": [],
      "source": [
        "emb_size = 128\n",
        "node2vec = Node2Vec(emb_size, generator=generator)"
      ]
    },
    {
      "cell_type": "code",
      "execution_count": null,
      "metadata": {
        "id": "oGC7oIPurdvt"
      },
      "outputs": [],
      "source": [
        "x_inp, x_out = node2vec.in_out_tensors()"
      ]
    },
    {
      "cell_type": "code",
      "execution_count": null,
      "metadata": {
        "colab": {
          "base_uri": "https://localhost:8080/"
        },
        "id": "9yVUJZSyrfLt",
        "outputId": "d7aa67b3-8a7f-4608-9f8b-65c94f6ff752"
      },
      "outputs": [
        {
          "name": "stdout",
          "output_type": "stream",
          "text": [
            "link_classification: using 'dot' method to combine node embeddings into edge embeddings\n"
          ]
        }
      ],
      "source": [
        "prediction = link_classification(\n",
        "    output_dim=1, output_act=\"sigmoid\", edge_embedding_method=\"dot\"\n",
        ")(x_out)"
      ]
    },
    {
      "cell_type": "code",
      "execution_count": null,
      "metadata": {
        "colab": {
          "base_uri": "https://localhost:8080/"
        },
        "id": "9poroZRbrgtl",
        "outputId": "9938e877-e8a2-48b4-dd1c-92870e6d10c9"
      },
      "outputs": [
        {
          "name": "stderr",
          "output_type": "stream",
          "text": [
            "WARNING:absl:`lr` is deprecated, please use `learning_rate` instead, or use the legacy optimizer, e.g.,tf.keras.optimizers.legacy.Adam.\n"
          ]
        }
      ],
      "source": [
        "model = keras.Model(inputs=x_inp, outputs=prediction)\n",
        "\n",
        "model.compile(\n",
        "    optimizer=keras.optimizers.Adam(lr=1e-3),\n",
        "    loss=keras.losses.binary_crossentropy,\n",
        "    metrics=[keras.metrics.binary_accuracy],\n",
        ")"
      ]
    },
    {
      "cell_type": "code",
      "execution_count": null,
      "metadata": {
        "colab": {
          "base_uri": "https://localhost:8080/"
        },
        "id": "S134pzsLriON",
        "outputId": "249eeac8-3dbd-497a-a8e2-91658fdd9b68"
      },
      "outputs": [
        {
          "name": "stdout",
          "output_type": "stream",
          "text": [
            "Epoch 1/2\n",
            "82976/82976 [==============================] - 1683s 20ms/step - loss: 0.1763 - binary_accuracy: 0.9162\n",
            "Epoch 2/2\n",
            "82976/82976 [==============================] - 1654s 20ms/step - loss: 0.0836 - binary_accuracy: 0.9719\n"
          ]
        }
      ],
      "source": [
        "history = model.fit(\n",
        "    generator.flow(unsupervised_samples),\n",
        "    epochs=epochs,\n",
        "    verbose=1,\n",
        "    use_multiprocessing=False,\n",
        "    workers=4,\n",
        "    shuffle=True,\n",
        ")"
      ]
    },
    {
      "cell_type": "code",
      "execution_count": null,
      "metadata": {
        "id": "r6naBP2Irltl"
      },
      "outputs": [],
      "source": [
        "x_inp_src = x_inp[0]\n",
        "x_out_src = x_out[0]\n",
        "embedding_model = keras.Model(inputs=x_inp_src, outputs=x_out_src)"
      ]
    },
    {
      "cell_type": "code",
      "execution_count": null,
      "metadata": {
        "colab": {
          "base_uri": "https://localhost:8080/"
        },
        "id": "fjiM2pc3_3Cz",
        "outputId": "beaeb5d4-a446-4675-98e6-bbfbb589c477"
      },
      "outputs": [
        {
          "name": "stdout",
          "output_type": "stream",
          "text": [
            "StellarDiGraph: Directed multigraph\n",
            " Nodes: 5186, Edges: 40662\n",
            "\n",
            " Node types:\n",
            "  default: [5186]\n",
            "    Features: none\n",
            "    Edge types: default-default->default\n",
            "\n",
            " Edge types:\n",
            "    default-default->default: [40662]\n",
            "        Weights: all 1 (default)\n",
            "        Features: none\n"
          ]
        }
      ],
      "source": [
        "G = graph\n",
        "print(G.info())"
      ]
    },
    {
      "cell_type": "code",
      "execution_count": null,
      "metadata": {
        "colab": {
          "base_uri": "https://localhost:8080/"
        },
        "id": "k1TwbG-DAApT",
        "outputId": "0e67d31e-1e6b-47f2-eb22-ec3f97132738"
      },
      "outputs": [
        {
          "data": {
            "text/plain": [
              "Int64Index([   0,    1,    2,    3,    4,    5,    6,    7,    8,    9,\n",
              "            ...\n",
              "            5176, 5177, 5178, 5179, 5180, 5181, 5182, 5183, 5184, 5185],\n",
              "           dtype='int64', length=5186)"
            ]
          },
          "execution_count": 55,
          "metadata": {},
          "output_type": "execute_result"
        }
      ],
      "source": [
        "G.nodes()"
      ]
    },
    {
      "cell_type": "code",
      "execution_count": null,
      "metadata": {
        "colab": {
          "base_uri": "https://localhost:8080/"
        },
        "id": "ZGPtoX-b5Zns",
        "outputId": "88495bba-141b-4c42-8eb6-010c502a2853"
      },
      "outputs": [
        {
          "name": "stdout",
          "output_type": "stream",
          "text": [
            "104/104 [==============================] - 1s 4ms/step\n"
          ]
        }
      ],
      "source": [
        "node_gen = Node2VecNodeGenerator(G, batch_size).flow(series.index)\n",
        "node_embeddings = embedding_model.predict(node_gen, workers=4, verbose=1)"
      ]
    },
    {
      "cell_type": "code",
      "execution_count": null,
      "metadata": {
        "colab": {
          "base_uri": "https://localhost:8080/"
        },
        "id": "bPkIP4KJA9Ti",
        "outputId": "7af071e6-9fba-4b23-87e7-e3257564de4e"
      },
      "outputs": [
        {
          "data": {
            "text/plain": [
              "(5186, 128)"
            ]
          },
          "execution_count": 61,
          "metadata": {},
          "output_type": "execute_result"
        }
      ],
      "source": [
        "import numpy as np\n",
        "np.shape(node_embeddings)"
      ]
    },
    {
      "cell_type": "code",
      "execution_count": null,
      "metadata": {
        "id": "ApnkxHv7BLTE"
      },
      "outputs": [],
      "source": []
    },
    {
      "cell_type": "code",
      "execution_count": null,
      "metadata": {
        "id": "-qgA3AbArqVN"
      },
      "outputs": [],
      "source": [
        "transform = TSNE  # PCA\n",
        "\n",
        "trans = transform(n_components=2)\n",
        "node_embeddings_2d = trans.fit_transform(node_embeddings)"
      ]
    },
    {
      "cell_type": "code",
      "execution_count": null,
      "metadata": {
        "id": "vJVYNv-P974a"
      },
      "outputs": [],
      "source": []
    },
    {
      "cell_type": "code",
      "execution_count": null,
      "metadata": {
        "id": "aIb8o-Cx972i"
      },
      "outputs": [],
      "source": []
    },
    {
      "cell_type": "code",
      "execution_count": null,
      "metadata": {
        "colab": {
          "base_uri": "https://localhost:8080/"
        },
        "id": "MIoNtbxd970M",
        "outputId": "baa703a1-4644-4128-bcdb-dc8966287389"
      },
      "outputs": [
        {
          "name": "stdout",
          "output_type": "stream",
          "text": [
            "{'0': '321631653', '1': '18655355', '2': '2467720274', '3': '3176702526', '4': '24939978', '5': '1646856415', '6': '2932942216', '7': '766475610059317248', '8': '2909998207', '9': '59621769', '10': '15537302', '11': '908585996', '12': '295731821', '13': '17564591', '14': '966354844754894848', '15': '19417492', '16': '803694179079458816', '17': '58007320', '18': '2353605901', '19': '117718572', '20': '875029068223315968', '21': '929766290323058688', '22': '35218566', '23': '2619593276', '24': '36711022', '25': '46756474', '26': '31059230', '27': '27194034', '28': '4124770811', '29': '2964174789', '30': '827641495125688321', '31': '69176047', '32': '956702734920564736', '33': '430106077', '34': '1309193942', '35': '2745534376', '36': '1015843266384859141', '37': '3241707920', '38': '3836645961', '39': '1696503140', '40': '477342040', '41': '890585748315000832', '42': '69004966', '43': '934859209279238148', '44': '19877186', '45': '775899392268177409', '46': '1254645558', '47': '960994743357292544', '48': '15486485', '49': '792006970525880320', '50': '3095741260', '51': '784210425420316672', '52': '2483329075', '53': '346549154', '54': '407223771', '55': '733232251677364224', '56': '3124473681', '57': '727264708776980480', '58': '762327767295795200', '59': '1339835893', '60': '275139787', '61': '25073877', '62': '2547517884', '63': '1415709798', '64': '820354372827758592', '65': '1925388241', '66': '129235890', '67': '83739756', '68': '878087280321335298', '69': '480140091', '70': '21829541', '71': '2898227819', '72': '2155228908', '73': '2303839502', '74': '824320363257413633', '75': '2437161638', '76': '189917061', '77': '1603901210', '78': '247981000', '79': '2943304486', '80': '2273872578', '81': '594182606', '82': '950556292388663296', '83': '900891436219981824', '84': '75941972', '85': '2819730783', '86': '3293406121', '87': '42461756', '88': '8953122', '89': '796143947202510848', '90': '949934436', '91': '240107748', '92': '33540385', '93': '360086219', '94': '2392878835', '95': '444369428', '96': '225193809', '97': '3309375522', '98': '13218102', '99': '496503953', '100': '462104542', '101': '205385027', '102': '15791186', '103': '4804094293', '104': '11783502', '105': '1915033663', '106': '862493306382626818', '107': '456812100', '108': '6473022', '109': '2776643332', '110': '18978610', '111': '2751081982', '112': '964032914626359296', '113': '786685161970733056', '114': '2565886386', '115': '750673909', '116': '2398870964', '117': '476777640', '118': '953300769486331905', '119': '728321753479585792', '120': '424385350', '121': '28785486', '122': '86462514', '123': '2863996955', '124': '2947973327', '125': '18856867', '126': '800707492346925056', '127': '142929095', '128': '209176493', '129': '4730403444', '130': '796678296', '131': '1503671971', '132': '20098015', '133': '402259004', '134': '2421067430', '135': '787778457346318336', '136': '29501253', '137': '761327216898613249', '138': '18276341', '139': '767127878', '140': '45565185', '141': '891196068', '142': '54412900', '143': '3997870336', '144': '18956073', '145': '31122262', '146': '4651329203', '147': '1358520301', '148': '37535548', '149': '29198219', '150': '252751061', '151': '73548596', '152': '813286', '153': '4856066080', '154': '817661098988019712', '155': '808896385', '156': '926863126317948933', '157': '70015978', '158': '967027984426242053', '159': '2751869386', '160': '38902094', '161': '72905610', '162': '14216661', '163': '61798736', '164': '924906049253109761', '165': '22774951', '166': '1589251639', '167': '59203206', '168': '4445386337', '169': '274033842', '170': '27044229', '171': '375434404', '172': '789870587661262848', '173': '4845756074', '174': '220412723', '175': '736743462', '176': '7794142', '177': '930178296', '178': '56413858', '179': '115446248', '180': '810619093749559296', '181': '182692702', '182': '3497941', '183': '373601625', '184': '24506246', '185': '56726017', '186': '2735511486', '187': '833650770', '188': '441792136', '189': '237845487', '190': '1367531', '191': '25954099', '192': '844331849153331200', '193': '1917731', '194': '17626959', '195': '23602600', '196': '8738922', '197': '2260216071', '198': '918294031867793409', '199': '21632108', '200': '921951679955783680', '201': '4081106480', '202': '713351264508227584', '203': '716432228', '204': '16686144', '205': '1354432244', '206': '795324249129058304', '207': '756275043886309376', '208': '733043587', '209': '272599565', '210': '51241574', '211': '792083574140772353', '212': '182107650', '213': '23724083', '214': '65497475', '215': '18005085', '216': '951364134', '217': '2836421', '218': '584448570', '219': '841716426117386240', '220': '15752247', '221': '414962189', '222': '704183237015375872', '223': '1375289149', '224': '712672839745335296', '225': '2425571623', '226': '147878389', '227': '997682274', '228': '17142689', '229': '43921895', '230': '253355357', '231': '251927470', '232': '15808218', '233': '769753721647403008', '234': '4709795551', '235': '285070355', '236': '750689802', '237': '239005322', '238': '3481010957', '239': '16397147', '240': '1431328974', '241': '16041234', '242': '22741110', '243': '2750127259', '244': '4140639207', '245': '51241418', '246': '797698140807655424', '247': '888091668288876544', '248': '27124894', '249': '592730371', '250': '816718214369398784', '251': '759251', '252': '822527473451606016', '253': '22771961', '254': '712342794132586497', '255': '3243516226', '256': '4203920123', '257': '817382752731463680', '258': '990013123993194498', '259': '2424276972', '260': '947127860174704641', '261': '4855406915', '262': '800883578770857984', '263': '826561290848059393', '264': '1546132434', '265': '95588504', '266': '2378394366', '267': '1266057546', '268': '451626493', '269': '379373105', '270': '752304635348672512', '271': '771667154064158720', '272': '2980276503', '273': '2780845408', '274': '26657119', '275': '108494073', '276': '553991829', '277': '176564327', '278': '19489239', '279': '61015843', '280': '310893721', '281': '4765364386', '282': '1008969327909822464', '283': '997805946599542786', '284': '2773961686', '285': '292620313', '286': '2415275552', '287': '307340792', '288': '266487276', '289': '800168183415984128', '290': '2148244186', '291': '94529233', '292': '24733117', '293': '2427750386', '294': '972162448949116928', '295': '892116055048548354', '296': '97888378', '297': '236487888', '298': '852616353496346624', '299': '2804332645', '300': '951273849563369473', '301': '885361', '302': '885601772', '303': '26239721', '304': '19721715', '305': '20708260', '306': '3284112337', '307': '2966823342', '308': '17469289', '309': '260010205', '310': '945706076607000576', '311': '936732378529193985', '312': '87818409', '313': '3294569077', '314': '4647164287', '315': '755057897583804416', '316': '764904410313031680', '317': '275276082', '318': '32443514', '319': '13290282', '320': '18247062', '321': '331264371', '322': '836042147774234624', '323': '904866954934194178', '324': '192769408', '325': '627695524', '326': '396877040', '327': '1072261040', '328': '185542271', '329': '985395878', '330': '14294848', '331': '242729168', '332': '812156571845152768', '333': '23872098', '334': '364962406', '335': '757078971590651904', '336': '3929038325', '337': '1146358172', '338': '1249831310', '339': '813430316', '340': '69190453', '341': '3400036739', '342': '2833963987', '343': '512620444', '344': '913416571548205057', '345': '781292948176510976', '346': '4896347681', '347': '800086706678419456', '348': '22843167', '349': '30706941', '350': '800111181058838528', '351': '717275563', '352': '153529252', '353': '368196789', '354': '887363635692969984', '355': '3955904553', '356': '413513361', '357': '509699683', '358': '108683133', '359': '166751745', '360': '59909115', '361': '776170731256238080', '362': '22393263', '363': '835576710821261315', '364': '218325695', '365': '18912806', '366': '3056801436', '367': '2595290173', '368': '296565142', '369': '126383581', '370': '701344169848078336', '371': '2339917600', '372': '309510649', '373': '20585610', '374': '1436673007', '375': '776860630934360064', '376': '748446883', '377': '247161834', '378': '952401218340573185', '379': '1013540804827152386', '380': '785205256451923969', '381': '18286505', '382': '269795788', '383': '1163922031', '384': '708792951187632128', '385': '47697760', '386': '32936695', '387': '940947284199661570', '388': '266567093', '389': '1335397489', '390': '279774807', '391': '2757695505', '392': '86622682', '393': '921549044', '394': '891585048', '395': '949023014347268096', '396': '13133312', '397': '11134252', '398': '863092576316002308', '399': '26043187', '400': '170547167', '401': '4102376488', '402': '2552866040', '403': '888451397783625728', '404': '806653946240626688', '405': '246939630', '406': '806819710537007105', '407': '817942495287865348', '408': '39296597', '409': '177002206', '410': '4716906680', '411': '19173787', '412': '890392768404533248', '413': '1355334506', '414': '3013729680', '415': '906954694509051904', '416': '7702542', '417': '1069582045', '418': '2559934693', '419': '17879692', '420': '930516835', '421': '798953701972938752', '422': '979376914505793537', '423': '867947619661881344', '424': '811007544080662532', '425': '1106501', '426': '309320483', '427': '783484548264767488', '428': '34713362', '429': '977565912848101377', '430': '205864193', '431': '508454781', '432': '317385247', '433': '2382414115', '434': '756968537902682112', '435': '1617951475', '436': '2305856559', '437': '604940737', '438': '45974692', '439': '16076032', '440': '17830059', '441': '287409342', '442': '843818089', '443': '804810719124475904', '444': '3584892134', '445': '748206668115152896', '446': '16190478', '447': '22329855', '448': '975413016471719936', '449': '1322420269', '450': '774306164733542400', '451': '422894799', '452': '2761431445', '453': '42135117', '454': '180107694', '455': '46195728', '456': '510942432', '457': '244650352', '458': '16193222', '459': '3214630234', '460': '872278657300963328', '461': '786024508700319744', '462': '2330537508', '463': '93992192', '464': '949670117968875521', '465': '1518261', '466': '65174274', '467': '947939622037925893', '468': '16790394', '469': '397055388', '470': '114259310', '471': '1586139973', '472': '45191523', '473': '15007149', '474': '3424968443', '475': '13850422', '476': '827645780756426752', '477': '1102236132', '478': '22703645', '479': '202040904', '480': '568678633', '481': '18464266', '482': '21111999', '483': '81428340', '484': '965231053119148032', '485': '20883103', '486': '796824356924096512', '487': '3191477888', '488': '814602469498044418', '489': '15057589', '490': '16164856', '491': '986174356257693696', '492': '820378690920058880', '493': '566553506', '494': '88037937', '495': '200889851', '496': '605448416', '497': '42176166', '498': '82719255', '499': '17449583', '500': '32805361', '501': '938253847335784448', '502': '16056306', '503': '2876704776', '504': '818948638890217473', '505': '4875740127', '506': '251918778', '507': '205907933', '508': '611986351', '509': '3367909137', '510': '231510077', '511': '806972430724038656', '512': '26637348', '513': '1975541376', '514': '113758100', '515': '726239621068251136', '516': '155784594', '517': '570816602', '518': '14173315', '519': '23065616', '520': '991128865572573184', '521': '18576537', '522': '4691985930', '523': '912064087676383233', '524': '1154423766', '525': '488772327', '526': '48883553', '527': '34262462', '528': '168547637', '529': '1566929143', '530': '808534076860862465', '531': '865892444533141504', '532': '46846040', '533': '950051382', '534': '3078348404', '535': '917506874882318336', '536': '897498312919601152', '537': '54692602', '538': '822987556530876417', '539': '571845163', '540': '2919091926', '541': '19131127', '542': '3407098161', '543': '294300657', '544': '55395103', '545': '831712568565604352', '546': '822975747866312704', '547': '809842109339594752', '548': '956216538956206080', '549': '1554471684', '550': '4561626914', '551': '30031007', '552': '38029205', '553': '4734068946', '554': '25089812', '555': '213478296', '556': '57526462', '557': '818910970567344128', '558': '317532671', '559': '27673910', '560': '986402524705026049', '561': '27493883', '562': '230348811', '563': '11651202', '564': '51963275', '565': '78415303', '566': '2178681566', '567': '4794834798', '568': '16700555', '569': '1074738247', '570': '5558312', '571': '355498072', '572': '26997254', '573': '949335376946188288', '574': '812135885328236551', '575': '4214106723', '576': '964531745893863425', '577': '479257253', '578': '19416833', '579': '890698350802153474', '580': '818975124460335106', '581': '315062429', '582': '168118941', '583': '884102147108982784', '584': '729124474964955137', '585': '701543974201200642', '586': '1468649101', '587': '1520637229', '588': '2560880828', '589': '739249538', '590': '132339474', '591': '983382484430872576', '592': '292929271', '593': '536279030', '594': '997969657008181248', '595': '27459374', '596': '3237526723', '597': '965015705123930114', '598': '2324304644', '599': '47437206', '600': '95515159', '601': '902264561872588800', '602': '105926699', '603': '2788464770', '604': '61577178', '605': '2937613910', '606': '45278471', '607': '44902038', '608': '1317129865', '609': '836006107', '610': '346384148', '611': '717748105882517504', '612': '29465136', '613': '716567955', '614': '713368574325166080', '615': '881280076838555649', '616': '234128524', '617': '413034378', '618': '127716574', '619': '40720777', '620': '2161980013', '621': '3366103582', '622': '338058459', '623': '16550142', '624': '996104206556762113', '625': '937894539326640128', '626': '1379501748', '627': '60720378', '628': '831111050632232960', '629': '707350988', '630': '392418374', '631': '967064304020111361', '632': '776449689356865536', '633': '106021590', '634': '36652924', '635': '24553045', '636': '34516157', '637': '22815951', '638': '2306885139', '639': '210597161', '640': '85583894', '641': '791344802919018496', '642': '818138898589069316', '643': '15012486', '644': '359188534', '645': '203226736', '646': '364845360', '647': '576331086', '648': '937808119962460161', '649': '1000027031126634496', '650': '36746972', '651': '824394736458985474', '652': '3369357328', '653': '14247236', '654': '32682316', '655': '568425704', '656': '1713881474', '657': '22799750', '658': '14277670', '659': '15745368', '660': '1232915808', '661': '140252240', '662': '15023960', '663': '19556528', '664': '575173506', '665': '162069635', '666': '934870014124998656', '667': '34959923', '668': '992242468539260931', '669': '17544524', '670': '803197071612399616', '671': '836265236', '672': '24779354', '673': '3139765462', '674': '953030359', '675': '781561021957754880', '676': '13918842', '677': '873552281244811265', '678': '1018220291242242048', '679': '984964882830385152', '680': '3021557840', '681': '765360142401544192', '682': '3285613226', '683': '423004948', '684': '34889241', '685': '408817702', '686': '1471021', '687': '47823917', '688': '849264660', '689': '18606012', '690': '2891065025', '691': '126065609', '692': '913605726', '693': '18166778', '694': '898301894015148032', '695': '712054651902889984', '696': '18382184', '697': '259045004', '698': '81700995', '699': '2357656989', '700': '28341397', '701': '6426402', '702': '960566231156785153', '703': '1249982359', '704': '931298966', '705': '133028836', '706': '817532825733709824', '707': '378295246', '708': '948441121130074113', '709': '727515153479143426', '710': '821303470950989824', '711': '11203972', '712': '67883291', '713': '8200072', '714': '23929732', '715': '15663', '716': '7686092', '717': '108882900', '718': '2294142221', '719': '142510532', '720': '44606445', '721': '22190567', '722': '866412288814743552', '723': '954516288440815616', '724': '24644444', '725': '300819096', '726': '813597561323945984', '727': '987240830351151104', '728': '432895323', '729': '784575415457308672', '730': '2570424183', '731': '18442571', '732': '799439044274954240', '733': '69185601', '734': '1019638996283031554', '735': '357606935', '736': '20343417', '737': '3339578272', '738': '294082746', '739': '851737964', '740': '298646188', '741': '306729320', '742': '176712912', '743': '17682476', '744': '180887271', '745': '293777234', '746': '2770070614', '747': '286344947', '748': '15224666', '749': '2730968903', '750': '1030083798', '751': '304123273', '752': '139322897', '753': '17980523', '754': '1731644444', '755': '830207667494932481', '756': '991902350016221184', '757': '1430508206', '758': '962418734471229440', '759': '33249890', '760': '17263953', '761': '3127179418', '762': '129797263', '763': '168684259', '764': '962303443275780096', '765': '856991644134068224', '766': '707943136681713664', '767': '2708577216', '768': '9609632', '769': '974821640436580352', '770': '704726179526344704', '771': '16467567', '772': '957352738706173952', '773': '156130765', '774': '28162211', '775': '69109217', '776': '1167342554', '777': '2152096010', '778': '2159946222', '779': '998168120253714432', '780': '251564985', '781': '914208569775480832', '782': '531527946', '783': '982292527301758977', '784': '37217578', '785': '2370897001', '786': '561452170', '787': '810472626934181888', '788': '63841612', '789': '54856746', '790': '859166236378267649', '791': '39384517', '792': '579995287', '793': '946226949399154688', '794': '489725333', '795': '825377961029332992', '796': '941400923749920769', '797': '3981225735', '798': '826467895022477312', '799': '4116660922', '800': '2884771', '801': '783475532381888512', '802': '3435405693', '803': '35511525', '804': '2764811815', '805': '77570094', '806': '1703628649', '807': '15311104', '808': '594633979', '809': '588992831', '810': '42403813', '811': '2602539350', '812': '2999237925', '813': '359814192', '814': '3898472476', '815': '1699841245', '816': '825865484998369280', '817': '898551142816329732', '818': '14515799', '819': '20897299', '820': '2800581040', '821': '24405670', '822': '460470940', '823': '54166596', '824': '739610364975808513', '825': '495654029', '826': '20878297', '827': '850130990706151428', '828': '824160143499788288', '829': '2303865409', '830': '713162867906895872', '831': '2758633780', '832': '568143078', '833': '2993979984', '834': '850286737989545984', '835': '17447396', '836': '2351986362', '837': '27995424', '838': '967069087967793153', '839': '204832963', '840': '340318799', '841': '763082628794810368', '842': '759113907860418561', '843': '59812104', '844': '5980332', '845': '4635335020', '846': '734226996004311040', '847': '90445688', '848': '22650398', '849': '2364740618', '850': '382685028', '851': '1167320588', '852': '549547810', '853': '148596994', '854': '16187637', '855': '31135856', '856': '285545863', '857': '1183945603', '858': '1020920685911265280', '859': '116579523', '860': '718506874065305601', '861': '1003979881905033217', '862': '1546656000', '863': '67801872', '864': '707231479047315456', '865': '1265831268', '866': '257250631', '867': '1566426516', '868': '375473165', '869': '750493955322552320', '870': '935746561539280897', '871': '1426169094', '872': '989818218', '873': '2415072836', '874': '2177256028', '875': '19040572', '876': '53648074', '877': '794077393166225408', '878': '5988062', '879': '2552951778', '880': '15455253', '881': '814530975350792192', '882': '87000859', '883': '150289183', '884': '31794619', '885': '112047805', '886': '28888437', '887': '910492003359760384', '888': '24891210', '889': '80617430', '890': '910245951058567168', '891': '2461810448', '892': '2963350041', '893': '19558732', '894': '95650867', '895': '1475970787', '896': '961792879713644544', '897': '3974704763', '898': '27285798', '899': '3250141399', '900': '782265648323842048', '901': '763935668284239872', '902': '1148894713', '903': '601535938', '904': '2798705328', '905': '270921976', '906': '933174729694896128', '907': '18082945', '908': '564657538', '909': '719802375', '910': '3128736089', '911': '42825230', '912': '119528515', '913': '133938408', '914': '780530777326882816', '915': '4761064634', '916': '826123021064798208', '917': '22286602', '918': '2449891638', '919': '341190477', '920': '500589735', '921': '615019546', '922': '703330053396918272', '923': '3012037477', '924': '1019641781087080448', '925': '89858112', '926': '127941629', '927': '90020796', '928': '226160733', '929': '907002328624107520', '930': '610346981', '931': '102688431', '932': '2826709201', '933': '19689986', '934': '838918596843593728', '935': '738080573365702657', '936': '806281312181043205', '937': '477474628', '938': '860784208482062336', '939': '182467440', '940': '594175899', '941': '344704050', '942': '156900211', '943': '955433052666200064', '944': '4217380097', '945': '211552063', '946': '17178161', '947': '15924411', '948': '68682168', '949': '883280792066990080', '950': '218975278', '951': '788106950160609280', '952': '154263755', '953': '975140794662137856', '954': '25651173', '955': '1012376354266976256', '956': '3013595631', '957': '506067365', '958': '999634489490882560', '959': '977922248148316162', '960': '1424233416', '961': '963575297793822721', '962': '917516059036540929', '963': '614419255', '964': '324703658', '965': '454779231', '966': '21108390', '967': '948466198680915968', '968': '2983890506', '969': '835435964906393600', '970': '886617849715806208', '971': '315323355', '972': '31440321', '973': '2480319290', '974': '19051236', '975': '516879588', '976': '17261066', '977': '59714727', '978': '741717396960907264', '979': '18851248', '980': '804863024288894976', '981': '23637488', '982': '839300788702875649', '983': '4431846220', '984': '814040122278563842', '985': '792782917638455296', '986': '1264060742', '987': '468646961', '988': '1039142809', '989': '493714995', '990': '6699732', '991': '253352891', '992': '432558629', '993': '4766842022', '994': '25387735', '995': '2797975154', '996': '90808833', '997': '194214753', '998': '576318595', '999': '202952121', '1000': '2289901704', '1001': '1382900436', '1002': '2554131522', '1003': '64472525', '1004': '59873037', '1005': '302971361', '1006': '241280143', '1007': '249722522', '1008': '724745164153966592', '1009': '301209831', '1010': '19914257', '1011': '251335455', '1012': '231653036', '1013': '1506079266', '1014': '821511862881845248', '1015': '350533834', '1016': '87957969', '1017': '792701483510853636', '1018': '1100927498', '1019': '430229123', '1020': '4281570916', '1021': '1474274960', '1022': '18600539', '1023': '186646579', '1024': '918186145602682880', '1025': '14072631', '1026': '142375993', '1027': '22295240', '1028': '288363743', '1029': '2204131711', '1030': '824162556256415746', '1031': '2519044628', '1032': '37965812', '1033': '1281179178', '1034': '95431448', '1035': '902547463', '1036': '460397041', '1037': '14940354', '1038': '95497075', '1039': '15907183', '1040': '359428392', '1041': '3219330344', '1042': '855820842', '1043': '2468254650', '1044': '822215673812119553', '1045': '3718042757', '1046': '839865346047807488', '1047': '489729616', '1048': '778768050', '1049': '476256944', '1050': '818784109497643012', '1051': '749631837589295105', '1052': '85131054', '1053': '73447806', '1054': '259395895', '1055': '54984589', '1056': '722528529716383744', '1057': '807037241365172224', '1058': '869378365433761792', '1059': '1496530303', '1060': '3267456386', '1061': '2753220014', '1062': '1428659995', '1063': '34003535', '1064': '109025212', '1065': '20729667', '1066': '815812159351291904', '1067': '18742360', '1068': '591505507', '1069': '480500298', '1070': '403647191', '1071': '2503001824', '1072': '54065567', '1073': '1372786812', '1074': '249715198', '1075': '54081437', '1076': '110396781', '1077': '2200209065', '1078': '788417346092183552', '1079': '300585654', '1080': '1959892363', '1081': '270664041', '1082': '783521297720569857', '1083': '449963251', '1084': '631071215', '1085': '280754967', '1086': '823276388480380928', '1087': '19568591', '1088': '800791348253073409', '1089': '16815644', '1090': '21693961', '1091': '2911330218', '1092': '787376865912684544', '1093': '3277054573', '1094': '614893269', '1095': '4369231637', '1096': '818277212348674048', '1097': '859926840483491840', '1098': '2778497888', '1099': '779378588957147136', '1100': '380285402', '1101': '1140698426', '1102': '39308549', '1103': '3023251704', '1104': '57871519', '1105': '513796046', '1106': '24165761', '1107': '25150655', '1108': '3039322823', '1109': '786672433256423425', '1110': '18805644', '1111': '91952002', '1112': '4624305917', '1113': '727312014792658945', '1114': '257048619', '1115': '26642006', '1116': '970420540455387138', '1117': '37660088', '1118': '15164565', '1119': '20703602', '1120': '44610616', '1121': '612088040', '1122': '186235186', '1123': '15757578', '1124': '33755142', '1125': '21833728', '1126': '2908621273', '1127': '15723802', '1128': '2298392441', '1129': '454340464', '1130': '973669929059868672', '1131': '327030062', '1132': '29414925', '1133': '19078560', '1134': '175607214', '1135': '19076408', '1136': '22129280', '1137': '53179643', '1138': '212337883', '1139': '67945637', '1140': '2987156301', '1141': '110694951', '1142': '580717432', '1143': '67336920', '1144': '263528349', '1145': '2286145492', '1146': '784668010464161793', '1147': '818939874837401602', '1148': '2488641132', '1149': '2948620212', '1150': '59440137', '1151': '17208968', '1152': '710112474570366977', '1153': '775055342040408064', '1154': '41053534', '1155': '870379862892171266', '1156': '872913323351822338', '1157': '146591896', '1158': '916670726584795136', '1159': '978143495759175683', '1160': '814945126640418817', '1161': '344320127', '1162': '603886018', '1163': '197496309', '1164': '940603538', '1165': '294292744', '1166': '37291428', '1167': '15690179', '1168': '65174786', '1169': '509676982', '1170': '288470181', '1171': '21731967', '1172': '720258062871830528', '1173': '902511116164534274', '1174': '145071140', '1175': '2334193741', '1176': '50934748', '1177': '387053999', '1178': '851133311372193793', '1179': '215908383', '1180': '1643972264', '1181': '833392770475782145', '1182': '371809699', '1183': '128080036', '1184': '786736292809760769', '1185': '2717301877', '1186': '42321684', '1187': '892130360888352773', '1188': '2595263312', '1189': '3941925995', '1190': '2543938032', '1191': '48459553', '1192': '320491586', '1193': '1532464837', '1194': '932180845388906496', '1195': '819168536820088837', '1196': '388122292', '1197': '35086246', '1198': '2662023960', '1199': '904782144324722691', '1200': '771152516', '1201': '94076386', '1202': '870273404263444480', '1203': '291774022', '1204': '144325625', '1205': '2550447338', '1206': '3228949150', '1207': '781019903574806529', '1208': '448611332', '1209': '4741471155', '1210': '23429196', '1211': '3247488764', '1212': '136464832', '1213': '16911314', '1214': '53486490', '1215': '46078438', '1216': '393221287', '1217': '842236951', '1218': '961367579473465344', '1219': '70777558', '1220': '419429445', '1221': '765229135', '1222': '2741287317', '1223': '27179932', '1224': '772031487222743040', '1225': '309628463', '1226': '2834653493', '1227': '816680242723098624', '1228': '14988372', '1229': '118857096', '1230': '433754475', '1231': '44088607', '1232': '959289032155979776', '1233': '18085109', '1234': '1955344290', '1235': '77015676', '1236': '2353903285', '1237': '48117116', '1238': '625658980', '1239': '250188760', '1240': '882901438065553408', '1241': '4099171', '1242': '186980225', '1243': '237403203', '1244': '978559295544578048', '1245': '261717738', '1246': '3950531775', '1247': '896464643899744256', '1248': '118564025', '1249': '350999046', '1250': '2864757897', '1251': '1237988090', '1252': '804785625400418304', '1253': '18638682', '1254': '791805667405287424', '1255': '810629459233665025', '1256': '806862084277407744', '1257': '3054760996', '1258': '742503886385090560', '1259': '269120499', '1260': '2752044303', '1261': '351120282', '1262': '945824923255271425', '1263': '232901331', '1264': '891440166', '1265': '17013147', '1266': '16045956', '1267': '2386595213', '1268': '289342771', '1269': '354965291', '1270': '2407332835', '1271': '857001662', '1272': '880852034093629441', '1273': '1603924040', '1274': '842141609785466880', '1275': '71749057', '1276': '566663792', '1277': '118756393', '1278': '24919512', '1279': '213795411', '1280': '815281892345991180', '1281': '539010491', '1282': '17339593', '1283': '64643056', '1284': '46080652', '1285': '966113328', '1286': '987009306070466561', '1287': '1074480192', '1288': '1794817130', '1289': '407464670', '1290': '49274547', '1291': '865904519162482688', '1292': '893195387472932866', '1293': '7587032', '1294': '317223956', '1295': '91882544', '1296': '3039961639', '1297': '89918824', '1298': '9624742', '1299': '828163233752240128', '1300': '15513604', '1301': '252174617', '1302': '20823571', '1303': '1629339452', '1304': '372240477', '1305': '19580890', '1306': '987500474633990144', '1307': '111216929', '1308': '3147066060', '1309': '3436968041', '1310': '917846875386138625', '1311': '707383117510672384', '1312': '991705167576911872', '1313': '376435807', '1314': '773230604133564416', '1315': '26792275', '1316': '282987163', '1317': '36654245', '1318': '955524366137221131', '1319': '186755547', '1320': '106937647', '1321': '438561525', '1322': '872067355651829761', '1323': '3131144855', '1324': '67083024', '1325': '16177486', '1326': '963480595', '1327': '945695263578116098', '1328': '918274726363004928', '1329': '936913896476049408', '1330': '690003', '1331': '725474259737387010', '1332': '24258355', '1333': '989206909654880256', '1334': '374698452', '1335': '141084952', '1336': '736354610332344320', '1337': '36686040', '1338': '3067585165', '1339': '138096419', '1340': '928996263957352448', '1341': '122565055', '1342': '4340825842', '1343': '64781513', '1344': '326756275', '1345': '3125724873', '1346': '15764644', '1347': '830942472', '1348': '22979427', '1349': '1095621013', '1350': '34240147', '1351': '2447478612', '1352': '262734395', '1353': '884834779774013441', '1354': '26645260', '1355': '48906174', '1356': '618429852', '1357': '20467163', '1358': '2304303511', '1359': '100832012', '1360': '201354869', '1361': '348631421', '1362': '242481514', '1363': '2312367559', '1364': '54808703', '1365': '24923175', '1366': '252316603', '1367': '85675582', '1368': '4579210272', '1369': '3244465746', '1370': '946929012', '1371': '431063513', '1372': '355436302', '1373': '702881049936703488', '1374': '995292976233566208', '1375': '4141787475', '1376': '2536575654', '1377': '872165839272894464', '1378': '2369090472', '1379': '797269297', '1380': '2179843303', '1381': '368428411', '1382': '2835641752', '1383': '14511951', '1384': '257940926', '1385': '740127685683367937', '1386': '149249831', '1387': '441467768', '1388': '150078976', '1389': '752308914864082944', '1390': '796884403', '1391': '253316481', '1392': '2322683256', '1393': '3144302421', '1394': '22384238', '1395': '119252795', '1396': '15963558', '1397': '40711129', '1398': '346959215', '1399': '861333660523540481', '1400': '27031230', '1401': '806758194483634177', '1402': '2332748474', '1403': '2383695960', '1404': '928045147329265665', '1405': '786377114270388224', '1406': '319245477', '1407': '21421397', '1408': '2846178008', '1409': '783474580040146944', '1410': '52524602', '1411': '122273287', '1412': '298560650', '1413': '425268743', '1414': '992400835', '1415': '986202606149292032', '1416': '1424592979', '1417': '2749056779', '1418': '822226920', '1419': '915591758007894016', '1420': '752288367111315457', '1421': '809284851404664832', '1422': '4114651456', '1423': '853369654416486400', '1424': '908720967781818368', '1425': '965266179836252161', '1426': '977951828485836801', '1427': '18510860', '1428': '790657468560990208', '1429': '894492885336371200', '1430': '733849367908470784', '1431': '2883290883', '1432': '2732240199', '1433': '2437204640', '1434': '1019445888538816513', '1435': '3407277711', '1436': '989803050', '1437': '850803210470256640', '1438': '2853461537', '1439': '222962669', '1440': '18294521', '1441': '783108996055994368', '1442': '770002333572952064', '1443': '1009495503149715457', '1444': '794982256012050432', '1445': '2471575760', '1446': '2293131060', '1447': '984657818', '1448': '232947293', '1449': '951893968794484736', '1450': '283218964', '1451': '851751855487148032', '1452': '1077541242', '1453': '403482294', '1454': '1072141500', '1455': '80021045', '1456': '199007460', '1457': '1005181884064829441', '1458': '413428207', '1459': '918148194', '1460': '20776147', '1461': '722672317', '1462': '29011733', '1463': '3029594994', '1464': '3346416347', '1465': '838587156666920962', '1466': '754414524518760448', '1467': '15323371', '1468': '606755878', '1469': '821007059151974400', '1470': '981338723739668482', '1471': '898677356247867392', '1472': '18224975', '1473': '896544181350535168', '1474': '21604764', '1475': '770775225713778688', '1476': '14669951', '1477': '806055995692568580', '1478': '805304008290148352', '1479': '988679361602600960', '1480': '151652506', '1481': '822103861511000064', '1482': '89889306', '1483': '822671712655437824', '1484': '808165183', '1485': '211994193', '1486': '984430151403540480', '1487': '1381088924', '1488': '54317462', '1489': '225265639', '1490': '933873023257518080', '1491': '20472850', '1492': '2605915484', '1493': '53854893', '1494': '241567888', '1495': '18838327', '1496': '118826051', '1497': '16873455', '1498': '43512726', '1499': '2952418931', '1500': '293865845', '1501': '93069110', '1502': '1851498566', '1503': '19570960', '1504': '793506799261450240', '1505': '63398970', '1506': '23588943', '1507': '15179738', '1508': '19505501', '1509': '1903961018', '1510': '2176263712', '1511': '2838974037', '1512': '213094084', '1513': '316347271', '1514': '30141783', '1515': '714837138148356096', '1516': '4189054053', '1517': '971473010346610690', '1518': '3399597309', '1519': '325338993', '1520': '384852760', '1521': '17579312', '1522': '768988192775208960', '1523': '2224528292', '1524': '1720470098', '1525': '2962634038', '1526': '848276549308739584', '1527': '27199297', '1528': '844770248242839553', '1529': '3662636479', '1530': '193466736', '1531': '858242405887299585', '1532': '755973088462995457', '1533': '16311908', '1534': '278124059', '1535': '841692239562653697', '1536': '3406938525', '1537': '962818949422440450', '1538': '17794636', '1539': '224655995', '1540': '68212750', '1541': '982096969962270720', '1542': '114345927', '1543': '226997507', '1544': '871124284961427456', '1545': '538598044', '1546': '522638562', '1547': '1004724560070086656', '1548': '980510342609539072', '1549': '280233564', '1550': '816301206666625024', '1551': '727665066108194817', '1552': '1021734616489709568', '1553': '2804311934', '1554': '3362016513', '1555': '952885954657816576', '1556': '50769180', '1557': '949739194166886400', '1558': '234017652', '1559': '816246646736613378', '1560': '136004952', '1561': '719198026909290496', '1562': '4118841201', '1563': '43302184', '1564': '179732982', '1565': '782279365329555456', '1566': '44448194', '1567': '2293181682', '1568': '2846734823', '1569': '1021438850072117248', '1570': '1017806584527904770', '1571': '3352430571', '1572': '355800597', '1573': '14857525', '1574': '816395163601866753', '1575': '917479184301035520', '1576': '831946992477626368', '1577': '135173872', '1578': '517657942', '1579': '4851966645', '1580': '3240040266', '1581': '237814920', '1582': '21591486', '1583': '11856032', '1584': '1157923518', '1585': '280918611', '1586': '111417564', '1587': '905416143313219584', '1588': '23620404', '1589': '77180390', '1590': '803699568231714816', '1591': '717860478131658756', '1592': '2882401224', '1593': '790543244786593792', '1594': '806140299571593217', '1595': '827379820153573377', '1596': '17272214', '1597': '19608199', '1598': '1113100093', '1599': '837802235501273090', '1600': '460848738', '1601': '713552572158574592', '1602': '64302965', '1603': '30808826', '1604': '2844764926', '1605': '975115519383744515', '1606': '29275869', '1607': '919478682523242497', '1608': '2421507270', '1609': '604995677', '1610': '938182786141302785', '1611': '875437109628121088', '1612': '4639413136', '1613': '275646961', '1614': '174847568', '1615': '868557676216688640', '1616': '2233154425', '1617': '1006560106274684928', '1618': '20065936', '1619': '1356015584', '1620': '915565143261683712', '1621': '1012543240401244160', '1622': '795113100', '1623': '969646852906864641', '1624': '1206051690', '1625': '40763363', '1626': '3286980450', '1627': '51909225', '1628': '17756037', '1629': '769592848077426689', '1630': '165586474', '1631': '3368239563', '1632': '794193884469460992', '1633': '780955609394884608', '1634': '1580083178', '1635': '907759856429527040', '1636': '881206697502625792', '1637': '3219194489', '1638': '44171091', '1639': '3301708236', '1640': '882271875094597633', '1641': '73186101', '1642': '24521540', '1643': '1470050257', '1644': '852215731320233985', '1645': '617854798', '1646': '33534293', '1647': '26900055', '1648': '424415890', '1649': '621620724', '1650': '837403780832460800', '1651': '3092154496', '1652': '219557724', '1653': '2719966213', '1654': '24619043', '1655': '128616566', '1656': '856257518', '1657': '23298959', '1658': '189434508', '1659': '3220673185', '1660': '78523300', '1661': '20680509', '1662': '2876041031', '1663': '2874625958', '1664': '885565735', '1665': '1626294277', '1666': '838760120', '1667': '545474475', '1668': '236224860', '1669': '20508720', '1670': '65047791', '1671': '531565758', '1672': '130557513', '1673': '1209364268', '1674': '958064770019741696', '1675': '91657636', '1676': '822901284655210497', '1677': '2696883469', '1678': '131538331', '1679': '23584599', '1680': '41634520', '1681': '888495576245051393', '1682': '22418249', '1683': '16799023', '1684': '215207998', '1685': '350408713', '1686': '823449859', '1687': '940232794877452293', '1688': '20349961', '1689': '3160780691', '1690': '24827128', '1691': '16423610', '1692': '737503514', '1693': '3363811032', '1694': '1951406928', '1695': '177564016', '1696': '325999914', '1697': '2316383071', '1698': '1684178449', '1699': '970207298', '1700': '14933010', '1701': '946940097756385281', '1702': '889258106907185154', '1703': '15302774', '1704': '2173570430', '1705': '898309929521434624', '1706': '303898942', '1707': '17492639', '1708': '475454826', '1709': '1519774656', '1710': '59157393', '1711': '308960563', '1712': '745729425703067649', '1713': '1171793868', '1714': '838224806843559936', '1715': '804337662308061188', '1716': '881336677138128897', '1717': '506854615', '1718': '263356801', '1719': '892469822575050754', '1720': '916963122488987648', '1721': '32871086', '1722': '704504741573726209', '1723': '750377949065535488', '1724': '701858788089810944', '1725': '619400667', '1726': '133096088', '1727': '15220768', '1728': '15984243', '1729': '705441650076684288', '1730': '53220544', '1731': '3350775460', '1732': '3003864544', '1733': '24382468', '1734': '30752020', '1735': '18266688', '1736': '878019361075863552', '1737': '72198806', '1738': '19533136', '1739': '1924830164', '1740': '129834917', '1741': '2693013240', '1742': '2919859200', '1743': '2450439487', '1744': '821159618730754049', '1745': '728039605', '1746': '233494978', '1747': '943884076691443713', '1748': '29826440', '1749': '974226701524897793', '1750': '835591680967454720', '1751': '735832062', '1752': '989048312731926528', '1753': '3139769353', '1754': '594050440', '1755': '745328656252305408', '1756': '580312540', '1757': '34795605', '1758': '817092958394712064', '1759': '419889137', '1760': '3225812603', '1761': '49100067', '1762': '1245969108', '1763': '500947671', '1764': '815797269119107072', '1765': '14788881', '1766': '31484721', '1767': '60783724', '1768': '330309720', '1769': '188200033', '1770': '956776004055265281', '1771': '266687361', '1772': '3855756563', '1773': '289118612', '1774': '372738237', '1775': '46238383', '1776': '17170195', '1777': '430459707', '1778': '15441965', '1779': '4175155288', '1780': '847295370052878336', '1781': '801182599', '1782': '946724128521883649', '1783': '956292060310536196', '1784': '1005981810147450880', '1785': '314349541', '1786': '292280578', '1787': '376749875', '1788': '917282276182052864', '1789': '1254436688', '1790': '240095630', '1791': '16231318', '1792': '2522025789', '1793': '15463671', '1794': '762436590169755648', '1795': '988573326376427520', '1796': '2402210804', '1797': '3401472100', '1798': '296168296', '1799': '1699949462', '1800': '75364211', '1801': '796142968663064577', '1802': '1288958298', '1803': '956283913835614208', '1804': '2869858477', '1805': '713784407', '1806': '1348116318', '1807': '17569478', '1808': '833633853252235266', '1809': '80862758', '1810': '27838480', '1811': '700522053468721152', '1812': '76679287', '1813': '19685647', '1814': '286550907', '1815': '1800161', '1816': '936296208385085440', '1817': '761742288787742720', '1818': '15391102', '1819': '882827135748120576', '1820': '1237881534', '1821': '80677551', '1822': '564101107', '1823': '786087060', '1824': '905971495788310528', '1825': '49903521', '1826': '4204295353', '1827': '2422831704', '1828': '616737225', '1829': '853699622795067392', '1830': '16252118', '1831': '960547920847261696', '1832': '14159148', '1833': '167604433', '1834': '14185814', '1835': '17069958', '1836': '62104778', '1837': '65357102', '1838': '3400702817', '1839': '289548939', '1840': '2971865177', '1841': '428379356', '1842': '473391150', '1843': '74075545', '1844': '318673863', '1845': '1002532618028498944', '1846': '801014456', '1847': '48260938', '1848': '962536804573261824', '1849': '27032207', '1850': '18545481', '1851': '714123468833480707', '1852': '2552542098', '1853': '597179392', '1854': '3294572733', '1855': '46557945', '1856': '803045609078853632', '1857': '267410941', '1858': '232915323', '1859': '228144288', '1860': '325001316', '1861': '324440331', '1862': '71349174', '1863': '298821330', '1864': '874636442290577410', '1865': '1406015426', '1866': '36139539', '1867': '722564518128144386', '1868': '20701760', '1869': '276200072', '1870': '788241122594136064', '1871': '950819237198811136', '1872': '92580421', '1873': '252745016', '1874': '23798694', '1875': '234374703', '1876': '31047730', '1877': '889039588903329792', '1878': '216638460', '1879': '836704919524560896', '1880': '237344620', '1881': '897158136582287361', '1882': '957951081941741569', '1883': '2583678126', '1884': '575214489', '1885': '16178108', '1886': '39085487', '1887': '47813521', '1888': '949406728981970944', '1889': '46479088', '1890': '2721637618', '1891': '252819642', '1892': '267766480', '1893': '810533162325606400', '1894': '4258329133', '1895': '264192601', '1896': '536461992', '1897': '249787913', '1898': '914567454', '1899': '919245692350156802', '1900': '360674583', '1901': '348378205', '1902': '696051336035594240', '1903': '16330347', '1904': '283721629', '1905': '419103327', '1906': '192547775', '1907': '36921753', '1908': '4861988838', '1909': '807562004', '1910': '895957166225473536', '1911': '20852175', '1912': '214512498', '1913': '19291441', '1914': '2734698846', '1915': '381367578', '1916': '942878337806032901', '1917': '271872549', '1918': '742043275398352896', '1919': '16935292', '1920': '833054275836211201', '1921': '2388684701', '1922': '929946572477132806', '1923': '119099353', '1924': '478457792', '1925': '9777482', '1926': '1049586888', '1927': '35746343', '1928': '899097883', '1929': '3101998342', '1930': '312693640', '1931': '36352070', '1932': '4798968863', '1933': '3399840550', '1934': '24432580', '1935': '3974324654', '1936': '793902637733146624', '1937': '826880668839747585', '1938': '13352392', '1939': '850149020098060288', '1940': '859926428', '1941': '906888552314806272', '1942': '3142378450', '1943': '714960585079664641', '1944': '4091551984', '1945': '17885796', '1946': '51359739', '1947': '3207461087', '1948': '41646662', '1949': '1009653409513902080', '1950': '1363732693', '1951': '426802833', '1952': '3076919760', '1953': '3300193869', '1954': '171114552', '1955': '789969215650422784', '1956': '809887375648178176', '1957': '388633297', '1958': '27187343', '1959': '825942925687345152', '1960': '138203134', '1961': '983416688', '1962': '18089606', '1963': '39000115', '1964': '4890675892', '1965': '890387589299134465', '1966': '856010760', '1967': '90182089', '1968': '216871973', '1969': '42416875', '1970': '21536398', '1971': '993864464494718976', '1972': '920564935', '1973': '227847126', '1974': '870753768614367233', '1975': '897155490320269312', '1976': '17872077', '1977': '594480785', '1978': '980216689638952960', '1979': '914920534047064064', '1980': '105720234', '1981': '35454758', '1982': '726806564359692288', '1983': '835283718734561280', '1984': '326315916', '1985': '760250466', '1986': '36687243', '1987': '706729184102486016', '1988': '813930802383724544', '1989': '873903208271298561', '1990': '237886996', '1991': '1134550993', '1992': '72327489', '1993': '807756532460953600', '1994': '934970168907915264', '1995': '3333055535', '1996': '56628971', '1997': '90651198', '1998': '825743417728708612', '1999': '413802355', '2000': '1019790517721214976', '2001': '1018868403111591936', '2002': '36940946', '2003': '161973640', '2004': '1285318309', '2005': '4288369354', '2006': '3120655488', '2007': '272497911', '2008': '2197187421', '2009': '271075882', '2010': '733320974028824576', '2011': '1008901747593613318', '2012': '125215707', '2013': '1640929196', '2014': '360167124', '2015': '2309619386', '2016': '835012315950940160', '2017': '532796067', '2018': '26845959', '2019': '14412533', '2020': '762873268470632449', '2021': '3260518932', '2022': '818617813', '2023': '20344826', '2024': '256360738', '2025': '3006898359', '2026': '955222653312339968', '2027': '33633972', '2028': '1197242232', '2029': '15375383', '2030': '51425143', '2031': '307080237', '2032': '1011691566732337155', '2033': '972545085261807616', '2034': '16012783', '2035': '57518504', '2036': '760941480126984193', '2037': '18533219', '2038': '851424494128435200', '2039': '59240990', '2040': '301036877', '2041': '809584189410603008', '2042': '58046619', '2043': '314205957', '2044': '562878642', '2045': '868376806545608704', '2046': '577777259', '2047': '991439689356906501', '2048': '247857712', '2049': '17517897', '2050': '24127811', '2051': '425224485', '2052': '449600949', '2053': '830645487145410560', '2054': '2257842636', '2055': '302550283', '2056': '999797148333035520', '2057': '15515169', '2058': '33115754', '2059': '1040447646', '2060': '1305818593', '2061': '2334564724', '2062': '34858992', '2063': '3355657394', '2064': '38495835', '2065': '1305939013', '2066': '18643437', '2067': '264188090', '2068': '979096246697766913', '2069': '4869945200', '2070': '836792633271857152', '2071': '397545273', '2072': '766738924324524032', '2073': '827917853588221952', '2074': '775630398474903552', '2075': '212656023', '2076': '97740430', '2077': '991674814661365760', '2078': '988229439719923712', '2079': '20093413', '2080': '764638911796809728', '2081': '599531574', '2082': '1666189700', '2083': '19080151', '2084': '1579375580', '2085': '22879254', '2086': '2234181796', '2087': '805375789747290112', '2088': '157099071', '2089': '222498415', '2090': '2456612208', '2091': '900587053066444800', '2092': '758144994330816512', '2093': '30238204', '2094': '533817988', '2095': '856596564516651008', '2096': '164069251', '2097': '29371108', '2098': '281305841', '2099': '732515283902943232', '2100': '367670522', '2101': '55873712', '2102': '1395323149', '2103': '6705042', '2104': '2905276319', '2105': '1114319616', '2106': '76525772', '2107': '398334397', '2108': '978737466910879744', '2109': '2791069626', '2110': '633232563', '2111': '2417586104', '2112': '814245152944427008', '2113': '244212645', '2114': '823724916100861953', '2115': '914943759456129024', '2116': '932247405612892160', '2117': '874419628046520320', '2118': '26803257', '2119': '951883265912266754', '2120': '735919166436343808', '2121': '3502391593', '2122': '948766526726856704', '2123': '2291500389', '2124': '350906823', '2125': '361763891', '2126': '185614627', '2127': '956171191', '2128': '4195043062', '2129': '457984599', '2130': '306808104', '2131': '246500501', '2132': '3233148445', '2133': '848499175092346880', '2134': '46775436', '2135': '874867711', '2136': '27964981', '2137': '36498374', '2138': '1886529619', '2139': '127983458', '2140': '477012156', '2141': '784571405656621057', '2142': '1512460285', '2143': '18826759', '2144': '55775810', '2145': '73090164', '2146': '25562002', '2147': '19865053', '2148': '868191189262118913', '2149': '18915145', '2150': '15064678', '2151': '974484994939936769', '2152': '149606187', '2153': '66837106', '2154': '807610949142278144', '2155': '942156122', '2156': '982823844464345089', '2157': '951600383629152258', '2158': '41574937', '2159': '2245399752', '2160': '878247600096509952', '2161': '771356386001379328', '2162': '525022850', '2163': '873158262241275904', '2164': '14957181', '2165': '15224104', '2166': '947182359094239232', '2167': '14962779', '2168': '40068797', '2169': '1952007253', '2170': '1909690920', '2171': '27055034', '2172': '725057289539997697', '2173': '286447152', '2174': '889250144109178881', '2175': '14190015', '2176': '69080476', '2177': '738433826', '2178': '874928071727558656', '2179': '447681675', '2180': '40035768', '2181': '2178534817', '2182': '871466086293794817', '2183': '15108009', '2184': '86129724', '2185': '1103850667', '2186': '317179072', '2187': '2565082226', '2188': '382549153', '2189': '30912831', '2190': '630352706', '2191': '8839632', '2192': '785271822942138373', '2193': '975730202230829056', '2194': '274213069', '2195': '2328787164', '2196': '4759303114', '2197': '358430089', '2198': '70532018', '2199': '2747532070', '2200': '594929442', '2201': '4713703093', '2202': '879326842108366848', '2203': '628367263', '2204': '21731155', '2205': '849677226266308610', '2206': '843658706915020801', '2207': '3332003529', '2208': '988060690966548481', '2209': '221338206', '2210': '451601582', '2211': '41417402', '2212': '17159220', '2213': '756665532800114688', '2214': '2412866894', '2215': '414946220', '2216': '2267674237', '2217': '2977965461', '2218': '3038675047', '2219': '94023153', '2220': '15664855', '2221': '4849762079', '2222': '825782894945722368', '2223': '17777577', '2224': '2850390229', '2225': '882309239498309632', '2226': '36391780', '2227': '15143478', '2228': '4824329709', '2229': '461731421', '2230': '1849687442', '2231': '15359578', '2232': '905828148', '2233': '20636792', '2234': '782934303617548288', '2235': '825518870421180416', '2236': '2240230093', '2237': '44914646', '2238': '934974696495439873', '2239': '18698555', '2240': '772883994270584832', '2241': '14190948', '2242': '932628989558083584', '2243': '487198119', '2244': '807055593915744256', '2245': '508006873', '2246': '20464238', '2247': '114992018', '2248': '2366419128', '2249': '221162525', '2250': '230007911', '2251': '49897958', '2252': '541681361', '2253': '19726613', '2254': '3170925475', '2255': '937574413590863872', '2256': '730520573701443584', '2257': '940200494802157568', '2258': '15207668', '2259': '2294961852', '2260': '502401589', '2261': '776683558345867264', '2262': '59130442', '2263': '31645910', '2264': '830808076756328448', '2265': '1340376710', '2266': '1269258001', '2267': '770979057097768960', '2268': '4714090743', '2269': '745273799545856000', '2270': '121974982', '2271': '248477609', '2272': '63114060', '2273': '820142625994981376', '2274': '89529342', '2275': '938152602935726081', '2276': '3013471692', '2277': '2206991523', '2278': '36724576', '2279': '311219277', '2280': '456098359', '2281': '1006033815972835328', '2282': '183665035', '2283': '548935149', '2284': '2510362008', '2285': '15464697', '2286': '38787877', '2287': '166990746', '2288': '2706430603', '2289': '984608374682681344', '2290': '894465693755637760', '2291': '33091632', '2292': '289112207', '2293': '195901715', '2294': '898643745314414592', '2295': '2429544368', '2296': '231717767', '2297': '713877778681171969', '2298': '374775473', '2299': '148653311', '2300': '840993476716199936', '2301': '23210326', '2302': '524932055', '2303': '38054768', '2304': '16955584', '2305': '724689054332293121', '2306': '1239417529', '2307': '8419572', '2308': '20474813', '2309': '2223157392', '2310': '160984682', '2311': '967531974322769920', '2312': '66822659', '2313': '923956005989486592', '2314': '2742497815', '2315': '816159363773726720', '2316': '811052060997283840', '2317': '754108278016241664', '2318': '1015043573698318336', '2319': '3686380401', '2320': '3199075041', '2321': '608152760', '2322': '789951468371521536', '2323': '838024187725873152', '2324': '2176547796', '2325': '967395536532852737', '2326': '24167294', '2327': '524516027', '2328': '23114772', '2329': '19038934', '2330': '3663026004', '2331': '1599375019', '2332': '735355203810131968', '2333': '769108935726997504', '2334': '100992242', '2335': '2441666255', '2336': '1289713620', '2337': '19103481', '2338': '539002395', '2339': '23137747', '2340': '360070742', '2341': '731480942', '2342': '3021379111', '2343': '4038362244', '2344': '295798360', '2345': '737292332', '2346': '16625082', '2347': '786677101365723136', '2348': '980611', '2349': '718816526279712768', '2350': '117479531', '2351': '14968065', '2352': '829712720542830592', '2353': '18738555', '2354': '913280833351442433', '2355': '719244005297516544', '2356': '924777338360999941', '2357': '9427572', '2358': '861848617', '2359': '80984948', '2360': '20718655', '2361': '67611162', '2362': '699386099756445696', '2363': '766878593007792128', '2364': '22685714', '2365': '408882844', '2366': '859818787192930304', '2367': '41337621', '2368': '802631694545256448', '2369': '21612122', '2370': '40538157', '2371': '14513611', '2372': '60047307', '2373': '24287329', '2374': '21458222', '2375': '2688639122', '2376': '14368326', '2377': '429902840', '2378': '738201026751258624', '2379': '822291764278984704', '2380': '2948919121', '2381': '29329102', '2382': '1470341090', '2383': '749796657613578240', '2384': '50376557', '2385': '31884873', '2386': '790603134288662528', '2387': '2338811370', '2388': '3308665527', '2389': '442854651', '2390': '898642695458922499', '2391': '768559838582497280', '2392': '798762044484747264', '2393': '934233744185217025', '2394': '17006157', '2395': '188447483', '2396': '25098338', '2397': '336176794', '2398': '820209037', '2399': '2828599436', '2400': '764828517209149440', '2401': '2467791', '2402': '1013293286', '2403': '15303753', '2404': '1528211203', '2405': '405936782', '2406': '799861600349868033', '2407': '16364668', '2408': '216503958', '2409': '65518831', '2410': '992621287099908096', '2411': '839099917121511425', '2412': '32318850', '2413': '16284406', '2414': '737714888269647872', '2415': '851957238419902464', '2416': '383964704', '2417': '3223426134', '2418': '49830133', '2419': '498549828', '2420': '701534470914994176', '2421': '16898332', '2422': '819960684444160000', '2423': '15256225', '2424': '131636741', '2425': '409369730', '2426': '4082924054', '2427': '4843103113', '2428': '980110147170308096', '2429': '117042662', '2430': '1080584377', '2431': '19910041', '2432': '39155029', '2433': '965591988786446338', '2434': '781531696063778817', '2435': '582036094', '2436': '781182632', '2437': '907660417198993408', '2438': '966148662257582083', '2439': '2274971684', '2440': '3171403062', '2441': '1626483860', '2442': '1587652249', '2443': '2154596974', '2444': '473111750', '2445': '204813511', '2446': '46054503', '2447': '3146282095', '2448': '752482551944585216', '2449': '40992312', '2450': '729520819869622274', '2451': '23753334', '2452': '37180323', '2453': '723124876123471872', '2454': '198910545', '2455': '838254678844583936', '2456': '572342303', '2457': '280104193', '2458': '904211118', '2459': '28273116', '2460': '236505287', '2461': '4913320595', '2462': '147772337', '2463': '31592030', '2464': '25553195', '2465': '223215618', '2466': '2937411406', '2467': '814974998095990784', '2468': '747807250819981312', '2469': '44744258', '2470': '2929937477', '2471': '310668632', '2472': '20402945', '2473': '4829526203', '2474': '1021549421610377217', '2475': '136734883', '2476': '44978716', '2477': '4893484985', '2478': '2248573141', '2479': '39791369', '2480': '11744152', '2481': '16179836', '2482': '23987282', '2483': '46263320', '2484': '2409576158', '2485': '18018355', '2486': '26486997', '2487': '580967619', '2488': '856530183700049920', '2489': '891036965402943488', '2490': '460974585', '2491': '2963445730', '2492': '801239984875376641', '2493': '3011691524', '2494': '63784068', '2495': '2966848055', '2496': '1239610758', '2497': '198251432', '2498': '3763737012', '2499': '865365986119008257', '2500': '706235418631499776', '2501': '2748582465', '2502': '814262234796830720', '2503': '237820029', '2504': '17494010', '2505': '372973767', '2506': '3536144002', '2507': '1216789842', '2508': '1396049863', '2509': '223333602', '2510': '24881397', '2511': '493089377', '2512': '710159739850596352', '2513': '251444382', '2514': '14060292', '2515': '735172264178688000', '2516': '1872353718', '2517': '1206135140', '2518': '2255642979', '2519': '3528564074', '2520': '580224794', '2521': '37871949', '2522': '2411349475', '2523': '807011596656463872', '2524': '2505766652', '2525': '139499789', '2526': '872720796', '2527': '838457598303223808', '2528': '3059387009', '2529': '45922298', '2530': '49564360', '2531': '4689978338', '2532': '701725963', '2533': '270697158', '2534': '428333', '2535': '19166519', '2536': '264483918', '2537': '388909847', '2538': '316307066', '2539': '890411769956585474', '2540': '824648254545678337', '2541': '21659297', '2542': '121804666', '2543': '2347049341', '2544': '378031561', '2545': '137812318', '2546': '387752000', '2547': '17642747', '2548': '350200848', '2549': '826987219571396608', '2550': '768781141', '2551': '21933047', '2552': '39133654', '2553': '406513179', '2554': '76003055', '2555': '13213122', '2556': '20181248', '2557': '784977218875322369', '2558': '356524234', '2559': '782040668784832512', '2560': '469194846', '2561': '804358410519056385', '2562': '2335542810', '2563': '753751576632627200', '2564': '50149303', '2565': '420608979', '2566': '782648718478548992', '2567': '404335124', '2568': '342844870', '2569': '1581378847', '2570': '808768479872643081', '2571': '23031094', '2572': '3133641954', '2573': '816869611480186880', '2574': '737457743108313088', '2575': '105453518', '2576': '23769223', '2577': '1732114914', '2578': '156872982', '2579': '534858822', '2580': '1345518332', '2581': '942034931483418625', '2582': '3995778614', '2583': '864306922769580033', '2584': '85289376', '2585': '3480231383', '2586': '366585100', '2587': '825829081866436608', '2588': '743467783036375040', '2589': '707518911953149952', '2590': '830447554022273024', '2591': '264361128', '2592': '1631748276', '2593': '823778092149706752', '2594': '312696314', '2595': '1684698344', '2596': '44216743', '2597': '959228286692986881', '2598': '3269772474', '2599': '2814372450', '2600': '743869197273292800', '2601': '829745252395339776', '2602': '923578168656752641', '2603': '880801071052062720', '2604': '234155215', '2605': '249859434', '2606': '857371228520288258', '2607': '39076082', '2608': '975147092866891776', '2609': '14662354', '2610': '3065933140', '2611': '817519139069820928', '2612': '16916446', '2613': '55246869', '2614': '450904322', '2615': '1877831', '2616': '435035276', '2617': '712425673', '2618': '18320938', '2619': '23763190', '2620': '225796961', '2621': '916477425713692673', '2622': '126701153', '2623': '17061263', '2624': '68797636', '2625': '1652541', '2626': '313376688', '2627': '19659231', '2628': '100609704', '2629': '487118986', '2630': '3112421878', '2631': '38571799', '2632': '2890467055', '2633': '252398355', '2634': '200061946', '2635': '47474439', '2636': '47819224', '2637': '1769646126', '2638': '47368876', '2639': '85939843', '2640': '14389225', '2641': '3137564636', '2642': '805570166050476032', '2643': '14197312', '2644': '262171016', '2645': '761675254796263425', '2646': '1663777496', '2647': '24086949', '2648': '1674606697', '2649': '29225781', '2650': '2276168748', '2651': '2483783551', '2652': '857491875967762432', '2653': '825034446667673602', '2654': '131629607', '2655': '246134345', '2656': '16129920', '2657': '2764084864', '2658': '475332446', '2659': '264954642', '2660': '25305215', '2661': '75797367', '2662': '983803510260088832', '2663': '49225113', '2664': '14345812', '2665': '403853442', '2666': '248884036', '2667': '799037852680069120', '2668': '931644637672083457', '2669': '761247111501455360', '2670': '60606206', '2671': '340613443', '2672': '7858042', '2673': '2200395025', '2674': '54374425', '2675': '16898660', '2676': '325722235', '2677': '15170157', '2678': '754342802184630273', '2679': '825397702808608768', '2680': '248735463', '2681': '43607424', '2682': '438041714', '2683': '765357788', '2684': '929348750748745730', '2685': '20818801', '2686': '27126512', '2687': '905042443124559872', '2688': '292083207', '2689': '841657162925391872', '2690': '2958350059', '2691': '16929998', '2692': '3235740563', '2693': '2319186079', '2694': '958904740699664386', '2695': '783175801', '2696': '892123677130715137', '2697': '4549852397', '2698': '16139649', '2699': '84335259', '2700': '2850251396', '2701': '901571293337841664', '2702': '150246405', '2703': '985474813711003651', '2704': '518991950', '2705': '702643367281364992', '2706': '47340859', '2707': '898036610', '2708': '34081563', '2709': '145746533', '2710': '897197394', '2711': '574857684', '2712': '53300275', '2713': '39919508', '2714': '2974665983', '2715': '398271367', '2716': '810178352871047168', '2717': '1955265703', '2718': '16832782', '2719': '7309052', '2720': '245511205', '2721': '1031960270', '2722': '3938402536', '2723': '1681981248', '2724': '48252327', '2725': '230832125', '2726': '56212053', '2727': '1053236226', '2728': '873479503523315713', '2729': '827856654951538689', '2730': '907087178', '2731': '830173882749325312', '2732': '172828753', '2733': '16219502', '2734': '18686907', '2735': '925708624055488513', '2736': '720084846303817728', '2737': '822925454470328320', '2738': '397052012', '2739': '23225472', '2740': '720424925681438722', '2741': '825700331602337793', '2742': '3819701', '2743': '800298310816800769', '2744': '3918098141', '2745': '853665499191943172', '2746': '34371118', '2747': '80338659', '2748': '311167475', '2749': '234739934', '2750': '17423554', '2751': '55457797', '2752': '99969937', '2753': '126014458', '2754': '937404641918119936', '2755': '118845216', '2756': '135946635', '2757': '432919695', '2758': '2415053456', '2759': '156233179', '2760': '739895436043898881', '2761': '95409978', '2762': '88063821', '2763': '1733991583', '2764': '758673693555818496', '2765': '2155154090', '2766': '332246353', '2767': '885733974', '2768': '97863902', '2769': '1116014257', '2770': '34001374', '2771': '3255452634', '2772': '248969771', '2773': '18363962', '2774': '2348906468', '2775': '741905232276410369', '2776': '472963673', '2777': '771696786130042880', '2778': '709308904136646656', '2779': '2256965582', '2780': '832740346794700800', '2781': '895017068', '2782': '980486999151923200', '2783': '52551600', '2784': '467510135', '2785': '18026638', '2786': '745813593321418752', '2787': '816968884171325441', '2788': '846919596078743552', '2789': '212308700', '2790': '3248832505', '2791': '1103852455', '2792': '821042561871548416', '2793': '2907208691', '2794': '962278782022356992', '2795': '600116886', '2796': '42703163', '2797': '2272116546', '2798': '840918887176773632', '2799': '971096278821146626', '2800': '271162814', '2801': '756522273599655936', '2802': '455537870', '2803': '21406834', '2804': '3679203797', '2805': '11347122', '2806': '144001050', '2807': '46091883', '2808': '239548513', '2809': '45193356', '2810': '16664681', '2811': '68774986', '2812': '4903035951', '2813': '247107366', '2814': '708453535927521280', '2815': '27009303', '2816': '724465525032628224', '2817': '25022818', '2818': '46734290', '2819': '966290909787811841', '2820': '799103658378072064', '2821': '18655567', '2822': '746159856772538368', '2823': '887289742647283712', '2824': '271830277', '2825': '748873311543701504', '2826': '1176994477', '2827': '1707835086', '2828': '758417442427117569', '2829': '148529707', '2830': '959869205230301185', '2831': '772618740638765056', '2832': '15745259', '2833': '15755669', '2834': '145813015', '2835': '150139471', '2836': '706357166', '2837': '78515008', '2838': '24852667', '2839': '2918161040', '2840': '33226319', '2841': '87128492', '2842': '887766532146823170', '2843': '3455796672', '2844': '896496644656685056', '2845': '218233319', '2846': '824257276345204738', '2847': '260444334', '2848': '34664371', '2849': '2582169104', '2850': '799748204963065856', '2851': '2893286561', '2852': '718213328384856065', '2853': '2934689409', '2854': '1462969034', '2855': '215456982', '2856': '216299334', '2857': '975071193647779841', '2858': '958165053882028032', '2859': '15147042', '2860': '92752104', '2861': '288796228', '2862': '11856892', '2863': '3270951991', '2864': '452551596', '2865': '222648151', '2866': '140689163', '2867': '4259148751', '2868': '972860184451338240', '2869': '2485959276', '2870': '788756843615039488', '2871': '14708814', '2872': '37075964', '2873': '831683303002533888', '2874': '733341600286400512', '2875': '1137840061', '2876': '15803220', '2877': '850727236281958401', '2878': '960607994328346624', '2879': '14269771', '2880': '615491347', '2881': '4854332050', '2882': '856953583392010240', '2883': '388118396', '2884': '559727682', '2885': '235172191', '2886': '835225264565207040', '2887': '1020058453', '2888': '136102097', '2889': '1243573922', '2890': '2248419177', '2891': '3243500510', '2892': '48479835', '2893': '914855588785516545', '2894': '719726770237358084', '2895': '29632225', '2896': '1206073021', '2897': '897985670165053440', '2898': '60412782', '2899': '1658940649', '2900': '774441999420186624', '2901': '27789237', '2902': '605912268', '2903': '2800257844', '2904': '36712233', '2905': '936147039192170496', '2906': '39668527', '2907': '17479016', '2908': '16001789', '2909': '2414913756', '2910': '23619366', '2911': '290139124', '2912': '2875446297', '2913': '972475565553922048', '2914': '13493302', '2915': '351963083', '2916': '418744604', '2917': '753774780759826433', '2918': '44935216', '2919': '1488486404', '2920': '887488334792142848', '2921': '926603843001028610', '2922': '2320094778', '2923': '14602051', '2924': '830113096404439044', '2925': '4282171', '2926': '760098215702110208', '2927': '1132449636', '2928': '16267083', '2929': '2181299862', '2930': '255826721', '2931': '14909501', '2932': '991109603504148480', '2933': '997123052247900162', '2934': '56030313', '2935': '499272792', '2936': '16134235', '2937': '758455092', '2938': '456397278', '2939': '32450547', '2940': '20182089', '2941': '46468137', '2942': '329905209', '2943': '805765695455772676', '2944': '1014577742300483584', '2945': '747792920', '2946': '355926337', '2947': '2731337361', '2948': '390755853', '2949': '126717954', '2950': '202201906', '2951': '1251767965', '2952': '2777639349', '2953': '350482584', '2954': '917501529480765441', '2955': '4852069546', '2956': '245209133', '2957': '1379418918', '2958': '420587502', '2959': '135587074', '2960': '2684865902', '2961': '973429068027740165', '2962': '2339161698', '2963': '4249826728', '2964': '123771138', '2965': '925416142318874624', '2966': '28587919', '2967': '2813812456', '2968': '27842754', '2969': '540903074', '2970': '888561468', '2971': '709464284909199360', '2972': '15922214', '2973': '20484064', '2974': '247367303', '2975': '539490937', '2976': '20772763', '2977': '780562134', '2978': '463459836', '2979': '2883483389', '2980': '937402190', '2981': '15535860', '2982': '579654009', '2983': '21024653', '2984': '7116142', '2985': '340713476', '2986': '978787610', '2987': '304932002', '2988': '37542374', '2989': '291903954', '2990': '728226853882875905', '2991': '253242118', '2992': '1220895650', '2993': '3348550570', '2994': '3620082433', '2995': '233484761', '2996': '17827628', '2997': '95917270', '2998': '2819139989', '2999': '1538439546', '3000': '362746534', '3001': '1424976996', '3002': '876772739809464320', '3003': '31127446', '3004': '249841274', '3005': '159541526', '3006': '2415577890', '3007': '44733548', '3008': '63485318', '3009': '750905187783544832', '3010': '741306513181057025', '3011': '2686106365', '3012': '76938755', '3013': '1851488912', '3014': '2661077215', '3015': '932661883630440449', '3016': '983749273308291072', '3017': '17679507', '3018': '891048784532094976', '3019': '2867028519', '3020': '217708411', '3021': '3168065509', '3022': '2216210047', '3023': '223970563', '3024': '711951772496093184', '3025': '21333939', '3026': '2393323908', '3027': '937403337598783488', '3028': '75944553', '3029': '43036967', '3030': '14287669', '3031': '61429383', '3032': '1959599568', '3033': '21684542', '3034': '2993704826', '3035': '21266548', '3036': '2923055007', '3037': '327723018', '3038': '2783166889', '3039': '2782074399', '3040': '93301623', '3041': '1636681632', '3042': '334079075', '3043': '1451063588', '3044': '740577509029216257', '3045': '286478661', '3046': '897571962897215488', '3047': '482411270', '3048': '712660213824925696', '3049': '805933317052858368', '3050': '87255945', '3051': '18804159', '3052': '497750790', '3053': '3160381099', '3054': '811350', '3055': '21756260', '3056': '2811494022', '3057': '2523433224', '3058': '74775546', '3059': '870285212915191812', '3060': '79784897', '3061': '983880475444834309', '3062': '3079986094', '3063': '978989204', '3064': '901810500421419008', '3065': '466871403', '3066': '63002955', '3067': '88168692', '3068': '350567866', '3069': '100864095', '3070': '621220745', '3071': '2147604445', '3072': '80321544', '3073': '23264144', '3074': '1132135453', '3075': '21204293', '3076': '1568352805', '3077': '316204316', '3078': '35400433', '3079': '794755878', '3080': '975041245', '3081': '40078375', '3082': '41984464', '3083': '565661380', '3084': '833208041419919361', '3085': '786336789904576512', '3086': '19084896', '3087': '517784675', '3088': '96709645', '3089': '249198427', '3090': '273030010', '3091': '705250042010050560', '3092': '3533955989', '3093': '836706834539024384', '3094': '622039732', '3095': '2983968363', '3096': '2147525794', '3097': '113252724', '3098': '13115682', '3099': '535643852', '3100': '27908697', '3101': '2862864074', '3102': '517841102', '3103': '59293272', '3104': '903313767596822528', '3105': '830760108107894790', '3106': '17094311', '3107': '326352304', '3108': '3885612434', '3109': '217419469', '3110': '293275195', '3111': '550946753', '3112': '627630760', '3113': '150407693', '3114': '2866865434', '3115': '16094885', '3116': '1463314856', '3117': '1580771017', '3118': '291999215', '3119': '275129652', '3120': '43449417', '3121': '988156331319316482', '3122': '1429987975', '3123': '967895490800046080', '3124': '14697575', '3125': '1008010896', '3126': '95382124', '3127': '410056274', '3128': '3328563771', '3129': '20943162', '3130': '55948054', '3131': '187289134', '3132': '783483954', '3133': '38073808', '3134': '2868011608', '3135': '1017135802902630403', '3136': '904442168424763394', '3137': '16745015', '3138': '898781703883378688', '3139': '800704496246484992', '3140': '2240189610', '3141': '69020299', '3142': '796589293', '3143': '824760002753740800', '3144': '179593136', '3145': '34655603', '3146': '2535511843', '3147': '44066494', '3148': '308130306', '3149': '255117773', '3150': '296541595', '3151': '720093010420244481', '3152': '2801229139', '3153': '489975747', '3154': '25583943', '3155': '1018483050898907136', '3156': '1209417007', '3157': '89474072', '3158': '935624091784146945', '3159': '2969760609', '3160': '44851811', '3161': '240280066', '3162': '999072625321172992', '3163': '835357878143758337', '3164': '23995748', '3165': '4427166675', '3166': '798368054698643457', '3167': '66528154', '3168': '73372461', '3169': '314296805', '3170': '831989054', '3171': '3467507836', '3172': '284317967', '3173': '398847577', '3174': '82699347', '3175': '3670992976', '3176': '720233706', '3177': '356312021', '3178': '4656846328', '3179': '828802288693235713', '3180': '198265082', '3181': '821637504', '3182': '339250006', '3183': '339512057', '3184': '966461972555358210', '3185': '467981668', '3186': '3272040728', '3187': '1448062916', '3188': '424511268', '3189': '774791063408029696', '3190': '43855487', '3191': '293137851', '3192': '814456283554320384', '3193': '755946560794558464', '3194': '756419729305247744', '3195': '745333443752562688', '3196': '367843406', '3197': '1005512169142738944', '3198': '774510439824822273', '3199': '324037695', '3200': '195553045', '3201': '997083346495836160', '3202': '317538553', '3203': '1617155006', '3204': '838867174307557376', '3205': '3099702758', '3206': '4885237752', '3207': '1000009220362731522', '3208': '325230936', '3209': '1110433146', '3210': '17615105', '3211': '873736014967255040', '3212': '3013170053', '3213': '950055480906403840', '3214': '958554545860284416', '3215': '715421426', '3216': '255247503', '3217': '37752766', '3218': '613406146', '3219': '1018144160174563328', '3220': '158949845', '3221': '17813899', '3222': '174364469', '3223': '585604003', '3224': '814113926237581312', '3225': '492833134', '3226': '112176930', '3227': '21744712', '3228': '949433483855720448', '3229': '258533494', '3230': '912722178138832897', '3231': '1008444843062775808', '3232': '277977085', '3233': '1659559729', '3234': '1343776471', '3235': '22094599', '3236': '23789340', '3237': '36921044', '3238': '12699932', '3239': '21883255', '3240': '27862658', '3241': '2973961019', '3242': '118326154', '3243': '603705695', '3244': '34429108', '3245': '758709471069831168', '3246': '371196600', '3247': '171456734', '3248': '255340030', '3249': '2767476963', '3250': '281765208', '3251': '549677443', '3252': '2784283835', '3253': '1025243509', '3254': '3104255870', '3255': '2257311978', '3256': '959681983755546624', '3257': '935427877083914240', '3258': '884104113302102016', '3259': '780182844375113728', '3260': '783350252', '3261': '287922171', '3262': '2286939943', '3263': '274213841', '3264': '119837703', '3265': '255513642', '3266': '14246088', '3267': '36321676', '3268': '38936142', '3269': '822907917062045696', '3270': '266867464', '3271': '61451150', '3272': '2852350434', '3273': '44513878', '3274': '1004775173143302145', '3275': '316259208', '3276': '1628623087', '3277': '2744181981', '3278': '938538814250905601', '3279': '784149515079184384', '3280': '8510242', '3281': '87298600', '3282': '17901366', '3283': '993266734164520960', '3284': '745864454047399936', '3285': '33720059', '3286': '216331785', '3287': '1162149450', '3288': '3008256863', '3289': '20302931', '3290': '708332423843545088', '3291': '3380651500', '3292': '5780032', '3293': '716279110964645888', '3294': '1021429061581762561', '3295': '19899606', '3296': '147982719', '3297': '3352476887', '3298': '1638200940', '3299': '2371420848', '3300': '4429003533', '3301': '229164205', '3302': '27384304', '3303': '80734453', '3304': '34643610', '3305': '2931901110', '3306': '3921342448', '3307': '1433961415', '3308': '757733668861251585', '3309': '844327750135615488', '3310': '438011665', '3311': '1040332158', '3312': '864139111', '3313': '15554072', '3314': '778383193460269056', '3315': '910119351537324032', '3316': '967972551212204033', '3317': '23139023', '3318': '55961019', '3319': '710636874008825856', '3320': '21048844', '3321': '954196418855612416', '3322': '486994022', '3323': '834531191835488263', '3324': '766393840634884097', '3325': '884474473088507904', '3326': '798716586454609920', '3327': '762389795037294592', '3328': '966342369846145025', '3329': '1380952124', '3330': '14344823', '3331': '809915001473499136', '3332': '779411208482848768', '3333': '341196634', '3334': '977718433923047425', '3335': '32626129', '3336': '385695632', '3337': '931041203356708864', '3338': '878429052671078401', '3339': '6124022', '3340': '975273232432599040', '3341': '195826487', '3342': '842365333', '3343': '854908276512702464', '3344': '590211920', '3345': '2684396141', '3346': '26822709', '3347': '901847484074299392', '3348': '527970373', '3349': '303276044', '3350': '138809881', '3351': '946454061884129280', '3352': '199462124', '3353': '6393032', '3354': '221084421', '3355': '826829703076073472', '3356': '2880885671', '3357': '820988930829021184', '3358': '23446740', '3359': '838217012497252353', '3360': '49622659', '3361': '947546259178496001', '3362': '241983890', '3363': '818564412852367360', '3364': '462050627', '3365': '15282471', '3366': '990043486807212032', '3367': '716813053', '3368': '706708880521211904', '3369': '29090846', '3370': '3932638161', '3371': '146644080', '3372': '4705558004', '3373': '789054295521890304', '3374': '534587730', '3375': '168729846', '3376': '3431705073', '3377': '204386965', '3378': '171632862', '3379': '14471533', '3380': '21567660', '3381': '15484198', '3382': '362151710', '3383': '149273648', '3384': '33953646', '3385': '3322639724', '3386': '16953409', '3387': '770449626', '3388': '259046865', '3389': '782620709977661440', '3390': '962948587', '3391': '155925554', '3392': '4910143816', '3393': '308045021', '3394': '27075032', '3395': '1532696282', '3396': '23645988', '3397': '19152339', '3398': '841023932694171648', '3399': '872849888328826880', '3400': '2408127200', '3401': '736026823', '3402': '36473243', '3403': '23098409', '3404': '978311183441670145', '3405': '2400661205', '3406': '19881112', '3407': '96336762', '3408': '860167653259923456', '3409': '275190051', '3410': '244177754', '3411': '2915158322', '3412': '605636064', '3413': '237477771', '3414': '720388840595329025', '3415': '98428164', '3416': '966761848820453378', '3417': '114870265', '3418': '176087555', '3419': '844188295412273152', '3420': '16700601', '3421': '1700634973', '3422': '20537525', '3423': '268078800', '3424': '1046023987', '3425': '791825360908197888', '3426': '759871093452791809', '3427': '164554364', '3428': '786590507287744513', '3429': '3341915745', '3430': '233949261', '3431': '218167595', '3432': '1247756370', '3433': '3299935537', '3434': '25045510', '3435': '307897027', '3436': '3009028587', '3437': '33613357', '3438': '32921295', '3439': '432557320', '3440': '3318569847', '3441': '879559946454654976', '3442': '737269303486074881', '3443': '716937519175233536', '3444': '977984156482359296', '3445': '702250695265808384', '3446': '1377950208', '3447': '118567880', '3448': '23853692', '3449': '486694111', '3450': '97336110', '3451': '362085135', '3452': '287413569', '3453': '811563425767813120', '3454': '217543151', '3455': '310012724', '3456': '855431553907863552', '3457': '224351791', '3458': '2471871', '3459': '2432310906', '3460': '895590626867068929', '3461': '18655359', '3462': '838970880', '3463': '43141962', '3464': '715217654575923201', '3465': '3310027153', '3466': '994732655454253056', '3467': '107589073', '3468': '922575079', '3469': '193509475', '3470': '755688610259763200', '3471': '26801518', '3472': '48710714', '3473': '10774652', '3474': '3118083580', '3475': '3369062063', '3476': '907378373114163201', '3477': '706554952156467200', '3478': '3025204997', '3479': '64088396', '3480': '66992314', '3481': '46671396', '3482': '183518281', '3483': '342609242', '3484': '932076672', '3485': '253875169', '3486': '198054116', '3487': '940430173517811714', '3488': '266731539', '3489': '835282796906070016', '3490': '21497752', '3491': '317954067', '3492': '112526560', '3493': '542723057', '3494': '14792049', '3495': '464315202', '3496': '966835430699266049', '3497': '2514118808', '3498': '756559416095191040', '3499': '75472136', '3500': '766091830563835904', '3501': '1049171', '3502': '193021447', '3503': '15783618', '3504': '912110333145309184', '3505': '409610608', '3506': '18637396', '3507': '4570577361', '3508': '52754791', '3509': '16232535', '3510': '955467882728706050', '3511': '818485580711477250', '3512': '127993669', '3513': '304715788', '3514': '1721619236', '3515': '752621952322318337', '3516': '21268897', '3517': '3223864460', '3518': '826803049356226562', '3519': '21785215', '3520': '936399276829155328', '3521': '209049324', '3522': '22747659', '3523': '357689059', '3524': '755265739708325888', '3525': '973692908321701888', '3526': '1358290958', '3527': '711613132649717761', '3528': '187428929', '3529': '2749442848', '3530': '17704826', '3531': '17292374', '3532': '190149987', '3533': '88287772', '3534': '845984788569870336', '3535': '3401335912', '3536': '263517351', '3537': '55712928', '3538': '2883455883', '3539': '843595546073976833', '3540': '776199739083677697', '3541': '2779797197', '3542': '19750159', '3543': '787481147211079682', '3544': '197986516', '3545': '2597108808', '3546': '21059255', '3547': '756896902394806273', '3548': '396016111', '3549': '2924249462', '3550': '324825101', '3551': '1132463448', '3552': '63514682', '3553': '788089056118841345', '3554': '961260529799933952', '3555': '4750473576', '3556': '3287816117', '3557': '823297737533767681', '3558': '223922439', '3559': '829697784789991424', '3560': '50332490', '3561': '14207618', '3562': '779708402964451333', '3563': '277168365', '3564': '993551492371054592', '3565': '37270422', '3566': '264271798', '3567': '18602717', '3568': '991025237696417792', '3569': '2225678221', '3570': '2444399083', '3571': '911910938193702912', '3572': '19725180', '3573': '2964974777', '3574': '15386175', '3575': '855007514621911040', '3576': '3182045803', '3577': '779859950751232000', '3578': '4733728937', '3579': '1829110663', '3580': '172150690', '3581': '1585746991', '3582': '284797561', '3583': '130181355', '3584': '3305337580', '3585': '22588009', '3586': '2506275669', '3587': '1477691611', '3588': '397707092', '3589': '9164672', '3590': '14986841', '3591': '3391409763', '3592': '785609157021872129', '3593': '19552528', '3594': '1924071992', '3595': '1955120395', '3596': '940374803566825478', '3597': '1076430200', '3598': '116440716', '3599': '914935687895506944', '3600': '1129762164', '3601': '2509237701', '3602': '15416505', '3603': '289147160', '3604': '419520517', '3605': '279198802', '3606': '736959136164806657', '3607': '3080343504', '3608': '56792355', '3609': '3846363435', '3610': '972089346', '3611': '727800899813449732', '3612': '499723063', '3613': '2887465954', '3614': '45139191', '3615': '274699227', '3616': '2546554567', '3617': '3310955642', '3618': '734168909553766405', '3619': '4876405220', '3620': '101005636', '3621': '732709475883212801', '3622': '981584656897380352', '3623': '2443164608', '3624': '923532428077084672', '3625': '1012197586009280512', '3626': '3899497877', '3627': '56435555', '3628': '270365754', '3629': '1283781870', '3630': '787159664311963648', '3631': '318753233', '3632': '57759723', '3633': '236143570', '3634': '54859077', '3635': '18200549', '3636': '2685988663', '3637': '829315686', '3638': '579474545', '3639': '905223877164392449', '3640': '2806474413', '3641': '19899980', '3642': '2750318615', '3643': '965212397664313344', '3644': '16004747', '3645': '922631139369549824', '3646': '714887575081607168', '3647': '4306318573', '3648': '892880061266673664', '3649': '727614203448549377', '3650': '836288505307410432', '3651': '577432615', '3652': '1008391477464948738', '3653': '374817258', '3654': '43077278', '3655': '3300941795', '3656': '3953765294', '3657': '757537572', '3658': '1009989178824720384', '3659': '953255982175539200', '3660': '406614098', '3661': '415773425', '3662': '1942599176', '3663': '718398360', '3664': '2164134732', '3665': '2180371', '3666': '984125616449613834', '3667': '428140124', '3668': '252998438', '3669': '826104850194653186', '3670': '991004698931904515', '3671': '58379000', '3672': '866002297842794497', '3673': '213834064', '3674': '324933475', '3675': '452448267', '3676': '234503673', '3677': '271799196', '3678': '1904949558', '3679': '1851322364', '3680': '2908170952', '3681': '335319903', '3682': '2350862439', '3683': '39130086', '3684': '3353061012', '3685': '971173040007602176', '3686': '813428788130410497', '3687': '403613369', '3688': '1425596516', '3689': '27529312', '3690': '1209148250', '3691': '53979469', '3692': '939951407536500736', '3693': '496996338', '3694': '52415376', '3695': '876503191', '3696': '972758621309173760', '3697': '952136526', '3698': '3889588456', '3699': '458377940', '3700': '795774693944852480', '3701': '227490287', '3702': '270483276', '3703': '1388744784', '3704': '766503133971439616', '3705': '91386979', '3706': '7388032', '3707': '3057954007', '3708': '339278618', '3709': '32510783', '3710': '36938906', '3711': '416033714', '3712': '289671337', '3713': '21252618', '3714': '704060092065423361', '3715': '896817666', '3716': '206534177', '3717': '533650397', '3718': '2585190777', '3719': '3951589336', '3720': '98851120', '3721': '385537554', '3722': '1102198944', '3723': '2813305330', '3724': '943502235358687234', '3725': '162301746', '3726': '916446242007379968', '3727': '345036379', '3728': '518099287', '3729': '38608681', '3730': '737760101193256961', '3731': '35773039', '3732': '2288811595', '3733': '60370335', '3734': '15335534', '3735': '1004143693', '3736': '752993338752577536', '3737': '2889879904', '3738': '431023014', '3739': '25589776', '3740': '1522839517', '3741': '279270981', '3742': '25974425', '3743': '1081500991', '3744': '21316253', '3745': '581381286', '3746': '2808244718', '3747': '2461887810', '3748': '2322767025', '3749': '3435074296', '3750': '953616483912966144', '3751': '28382829', '3752': '874828879101255680', '3753': '942468811', '3754': '770869718303596544', '3755': '1009510016691286021', '3756': '20097201', '3757': '33183258', '3758': '278324827', '3759': '1323187164', '3760': '19520887', '3761': '373100805', '3762': '897182399762620416', '3763': '1236465925', '3764': '20115538', '3765': '711521766590427136', '3766': '755826384', '3767': '823245800386023425', '3768': '610919499', '3769': '4827188051', '3770': '229989203', '3771': '2988727558', '3772': '241353891', '3773': '93880122', '3774': '151131231', '3775': '2567365058', '3776': '2690475422', '3777': '372536101', '3778': '815358981782634496', '3779': '823527834304057344', '3780': '592485538', '3781': '1006652539876634625', '3782': '2611598226', '3783': '92633481', '3784': '69420254', '3785': '747698952', '3786': '875416103949918209', '3787': '4035008068', '3788': '378703672', '3789': '18492784', '3790': '3184454384', '3791': '112723131', '3792': '71048726', '3793': '870861764', '3794': '18771370', '3795': '1223402400', '3796': '17094712', '3797': '17688491', '3798': '216380250', '3799': '1500129642', '3800': '22452370', '3801': '401476997', '3802': '364363911', '3803': '544719815', '3804': '347491613', '3805': '739953212439027713', '3806': '75166330', '3807': '214586101', '3808': '960671713', '3809': '287560552', '3810': '824150834921566208', '3811': '454099919', '3812': '963894958431309824', '3813': '399362783', '3814': '628473484', '3815': '33750798', '3816': '887863118', '3817': '16027904', '3818': '933856674556796929', '3819': '15162631', '3820': '1524542256', '3821': '2913993634', '3822': '512554477', '3823': '1163780521', '3824': '830179030888505345', '3825': '4720175060', '3826': '3310088909', '3827': '47739450', '3828': '3321448568', '3829': '448634500', '3830': '70644750', '3831': '365722591', '3832': '13604612', '3833': '2942272126', '3834': '2699865448', '3835': '156330634', '3836': '1518232154', '3837': '349803020', '3838': '201763180', '3839': '22445483', '3840': '48835175', '3841': '770861918', '3842': '2886613249', '3843': '96092282', '3844': '46916877', '3845': '207925910', '3846': '1294785314', '3847': '2318924946', '3848': '18391051', '3849': '1566948463', '3850': '2924900141', '3851': '708043919', '3852': '40447520', '3853': '2890961', '3854': '733110886835986432', '3855': '4799328876', '3856': '16113700', '3857': '1016458910117613569', '3858': '65045121', '3859': '550374658', '3860': '989877383502155777', '3861': '600970265', '3862': '847931163117334528', '3863': '844696082856755200', '3864': '3566317876', '3865': '768499711', '3866': '166419806', '3867': '554046705', '3868': '14443412', '3869': '730711896', '3870': '4926928720', '3871': '1389946177', '3872': '948182245784850433', '3873': '941714965', '3874': '2516656489', '3875': '2927283085', '3876': '798918201107251201', '3877': '8431652', '3878': '365956744', '3879': '983811934398173184', '3880': '17088240', '3881': '2926782154', '3882': '16738904', '3883': '115408705', '3884': '286613468', '3885': '3091324522', '3886': '344463100', '3887': '524545961', '3888': '23351505', '3889': '3329722033', '3890': '3175374281', '3891': '19451071', '3892': '19091173', '3893': '3053848725', '3894': '957635561988247552', '3895': '16877611', '3896': '321739354', '3897': '824467746436120576', '3898': '203811811', '3899': '3331634031', '3900': '35102205', '3901': '3231311359', '3902': '3308435831', '3903': '815708250217840640', '3904': '1959524407', '3905': '1023359430', '3906': '3327112373', '3907': '796951261618774016', '3908': '380291284', '3909': '29305962', '3910': '941080085121175552', '3911': '955493473859272705', '3912': '126755086', '3913': '943278866507976704', '3914': '798237360987242496', '3915': '874813405', '3916': '2596413645', '3917': '975339317273874432', '3918': '21462959', '3919': '306503091', '3920': '745705018066616320', '3921': '709122944', '3922': '3349546750', '3923': '929430463', '3924': '41154742', '3925': '781249885509066753', '3926': '400707283', '3927': '4581001636', '3928': '3949049181', '3929': '1200345432', '3930': '2951042889', '3931': '3297022953', '3932': '259563563', '3933': '703372592800014336', '3934': '971944086256144384', '3935': '147725246', '3936': '829467819179900933', '3937': '18783133', '3938': '1615420753', '3939': '2659479398', '3940': '34116023', '3941': '18149714', '3942': '829030931558133760', '3943': '380767025', '3944': '1206091106', '3945': '918883056647360513', '3946': '823348400460480514', '3947': '761972408022597633', '3948': '19516513', '3949': '896822069069008897', '3950': '747952450707984384', '3951': '26548841', '3952': '303145438', '3953': '2959505489', '3954': '1710983088', '3955': '37666984', '3956': '2607703608', '3957': '806214506263232514', '3958': '973900707626672129', '3959': '335455570', '3960': '3341950631', '3961': '79828796', '3962': '910253568397053952', '3963': '2840320525', '3964': '899128992766283776', '3965': '751407145359466496', '3966': '360037865', '3967': '15433452', '3968': '775802865378029568', '3969': '804605049859145728', '3970': '366939848', '3971': '888071044124344320', '3972': '2901060972', '3973': '36502981', '3974': '5392522', '3975': '612030023', '3976': '477864155', '3977': '1954310454', '3978': '767921409678987264', '3979': '918092594583932928', '3980': '940776195599294465', '3981': '2648724698', '3982': '4851628037', '3983': '171606833', '3984': '214708464', '3985': '2319632756', '3986': '759167747163054081', '3987': '406348956', '3988': '4790293764', '3989': '935832975823929344', '3990': '51913011', '3991': '440464127', '3992': '195271137', '3993': '812072776718831616', '3994': '1661561491', '3995': '3167240643', '3996': '207638057', '3997': '3819810854', '3998': '16927315', '3999': '1091216816', '4000': '455764741', '4001': '433738449', '4002': '4815348508', '4003': '111490230', '4004': '331350122', '4005': '979837561634881536', '4006': '140665322', '4007': '2237808535', '4008': '711339879343349760', '4009': '89820928', '4010': '620188550', '4011': '278145569', '4012': '937318077456199687', '4013': '954441361696079872', '4014': '1901209712', '4015': '21117616', '4016': '62350866', '4017': '63788826', '4018': '968584109596512261', '4019': '3312608930', '4020': '807095', '4021': '461664135', '4022': '384599314', '4023': '23707836', '4024': '16548855', '4025': '776846372825886720', '4026': '779416021186797568', '4027': '148976002', '4028': '885545164101619712', '4029': '2415793986', '4030': '5603772', '4031': '372024942', '4032': '761799487186735105', '4033': '123327472', '4034': '139314078', '4035': '831209852261109760', '4036': '3035315280', '4037': '826225046922211328', '4038': '326142499', '4039': '261109532', '4040': '1064403108', '4041': '721052997187473408', '4042': '266635682', '4043': '14932463', '4044': '27716419', '4045': '587939062', '4046': '505612937', '4047': '2513438476', '4048': '47361215', '4049': '20263645', '4050': '990930755780988929', '4051': '754694116659703808', '4052': '342226913', '4053': '178498912', '4054': '2327400218', '4055': '460777552', '4056': '2186276186', '4057': '92408522', '4058': '1252290720', '4059': '384122063', '4060': '243418245', '4061': '930806653', '4062': '1631181450', '4063': '15327996', '4064': '4140638413', '4065': '24703826', '4066': '570163981', '4067': '46974597', '4068': '967466891190194176', '4069': '42245932', '4070': '823229458102571009', '4071': '28544480', '4072': '313038011', '4073': '863407474048733186', '4074': '841871008822894593', '4075': '871839361', '4076': '44787368', '4077': '959842754674216960', '4078': '975902535742607360', '4079': '5692542', '4080': '1663926390', '4081': '695654615782543361', '4082': '914742865707667456', '4083': '48414514', '4084': '46213956', '4085': '490900335', '4086': '2097571', '4087': '440281581', '4088': '17824687', '4089': '407518728', '4090': '722639575668154369', '4091': '435564722', '4092': '849241762388471808', '4093': '908841659726577664', '4094': '15088394', '4095': '51103551', '4096': '2424368450', '4097': '909446351678840834', '4098': '78183672', '4099': '74739861', '4100': '20562637', '4101': '260856593', '4102': '27326253', '4103': '609605230', '4104': '39606676', '4105': '2357872167', '4106': '40388524', '4107': '119714977', '4108': '3103989758', '4109': '732388003', '4110': '49061518', '4111': '57729793', '4112': '28150695', '4113': '815579940254949377', '4114': '764785920', '4115': '832642628906790912', '4116': '816746109003411456', '4117': '93793267', '4118': '786696728', '4119': '18916432', '4120': '1292898836', '4121': '729698192', '4122': '803434249667878912', '4123': '752555380325113856', '4124': '65947064', '4125': '842015880', '4126': '3325126334', '4127': '2188436323', '4128': '738796494', '4129': '170257105', '4130': '216881337', '4131': '509806145', '4132': '588145850', '4133': '509934323', '4134': '17346158', '4135': '17013130', '4136': '21654935', '4137': '264517385', '4138': '17004618', '4139': '48639874', '4140': '17309226', '4141': '12612432', '4142': '45056461', '4143': '2496335227', '4144': '846372716152160257', '4145': '19032473', '4146': '894778094115897344', '4147': '44184316', '4148': '134583576', '4149': '723892718926106624', '4150': '758700287188238336', '4151': '832103054694440960', '4152': '3187355714', '4153': '50243741', '4154': '2519690888', '4155': '18544958', '4156': '1655965442', '4157': '14774353', '4158': '818567767309750272', '4159': '14572208', '4160': '143739561', '4161': '237658796', '4162': '14426609', '4163': '17839398', '4164': '959868384832839681', '4165': '846439433872310273', '4166': '220431587', '4167': '22055226', '4168': '886702913745289216', '4169': '750392283829116928', '4170': '964211769928544257', '4171': '705585036108685312', '4172': '1012711206950461441', '4173': '264248576', '4174': '1243179704', '4175': '1541086118', '4176': '944713324150718464', '4177': '15766082', '4178': '803989472937385984', '4179': '15297452', '4180': '531748883', '4181': '714996735', '4182': '486631331', '4183': '3412638831', '4184': '3104464336', '4185': '232268199', '4186': '500589018', '4187': '4303298356', '4188': '2419910149', '4189': '1449423386', '4190': '571249889', '4191': '2210938932', '4192': '914120123874779136', '4193': '4873877597', '4194': '5744772', '4195': '2596970036', '4196': '1013439546111995906', '4197': '16077330', '4198': '1392951560', '4199': '1018495660407083008', '4200': '25417360', '4201': '63434099', '4202': '829488827463000064', '4203': '443304640', '4204': '953656169578598400', '4205': '887263798251458560', '4206': '956759468993265664', '4207': '734943156', '4208': '14435027', '4209': '726489448662228993', '4210': '126401831', '4211': '44983352', '4212': '1098782046', '4213': '92186819', '4214': '3372178235', '4215': '1253097564', '4216': '1855815326', '4217': '38847885', '4218': '4905618929', '4219': '9300262', '4220': '985708996689645568', '4221': '594437685', '4222': '960755586', '4223': '84183248', '4224': '1636713511', '4225': '547860279', '4226': '3380640376', '4227': '840035455500447744', '4228': '18839785', '4229': '845136126708899840', '4230': '1674315427', '4231': '984259961780924416', '4232': '851101018955763712', '4233': '729086825172766720', '4234': '833074694739726336', '4235': '959933232321105920', '4236': '787971925767294976', '4237': '1853175620', '4238': '895452074804219904', '4239': '304679484', '4240': '2895735686', '4241': '69022849', '4242': '988569068419670017', '4243': '935939642716692481', '4244': '743450288376291332', '4245': '553206647', '4246': '188338427', '4247': '2837740965', '4248': '705138543610310656', '4249': '983766825610694656', '4250': '805473419491950592', '4251': '19183874', '4252': '17659006', '4253': '875713254', '4254': '4614194440', '4255': '23746411', '4256': '2548000720', '4257': '139956991', '4258': '3337054667', '4259': '1612067526', '4260': '809800637944709120', '4261': '30354991', '4262': '975484468235522048', '4263': '80285705', '4264': '960647340494225409', '4265': '782660968413179904', '4266': '1084586538', '4267': '7431372', '4268': '2436514921', '4269': '2700687336', '4270': '936913395231715328', '4271': '26241294', '4272': '1026527017', '4273': '542886008', '4274': '835181961832378368', '4275': '3888041654', '4276': '2424016218', '4277': '27841901', '4278': '374319508', '4279': '871399297', '4280': '2940338601', '4281': '22145361', '4282': '105548359', '4283': '33537967', '4284': '29352824', '4285': '358293294', '4286': '100525507', '4287': '990604794426482688', '4288': '1012632209520513024', '4289': '71350927', '4290': '20848391', '4291': '443922233', '4292': '999479737725652992', '4293': '894450550032519170', '4294': '4904061506', '4295': '15391466', '4296': '884249755152519168', '4297': '874827085285642240', '4298': '531664528', '4299': '363259494', '4300': '21127476', '4301': '16244449', '4302': '16075047', '4303': '17907987', '4304': '2357433948', '4305': '1721163391', '4306': '885716186314416128', '4307': '2252174142', '4308': '756572537136353282', '4309': '803252779204640768', '4310': '15863602', '4311': '2273788212', '4312': '1969241809', '4313': '126629610', '4314': '2189345281', '4315': '907656193283211264', '4316': '2784963250', '4317': '20973388', '4318': '156962105', '4319': '221477190', '4320': '2188376708', '4321': '1055907624', '4322': '635318610', '4323': '912582331591823360', '4324': '302712875', '4325': '374789783', '4326': '258869223', '4327': '819646711689711617', '4328': '167778891', '4329': '860665718', '4330': '2393151230', '4331': '917995345', '4332': '936754297420898304', '4333': '862808874310565888', '4334': '797229459803926528', '4335': '316701606', '4336': '979188344381935617', '4337': '459912248', '4338': '786711568797016064', '4339': '816301609126858756', '4340': '4880386810', '4341': '847075612841971712', '4342': '941059995638124544', '4343': '397562209', '4344': '2489699181', '4345': '24282469', '4346': '4801269416', '4347': '21318981', '4348': '15651918', '4349': '720781480046120960', '4350': '48809111', '4351': '1000550423672041473', '4352': '362633029', '4353': '920455609056559105', '4354': '901912941540331521', '4355': '825384782469152768', '4356': '1871553066', '4357': '939356530473947136', '4358': '24113137', '4359': '850486941418225664', '4360': '148945994', '4361': '3102510582', '4362': '882064502992318464', '4363': '826479155319541760', '4364': '4418284577', '4365': '843571300098625537', '4366': '393844737', '4367': '2334144626', '4368': '851109577877839873', '4369': '831161169410932736', '4370': '3545356334', '4371': '3187848737', '4372': '2242566451', '4373': '786186679786676224', '4374': '4859363242', '4375': '914968570735595521', '4376': '18071459', '4377': '822444348977463296', '4378': '2359537176', '4379': '1345758930', '4380': '802898395794997250', '4381': '299326712', '4382': '425108928', '4383': '1367456600', '4384': '1414032152', '4385': '1362397387', '4386': '16948493', '4387': '17223539', '4388': '16997504', '4389': '836344058062782465', '4390': '823638938590085124', '4391': '132549610', '4392': '902889763333603328', '4393': '856732580', '4394': '36423383', '4395': '2973998729', '4396': '830537698993664001', '4397': '820506677816344578', '4398': '16164636', '4399': '14792263', '4400': '785649571787444225', '4401': '2346195950', '4402': '20099927', '4403': '199461449', '4404': '966144290857607168', '4405': '74806059', '4406': '1548756205', '4407': '15710000', '4408': '373402459', '4409': '36796214', '4410': '20243128', '4411': '261721090', '4412': '967946580404920320', '4413': '1223520986', '4414': '34383891', '4415': '801241407419781120', '4416': '967652688367423488', '4417': '784899405799313408', '4418': '93533268', '4419': '2352438733', '4420': '1710316669', '4421': '941032022956527616', '4422': '4198058764', '4423': '2758342215', '4424': '2980817742', '4425': '979450399672352768', '4426': '49044310', '4427': '381054502', '4428': '2376371028', '4429': '913875313406337024', '4430': '88784440', '4431': '21656824', '4432': '2841294098', '4433': '2342342148', '4434': '22257296', '4435': '820725130338844673', '4436': '1314440233', '4437': '750102952530972673', '4438': '2373960800', '4439': '837116065087795201', '4440': '822190547469275137', '4441': '977876877883867138', '4442': '116048117', '4443': '1580562060', '4444': '825884960112324611', '4445': '715496304777015296', '4446': '3009689501', '4447': '574969662', '4448': '14164972', '4449': '805152063281831936', '4450': '21667514', '4451': '50643744', '4452': '912187569961611264', '4453': '726647448186281984', '4454': '60912576', '4455': '4019547388', '4456': '16155881', '4457': '48262996', '4458': '9763482', '4459': '18086309', '4460': '21547139', '4461': '34800994', '4462': '277915571', '4463': '3078574250', '4464': '78094182', '4465': '1634149760', '4466': '19664800', '4467': '3386124045', '4468': '1629417398', '4469': '289998339', '4470': '902573553689735170', '4471': '327622609', '4472': '103690166', '4473': '182901183', '4474': '611097999', '4475': '1127858498', '4476': '15952856', '4477': '62832067', '4478': '7228682', '4479': '866740496', '4480': '81892618', '4481': '740109298357899264', '4482': '947110763503800320', '4483': '293131808', '4484': '292933161', '4485': '755829115', '4486': '113488232', '4487': '588229029', '4488': '4817958794', '4489': '199796064', '4490': '29283', '4491': '310928830', '4492': '711287276479754241', '4493': '15063486', '4494': '264359201', '4495': '760100403761573888', '4496': '1277390226', '4497': '16589206', '4498': '831994656854536192', '4499': '49109425', '4500': '929780342147469312', '4501': '14569869', '4502': '351682026', '4503': '1027972254', '4504': '1878544014', '4505': '835763551633567744', '4506': '23970102', '4507': '799226419029114880', '4508': '218597735', '4509': '76799214', '4510': '798279240374317059', '4511': '492397682', '4512': '801962070', '4513': '3214466631', '4514': '187796215', '4515': '4824177916', '4516': '15950681', '4517': '792854706460749824', '4518': '3415543750', '4519': '23603440', '4520': '33235771', '4521': '318752245', '4522': '294902433', '4523': '1651522832', '4524': '743292399930093572', '4525': '89227121', '4526': '2794668746', '4527': '235350704', '4528': '40505130', '4529': '480900509', '4530': '512402368', '4531': '831641234720428034', '4532': '125375423', '4533': '121905529', '4534': '931286316', '4535': '3373472584', '4536': '6724252', '4537': '21722318', '4538': '48036425', '4539': '635608354', '4540': '814331324', '4541': '27699644', '4542': '2408067523', '4543': '190589983', '4544': '202206694', '4545': '58443977', '4546': '217598637', '4547': '47438401', '4548': '1106777071', '4549': '15482138', '4550': '266133081', '4551': '815719898', '4552': '74768403', '4553': '36095922', '4554': '976969338', '4555': '823252516662026244', '4556': '16066592', '4557': '21027387', '4558': '705534629', '4559': '40996128', '4560': '16988582', '4561': '819156506671124480', '4562': '864571693758644226', '4563': '885835554776121344', '4564': '518692321', '4565': '203132018', '4566': '47633485', '4567': '806976003083902976', '4568': '8736882', '4569': '733867009088311297', '4570': '817114947205283841', '4571': '56961858', '4572': '840115294286696448', '4573': '764962305578786816', '4574': '1670258292', '4575': '7429102', '4576': '3461203584', '4577': '599844433', '4578': '217238658', '4579': '909815529900269568', '4580': '534255533', '4581': '234022540', '4582': '736744382288695296', '4583': '16082911', '4584': '4216870275', '4585': '19790638', '4586': '754316935643406337', '4587': '3122509544', '4588': '532182714', '4589': '936945026525024258', '4590': '2754300900', '4591': '1332565908', '4592': '46776090', '4593': '966724809844559872', '4594': '2984067723', '4595': '938419883745869824', '4596': '890821533123330048', '4597': '66172538', '4598': '14962957', '4599': '2538868502', '4600': '246126169', '4601': '6948692', '4602': '6531902', '4603': '787622978599194624', '4604': '2734884260', '4605': '2219250032', '4606': '18457859', '4607': '42447494', '4608': '84576746', '4609': '1699829078', '4610': '713839291210792960', '4611': '4182255850', '4612': '917412395777216519', '4613': '954124423', '4614': '829388774140477441', '4615': '848183366956593152', '4616': '16044997', '4617': '831172800878637056', '4618': '165166741', '4619': '764578478754758656', '4620': '945721068685213696', '4621': '798321947708981248', '4622': '76181125', '4623': '15358759', '4624': '978446227388837888', '4625': '234922535', '4626': '19016767', '4627': '1009994250', '4628': '31939866', '4629': '17907090', '4630': '25320639', '4631': '950815002792898562', '4632': '744281884310405120', '4633': '4551173799', '4634': '3097951626', '4635': '2251196504', '4636': '816795906179743744', '4637': '105818916', '4638': '1120447400', '4639': '4698979873', '4640': '721093982042791936', '4641': '992679305862770688', '4642': '1931084401', '4643': '705829910779006976', '4644': '215629742', '4645': '2424142022', '4646': '928023592989855745', '4647': '985958945541050368', '4648': '54608012', '4649': '713967182451982337', '4650': '2632449148', '4651': '825741090175098881', '4652': '2966205003', '4653': '44175599', '4654': '121338276', '4655': '1895523686', '4656': '636222904', '4657': '818876014390603776', '4658': '3231988373', '4659': '398456908', '4660': '776213524896886784', '4661': '109065110', '4662': '715729887848337409', '4663': '888178873787133952', '4664': '4122885375', '4665': '164397041', '4666': '3750265342', '4667': '113364160', '4668': '432130766', '4669': '399565126', '4670': '796986594045689856', '4671': '166516835', '4672': '262963290', '4673': '370278480', '4674': '258743653', '4675': '791787527321419776', '4676': '394580041', '4677': '1332473323', '4678': '20046015', '4679': '128892367', '4680': '821424851307130880', '4681': '44037529', '4682': '23597680', '4683': '540543234', '4684': '198024326', '4685': '2411474370', '4686': '80851077', '4687': '833013451249197056', '4688': '1912734445', '4689': '15069824', '4690': '66360375', '4691': '149768032', '4692': '357819988', '4693': '2431161025', '4694': '20494522', '4695': '824246691339517952', '4696': '17582355', '4697': '29522338', '4698': '74812838', '4699': '1830844836', '4700': '882127195900174336', '4701': '348778908', '4702': '14602386', '4703': '834901362118905858', '4704': '15973801', '4705': '157213317', '4706': '3085588631', '4707': '2820634987', '4708': '993265299012112384', '4709': '29899593', '4710': '102805554', '4711': '27853178', '4712': '52798256', '4713': '1125409681', '4714': '269798459', '4715': '261863668', '4716': '940342763094265858', '4717': '724698129128259585', '4718': '807288448117800962', '4719': '1035794065', '4720': '870745602', '4721': '462067953', '4722': '804692402644586496', '4723': '1323359041', '4724': '961330157536542720', '4725': '108643249', '4726': '17060573', '4727': '63790521', '4728': '17348525', '4729': '53313918', '4730': '924359605', '4731': '237428111', '4732': '750419039126753280', '4733': '700423097560784896', '4734': '18326808', '4735': '2253767754', '4736': '2236653182', '4737': '69666298', '4738': '972912423198973954', '4739': '815734894039068673', '4740': '462316942', '4741': '2827300654', '4742': '950515051408052226', '4743': '24920395', '4744': '990112261', '4745': '18170845', '4746': '2560030188', '4747': '825457932934463488', '4748': '967272307663060992', '4749': '891482371', '4750': '502321545', '4751': '913870262675869702', '4752': '16458383', '4753': '50230051', '4754': '174515926', '4755': '3214535567', '4756': '880496371647762432', '4757': '283323982', '4758': '2474647404', '4759': '20565828', '4760': '24793496', '4761': '16345682', '4762': '391499828', '4763': '1716675188', '4764': '760097006429757441', '4765': '340035326', '4766': '964607374714482688', '4767': '996375996298420225', '4768': '878245376', '4769': '179785566', '4770': '15182798', '4771': '15247273', '4772': '23509204', '4773': '1493930180', '4774': '114402650', '4775': '723857237660303360', '4776': '1358421824', '4777': '177168434', '4778': '384530317', '4779': '91126711', '4780': '24617512', '4781': '708471306702823424', '4782': '841619472318418945', '4783': '369188824', '4784': '248358917', '4785': '626201423', '4786': '227075375', '4787': '3328710073', '4788': '2324917394', '4789': '327445876', '4790': '2841714842', '4791': '508201076', '4792': '964085363953213440', '4793': '22187085', '4794': '791077327', '4795': '975153879573843968', '4796': '796913407383523328', '4797': '3866636058', '4798': '883737164206493698', '4799': '297031788', '4800': '46808996', '4801': '804660055878631424', '4802': '30726383', '4803': '17130616', '4804': '933714566470619136', '4805': '356633803', '4806': '927380674432049152', '4807': '3040228738', '4808': '759173398538940417', '4809': '151635845', '4810': '2319985382', '4811': '2699143866', '4812': '968518766098354177', '4813': '109602598', '4814': '98750621', '4815': '731132367058968576', '4816': '862238681272385536', '4817': '42389523', '4818': '834370586', '4819': '3226963611', '4820': '704353869795606528', '4821': '52332495', '4822': '2564330263', '4823': '460660731', '4824': '824659817201618945', '4825': '947912443942047744', '4826': '4746084922', '4827': '17018594', '4828': '15863347', '4829': '286012184', '4830': '845316320900108288', '4831': '781013123251707904', '4832': '4877208435', '4833': '901940837696888837', '4834': '4042953262', '4835': '43984651', '4836': '37590426', '4837': '259500938', '4838': '17922476', '4839': '885203193034153984', '4840': '761566897955418112', '4841': '1074958478', '4842': '134608239', '4843': '350296113', '4844': '2835451658', '4845': '938671448', '4846': '117810351', '4847': '374653073', '4848': '20583993', '4849': '419078359', '4850': '524621806', '4851': '136655165', '4852': '344445895', '4853': '17157858', '4854': '210716640', '4855': '414239235', '4856': '20932641', '4857': '24384002', '4858': '955184106429612032', '4859': '2167347758', '4860': '4201620672', '4861': '839864106140192770', '4862': '294248602', '4863': '22929686', '4864': '321589427', '4865': '799425312', '4866': '905227912546103297', '4867': '703301432498393088', '4868': '17470695', '4869': '4152366797', '4870': '275322482', '4871': '3948409287', '4872': '413952298', '4873': '759358802', '4874': '120449708', '4875': '1699988293', '4876': '55113967', '4877': '829820566504882181', '4878': '330721266', '4879': '148627927', '4880': '797666551998447616', '4881': '3302113075', '4882': '179221447', '4883': '145383915', '4884': '43426166', '4885': '34101992', '4886': '3911767461', '4887': '558926722', '4888': '52210789', '4889': '198623382', '4890': '821454811954487296', '4891': '2730264319', '4892': '52230962', '4893': '16002085', '4894': '779767401671827456', '4895': '37185226', '4896': '890970858117836800', '4897': '268515988', '4898': '3013900495', '4899': '730199995257737216', '4900': '479724576', '4901': '70664947', '4902': '77999169', '4903': '60971636', '4904': '159302167', '4905': '974320919417106432', '4906': '2314008787', '4907': '50340695', '4908': '368481845', '4909': '988888509745385473', '4910': '759766076641206277', '4911': '172309095', '4912': '294814556', '4913': '4835593824', '4914': '845267198696411138', '4915': '96832964', '4916': '726252288562487296', '4917': '141025455', '4918': '360940947', '4919': '802692493321977857', '4920': '763394245008982016', '4921': '1486297692', '4922': '544606531', '4923': '354048709', '4924': '3048019123', '4925': '19333738', '4926': '959039318718402563', '4927': '1176955220', '4928': '598925796', '4929': '564056778', '4930': '785795854183440385', '4931': '383965040', '4932': '942234312895741952', '4933': '2721974507', '4934': '141457038', '4935': '2385367172', '4936': '3778429406', '4937': '987357970605408257', '4938': '2857356332', '4939': '751766718', '4940': '68543202', '4941': '859906554853773312', '4942': '196008287', '4943': '32313637', '4944': '399712913', '4945': '1033251121', '4946': '35281339', '4947': '242414823', '4948': '2863210809', '4949': '977985044533989376', '4950': '15057303', '4951': '960399743997296640', '4952': '734790230843269120', '4953': '363207987', '4954': '1061792642', '4955': '862685075099484160', '4956': '36429938', '4957': '3361027999', '4958': '75443145', '4959': '302617835', '4960': '3276188436', '4961': '762252876', '4962': '948792503850979328', '4963': '807397572734238726', '4964': '986768947', '4965': '785289018757873664', '4966': '42325768', '4967': '253232223', '4968': '528949321', '4969': '835627637049450497', '4970': '563715467', '4971': '804389646838984704', '4972': '34504706', '4973': '719310441151860737', '4974': '2549128050', '4975': '989156443264778240', '4976': '312407248', '4977': '1435465039', '4978': '949007798', '4979': '885646981', '4980': '384075827', '4981': '709716559028228096', '4982': '72083279', '4983': '823423879', '4984': '3413598225', '4985': '758352', '4986': '2900861101', '4987': '45360908', '4988': '726127116438233088', '4989': '14793058', '4990': '955040667905900544', '4991': '246618637', '4992': '721484105850822656', '4993': '764464880225095680', '4994': '789536990', '4995': '562518183', '4996': '779805587622207488', '4997': '339970734', '4998': '53692193', '4999': '254642755', '5000': '28417483', '5001': '791455606087397376', '5002': '300642262', '5003': '61349124', '5004': '742865590600110081', '5005': '994291542679478272', '5006': '3349645744', '5007': '3507460516', '5008': '52242864', '5009': '1385730342', '5010': '17514726', '5011': '2013741', '5012': '83673742', '5013': '848335797375737856', '5014': '586022372', '5015': '554468819', '5016': '33520167', '5017': '797080559839309824', '5018': '1476284540', '5019': '397738093', '5020': '865683658450980864', '5021': '946755478725545984', '5022': '3061822538', '5023': '759186559648174080', '5024': '26183714', '5025': '403848097', '5026': '160616292', '5027': '2982860357', '5028': '2713436588', '5029': '723537344754798592', '5030': '25550187', '5031': '134252261', '5032': '260889364', '5033': '791062131512709120', '5034': '47808357', '5035': '944002709732110337', '5036': '313058825', '5037': '735528193210363904', '5038': '19582503', '5039': '579419881', '5040': '1135218048', '5041': '14280299', '5042': '35331412', '5043': '4265996255', '5044': '807779662155935744', '5045': '854338572832428032', '5046': '29593475', '5047': '891529460968587265', '5048': '19847765', '5049': '1154563261', '5050': '836277460417171456', '5051': '78160606', '5052': '118101086', '5053': '3050271631', '5054': '726919636797771777', '5055': '384009624', '5056': '18457820', '5057': '91180720', '5058': '988145162219085825', '5059': '19658826', '5060': '3064649189', '5061': '784261346', '5062': '2547964104', '5063': '3015828635', '5064': '1362047599', '5065': '3954807015', '5066': '60690365', '5067': '15384969', '5068': '2738242589', '5069': '2217063241', '5070': '3493563087', '5071': '239140810', '5072': '1720044164', '5073': '824674514449661953', '5074': '2372034590', '5075': '38828493', '5076': '2730475154', '5077': '12089642', '5078': '18131358', '5079': '562665519', '5080': '1220469721', '5081': '144390890', '5082': '2359911559', '5083': '49441357', '5084': '3303033874', '5085': '159775939', '5086': '2728100090', '5087': '802578014110420993', '5088': '1902827713', '5089': '17521796', '5090': '12036362', '5091': '365750805', '5092': '17017636', '5093': '291732027', '5094': '157296355', '5095': '3313054675', '5096': '16438613', '5097': '711012849212981248', '5098': '29409786', '5099': '804159700686241793', '5100': '196850893', '5101': '1611753109', '5102': '49804173', '5103': '215657687', '5104': '728320930657767424', '5105': '144635682', '5106': '4828189779', '5107': '18791763', '5108': '529627026', '5109': '14874480', '5110': '1345755055', '5111': '126372627', '5112': '2943574418', '5113': '888650520', '5114': '64014731', '5115': '3022469442', '5116': '724400269946159104', '5117': '954498812617412611', '5118': '175830727', '5119': '3039781324', '5120': '240802366', '5121': '247143151', '5122': '2802914011', '5123': '17364806', '5124': '958760532919701505', '5125': '983776497738571776', '5126': '31540671', '5127': '849880970', '5128': '1522458356', '5129': '2261857839', '5130': '44936481', '5131': '3923969715', '5132': '437976746', '5133': '280664117', '5134': '33938115', '5135': '457743272', '5136': '2209011535', '5137': '3951726322', '5138': '2720586630', '5139': '862324808939339777', '5140': '889589836549681153', '5141': '975217231', '5142': '26496978', '5143': '15450996', '5144': '805813318304702464', '5145': '4457735657', '5146': '823307952878653441', '5147': '24570249', '5148': '9783422', '5149': '800013615705313280', '5150': '122262091', '5151': '788524', '5152': '49558804', '5153': '127489122', '5154': '229010922', '5155': '120929914', '5156': '834529854339088390', '5157': '159297427', '5158': '976927777', '5159': '264501955', '5160': '1169054324', '5161': '3007109906', '5162': '12738892', '5163': '776560449932275713', '5164': '23817485', '5165': '23435129', '5166': '238286970', '5167': '223956725', '5168': '2565673338', '5169': '23879043', '5170': '2351516042', '5171': '917738048988876801', '5172': '2332978871', '5173': '954925041350672384', '5174': '817409784777506816', '5175': '976124594791821312', '5176': '24055465', '5177': '866413180083359744', '5178': '825836837235200000', '5179': '36691118', '5180': '994750018300018688', '5181': '899115298997055491', '5182': '23194229', '5183': '807692474684579840', '5184': '59213861', '5185': '26589498'}\n"
          ]
        }
      ],
      "source": [
        "\n",
        "import json\n",
        "\n",
        "# Specify the path to your JSON file\n",
        "json_file_path = '/content/drive/MyDrive/alias_2_id.json'\n",
        "\n",
        "# Load the JSON file and parse it into a dictionary\n",
        "with open(json_file_path, 'r') as file:\n",
        "    json_data = file.read()\n",
        "    alias_2_id = json.loads(json_data)\n",
        "\n",
        "# Now you can use the 'dictionary' variable which contains the loaded data\n",
        "print(alias_2_id)\n"
      ]
    },
    {
      "cell_type": "code",
      "execution_count": null,
      "metadata": {
        "colab": {
          "base_uri": "https://localhost:8080/"
        },
        "id": "FM3znagg-3P0",
        "outputId": "7b36fde5-744e-43ac-979d-7fe2f97cb36c"
      },
      "outputs": [
        {
          "data": {
            "text/plain": [
              "pandas.core.series.Series"
            ]
          },
          "execution_count": 40,
          "metadata": {},
          "output_type": "execute_result"
        }
      ],
      "source": [
        "type(subjects)"
      ]
    },
    {
      "cell_type": "code",
      "execution_count": null,
      "metadata": {
        "id": "ucdTCeqW-Ul7"
      },
      "outputs": [],
      "source": [
        "nodes = []\n",
        "for i in range(5186):\n",
        "    nodes.append(int(alias_2_id[str(i)]))"
      ]
    },
    {
      "cell_type": "code",
      "execution_count": null,
      "metadata": {
        "colab": {
          "base_uri": "https://localhost:8080/"
        },
        "id": "Xy535ap1_K3z",
        "outputId": "b82dcd6f-11f6-4855-8511-5618f23c0ee8"
      },
      "outputs": [
        {
          "data": {
            "text/plain": [
              "[321631653,\n",
              " 18655355,\n",
              " 2467720274,\n",
              " 3176702526,\n",
              " 24939978,\n",
              " 1646856415,\n",
              " 2932942216,\n",
              " 766475610059317248,\n",
              " 2909998207,\n",
              " 59621769,\n",
              " 15537302,\n",
              " 908585996,\n",
              " 295731821,\n",
              " 17564591,\n",
              " 966354844754894848,\n",
              " 19417492,\n",
              " 803694179079458816,\n",
              " 58007320,\n",
              " 2353605901,\n",
              " 117718572,\n",
              " 875029068223315968,\n",
              " 929766290323058688,\n",
              " 35218566,\n",
              " 2619593276,\n",
              " 36711022,\n",
              " 46756474,\n",
              " 31059230,\n",
              " 27194034,\n",
              " 4124770811,\n",
              " 2964174789,\n",
              " 827641495125688321,\n",
              " 69176047,\n",
              " 956702734920564736,\n",
              " 430106077,\n",
              " 1309193942,\n",
              " 2745534376,\n",
              " 1015843266384859141,\n",
              " 3241707920,\n",
              " 3836645961,\n",
              " 1696503140,\n",
              " 477342040,\n",
              " 890585748315000832,\n",
              " 69004966,\n",
              " 934859209279238148,\n",
              " 19877186,\n",
              " 775899392268177409,\n",
              " 1254645558,\n",
              " 960994743357292544,\n",
              " 15486485,\n",
              " 792006970525880320,\n",
              " 3095741260,\n",
              " 784210425420316672,\n",
              " 2483329075,\n",
              " 346549154,\n",
              " 407223771,\n",
              " 733232251677364224,\n",
              " 3124473681,\n",
              " 727264708776980480,\n",
              " 762327767295795200,\n",
              " 1339835893,\n",
              " 275139787,\n",
              " 25073877,\n",
              " 2547517884,\n",
              " 1415709798,\n",
              " 820354372827758592,\n",
              " 1925388241,\n",
              " 129235890,\n",
              " 83739756,\n",
              " 878087280321335298,\n",
              " 480140091,\n",
              " 21829541,\n",
              " 2898227819,\n",
              " 2155228908,\n",
              " 2303839502,\n",
              " 824320363257413633,\n",
              " 2437161638,\n",
              " 189917061,\n",
              " 1603901210,\n",
              " 247981000,\n",
              " 2943304486,\n",
              " 2273872578,\n",
              " 594182606,\n",
              " 950556292388663296,\n",
              " 900891436219981824,\n",
              " 75941972,\n",
              " 2819730783,\n",
              " 3293406121,\n",
              " 42461756,\n",
              " 8953122,\n",
              " 796143947202510848,\n",
              " 949934436,\n",
              " 240107748,\n",
              " 33540385,\n",
              " 360086219,\n",
              " 2392878835,\n",
              " 444369428,\n",
              " 225193809,\n",
              " 3309375522,\n",
              " 13218102,\n",
              " 496503953,\n",
              " 462104542,\n",
              " 205385027,\n",
              " 15791186,\n",
              " 4804094293,\n",
              " 11783502,\n",
              " 1915033663,\n",
              " 862493306382626818,\n",
              " 456812100,\n",
              " 6473022,\n",
              " 2776643332,\n",
              " 18978610,\n",
              " 2751081982,\n",
              " 964032914626359296,\n",
              " 786685161970733056,\n",
              " 2565886386,\n",
              " 750673909,\n",
              " 2398870964,\n",
              " 476777640,\n",
              " 953300769486331905,\n",
              " 728321753479585792,\n",
              " 424385350,\n",
              " 28785486,\n",
              " 86462514,\n",
              " 2863996955,\n",
              " 2947973327,\n",
              " 18856867,\n",
              " 800707492346925056,\n",
              " 142929095,\n",
              " 209176493,\n",
              " 4730403444,\n",
              " 796678296,\n",
              " 1503671971,\n",
              " 20098015,\n",
              " 402259004,\n",
              " 2421067430,\n",
              " 787778457346318336,\n",
              " 29501253,\n",
              " 761327216898613249,\n",
              " 18276341,\n",
              " 767127878,\n",
              " 45565185,\n",
              " 891196068,\n",
              " 54412900,\n",
              " 3997870336,\n",
              " 18956073,\n",
              " 31122262,\n",
              " 4651329203,\n",
              " 1358520301,\n",
              " 37535548,\n",
              " 29198219,\n",
              " 252751061,\n",
              " 73548596,\n",
              " 813286,\n",
              " 4856066080,\n",
              " 817661098988019712,\n",
              " 808896385,\n",
              " 926863126317948933,\n",
              " 70015978,\n",
              " 967027984426242053,\n",
              " 2751869386,\n",
              " 38902094,\n",
              " 72905610,\n",
              " 14216661,\n",
              " 61798736,\n",
              " 924906049253109761,\n",
              " 22774951,\n",
              " 1589251639,\n",
              " 59203206,\n",
              " 4445386337,\n",
              " 274033842,\n",
              " 27044229,\n",
              " 375434404,\n",
              " 789870587661262848,\n",
              " 4845756074,\n",
              " 220412723,\n",
              " 736743462,\n",
              " 7794142,\n",
              " 930178296,\n",
              " 56413858,\n",
              " 115446248,\n",
              " 810619093749559296,\n",
              " 182692702,\n",
              " 3497941,\n",
              " 373601625,\n",
              " 24506246,\n",
              " 56726017,\n",
              " 2735511486,\n",
              " 833650770,\n",
              " 441792136,\n",
              " 237845487,\n",
              " 1367531,\n",
              " 25954099,\n",
              " 844331849153331200,\n",
              " 1917731,\n",
              " 17626959,\n",
              " 23602600,\n",
              " 8738922,\n",
              " 2260216071,\n",
              " 918294031867793409,\n",
              " 21632108,\n",
              " 921951679955783680,\n",
              " 4081106480,\n",
              " 713351264508227584,\n",
              " 716432228,\n",
              " 16686144,\n",
              " 1354432244,\n",
              " 795324249129058304,\n",
              " 756275043886309376,\n",
              " 733043587,\n",
              " 272599565,\n",
              " 51241574,\n",
              " 792083574140772353,\n",
              " 182107650,\n",
              " 23724083,\n",
              " 65497475,\n",
              " 18005085,\n",
              " 951364134,\n",
              " 2836421,\n",
              " 584448570,\n",
              " 841716426117386240,\n",
              " 15752247,\n",
              " 414962189,\n",
              " 704183237015375872,\n",
              " 1375289149,\n",
              " 712672839745335296,\n",
              " 2425571623,\n",
              " 147878389,\n",
              " 997682274,\n",
              " 17142689,\n",
              " 43921895,\n",
              " 253355357,\n",
              " 251927470,\n",
              " 15808218,\n",
              " 769753721647403008,\n",
              " 4709795551,\n",
              " 285070355,\n",
              " 750689802,\n",
              " 239005322,\n",
              " 3481010957,\n",
              " 16397147,\n",
              " 1431328974,\n",
              " 16041234,\n",
              " 22741110,\n",
              " 2750127259,\n",
              " 4140639207,\n",
              " 51241418,\n",
              " 797698140807655424,\n",
              " 888091668288876544,\n",
              " 27124894,\n",
              " 592730371,\n",
              " 816718214369398784,\n",
              " 759251,\n",
              " 822527473451606016,\n",
              " 22771961,\n",
              " 712342794132586497,\n",
              " 3243516226,\n",
              " 4203920123,\n",
              " 817382752731463680,\n",
              " 990013123993194498,\n",
              " 2424276972,\n",
              " 947127860174704641,\n",
              " 4855406915,\n",
              " 800883578770857984,\n",
              " 826561290848059393,\n",
              " 1546132434,\n",
              " 95588504,\n",
              " 2378394366,\n",
              " 1266057546,\n",
              " 451626493,\n",
              " 379373105,\n",
              " 752304635348672512,\n",
              " 771667154064158720,\n",
              " 2980276503,\n",
              " 2780845408,\n",
              " 26657119,\n",
              " 108494073,\n",
              " 553991829,\n",
              " 176564327,\n",
              " 19489239,\n",
              " 61015843,\n",
              " 310893721,\n",
              " 4765364386,\n",
              " 1008969327909822464,\n",
              " 997805946599542786,\n",
              " 2773961686,\n",
              " 292620313,\n",
              " 2415275552,\n",
              " 307340792,\n",
              " 266487276,\n",
              " 800168183415984128,\n",
              " 2148244186,\n",
              " 94529233,\n",
              " 24733117,\n",
              " 2427750386,\n",
              " 972162448949116928,\n",
              " 892116055048548354,\n",
              " 97888378,\n",
              " 236487888,\n",
              " 852616353496346624,\n",
              " 2804332645,\n",
              " 951273849563369473,\n",
              " 885361,\n",
              " 885601772,\n",
              " 26239721,\n",
              " 19721715,\n",
              " 20708260,\n",
              " 3284112337,\n",
              " 2966823342,\n",
              " 17469289,\n",
              " 260010205,\n",
              " 945706076607000576,\n",
              " 936732378529193985,\n",
              " 87818409,\n",
              " 3294569077,\n",
              " 4647164287,\n",
              " 755057897583804416,\n",
              " 764904410313031680,\n",
              " 275276082,\n",
              " 32443514,\n",
              " 13290282,\n",
              " 18247062,\n",
              " 331264371,\n",
              " 836042147774234624,\n",
              " 904866954934194178,\n",
              " 192769408,\n",
              " 627695524,\n",
              " 396877040,\n",
              " 1072261040,\n",
              " 185542271,\n",
              " 985395878,\n",
              " 14294848,\n",
              " 242729168,\n",
              " 812156571845152768,\n",
              " 23872098,\n",
              " 364962406,\n",
              " 757078971590651904,\n",
              " 3929038325,\n",
              " 1146358172,\n",
              " 1249831310,\n",
              " 813430316,\n",
              " 69190453,\n",
              " 3400036739,\n",
              " 2833963987,\n",
              " 512620444,\n",
              " 913416571548205057,\n",
              " 781292948176510976,\n",
              " 4896347681,\n",
              " 800086706678419456,\n",
              " 22843167,\n",
              " 30706941,\n",
              " 800111181058838528,\n",
              " 717275563,\n",
              " 153529252,\n",
              " 368196789,\n",
              " 887363635692969984,\n",
              " 3955904553,\n",
              " 413513361,\n",
              " 509699683,\n",
              " 108683133,\n",
              " 166751745,\n",
              " 59909115,\n",
              " 776170731256238080,\n",
              " 22393263,\n",
              " 835576710821261315,\n",
              " 218325695,\n",
              " 18912806,\n",
              " 3056801436,\n",
              " 2595290173,\n",
              " 296565142,\n",
              " 126383581,\n",
              " 701344169848078336,\n",
              " 2339917600,\n",
              " 309510649,\n",
              " 20585610,\n",
              " 1436673007,\n",
              " 776860630934360064,\n",
              " 748446883,\n",
              " 247161834,\n",
              " 952401218340573185,\n",
              " 1013540804827152386,\n",
              " 785205256451923969,\n",
              " 18286505,\n",
              " 269795788,\n",
              " 1163922031,\n",
              " 708792951187632128,\n",
              " 47697760,\n",
              " 32936695,\n",
              " 940947284199661570,\n",
              " 266567093,\n",
              " 1335397489,\n",
              " 279774807,\n",
              " 2757695505,\n",
              " 86622682,\n",
              " 921549044,\n",
              " 891585048,\n",
              " 949023014347268096,\n",
              " 13133312,\n",
              " 11134252,\n",
              " 863092576316002308,\n",
              " 26043187,\n",
              " 170547167,\n",
              " 4102376488,\n",
              " 2552866040,\n",
              " 888451397783625728,\n",
              " 806653946240626688,\n",
              " 246939630,\n",
              " 806819710537007105,\n",
              " 817942495287865348,\n",
              " 39296597,\n",
              " 177002206,\n",
              " 4716906680,\n",
              " 19173787,\n",
              " 890392768404533248,\n",
              " 1355334506,\n",
              " 3013729680,\n",
              " 906954694509051904,\n",
              " 7702542,\n",
              " 1069582045,\n",
              " 2559934693,\n",
              " 17879692,\n",
              " 930516835,\n",
              " 798953701972938752,\n",
              " 979376914505793537,\n",
              " 867947619661881344,\n",
              " 811007544080662532,\n",
              " 1106501,\n",
              " 309320483,\n",
              " 783484548264767488,\n",
              " 34713362,\n",
              " 977565912848101377,\n",
              " 205864193,\n",
              " 508454781,\n",
              " 317385247,\n",
              " 2382414115,\n",
              " 756968537902682112,\n",
              " 1617951475,\n",
              " 2305856559,\n",
              " 604940737,\n",
              " 45974692,\n",
              " 16076032,\n",
              " 17830059,\n",
              " 287409342,\n",
              " 843818089,\n",
              " 804810719124475904,\n",
              " 3584892134,\n",
              " 748206668115152896,\n",
              " 16190478,\n",
              " 22329855,\n",
              " 975413016471719936,\n",
              " 1322420269,\n",
              " 774306164733542400,\n",
              " 422894799,\n",
              " 2761431445,\n",
              " 42135117,\n",
              " 180107694,\n",
              " 46195728,\n",
              " 510942432,\n",
              " 244650352,\n",
              " 16193222,\n",
              " 3214630234,\n",
              " 872278657300963328,\n",
              " 786024508700319744,\n",
              " 2330537508,\n",
              " 93992192,\n",
              " 949670117968875521,\n",
              " 1518261,\n",
              " 65174274,\n",
              " 947939622037925893,\n",
              " 16790394,\n",
              " 397055388,\n",
              " 114259310,\n",
              " 1586139973,\n",
              " 45191523,\n",
              " 15007149,\n",
              " 3424968443,\n",
              " 13850422,\n",
              " 827645780756426752,\n",
              " 1102236132,\n",
              " 22703645,\n",
              " 202040904,\n",
              " 568678633,\n",
              " 18464266,\n",
              " 21111999,\n",
              " 81428340,\n",
              " 965231053119148032,\n",
              " 20883103,\n",
              " 796824356924096512,\n",
              " 3191477888,\n",
              " 814602469498044418,\n",
              " 15057589,\n",
              " 16164856,\n",
              " 986174356257693696,\n",
              " 820378690920058880,\n",
              " 566553506,\n",
              " 88037937,\n",
              " 200889851,\n",
              " 605448416,\n",
              " 42176166,\n",
              " 82719255,\n",
              " 17449583,\n",
              " 32805361,\n",
              " 938253847335784448,\n",
              " 16056306,\n",
              " 2876704776,\n",
              " 818948638890217473,\n",
              " 4875740127,\n",
              " 251918778,\n",
              " 205907933,\n",
              " 611986351,\n",
              " 3367909137,\n",
              " 231510077,\n",
              " 806972430724038656,\n",
              " 26637348,\n",
              " 1975541376,\n",
              " 113758100,\n",
              " 726239621068251136,\n",
              " 155784594,\n",
              " 570816602,\n",
              " 14173315,\n",
              " 23065616,\n",
              " 991128865572573184,\n",
              " 18576537,\n",
              " 4691985930,\n",
              " 912064087676383233,\n",
              " 1154423766,\n",
              " 488772327,\n",
              " 48883553,\n",
              " 34262462,\n",
              " 168547637,\n",
              " 1566929143,\n",
              " 808534076860862465,\n",
              " 865892444533141504,\n",
              " 46846040,\n",
              " 950051382,\n",
              " 3078348404,\n",
              " 917506874882318336,\n",
              " 897498312919601152,\n",
              " 54692602,\n",
              " 822987556530876417,\n",
              " 571845163,\n",
              " 2919091926,\n",
              " 19131127,\n",
              " 3407098161,\n",
              " 294300657,\n",
              " 55395103,\n",
              " 831712568565604352,\n",
              " 822975747866312704,\n",
              " 809842109339594752,\n",
              " 956216538956206080,\n",
              " 1554471684,\n",
              " 4561626914,\n",
              " 30031007,\n",
              " 38029205,\n",
              " 4734068946,\n",
              " 25089812,\n",
              " 213478296,\n",
              " 57526462,\n",
              " 818910970567344128,\n",
              " 317532671,\n",
              " 27673910,\n",
              " 986402524705026049,\n",
              " 27493883,\n",
              " 230348811,\n",
              " 11651202,\n",
              " 51963275,\n",
              " 78415303,\n",
              " 2178681566,\n",
              " 4794834798,\n",
              " 16700555,\n",
              " 1074738247,\n",
              " 5558312,\n",
              " 355498072,\n",
              " 26997254,\n",
              " 949335376946188288,\n",
              " 812135885328236551,\n",
              " 4214106723,\n",
              " 964531745893863425,\n",
              " 479257253,\n",
              " 19416833,\n",
              " 890698350802153474,\n",
              " 818975124460335106,\n",
              " 315062429,\n",
              " 168118941,\n",
              " 884102147108982784,\n",
              " 729124474964955137,\n",
              " 701543974201200642,\n",
              " 1468649101,\n",
              " 1520637229,\n",
              " 2560880828,\n",
              " 739249538,\n",
              " 132339474,\n",
              " 983382484430872576,\n",
              " 292929271,\n",
              " 536279030,\n",
              " 997969657008181248,\n",
              " 27459374,\n",
              " 3237526723,\n",
              " 965015705123930114,\n",
              " 2324304644,\n",
              " 47437206,\n",
              " 95515159,\n",
              " 902264561872588800,\n",
              " 105926699,\n",
              " 2788464770,\n",
              " 61577178,\n",
              " 2937613910,\n",
              " 45278471,\n",
              " 44902038,\n",
              " 1317129865,\n",
              " 836006107,\n",
              " 346384148,\n",
              " 717748105882517504,\n",
              " 29465136,\n",
              " 716567955,\n",
              " 713368574325166080,\n",
              " 881280076838555649,\n",
              " 234128524,\n",
              " 413034378,\n",
              " 127716574,\n",
              " 40720777,\n",
              " 2161980013,\n",
              " 3366103582,\n",
              " 338058459,\n",
              " 16550142,\n",
              " 996104206556762113,\n",
              " 937894539326640128,\n",
              " 1379501748,\n",
              " 60720378,\n",
              " 831111050632232960,\n",
              " 707350988,\n",
              " 392418374,\n",
              " 967064304020111361,\n",
              " 776449689356865536,\n",
              " 106021590,\n",
              " 36652924,\n",
              " 24553045,\n",
              " 34516157,\n",
              " 22815951,\n",
              " 2306885139,\n",
              " 210597161,\n",
              " 85583894,\n",
              " 791344802919018496,\n",
              " 818138898589069316,\n",
              " 15012486,\n",
              " 359188534,\n",
              " 203226736,\n",
              " 364845360,\n",
              " 576331086,\n",
              " 937808119962460161,\n",
              " 1000027031126634496,\n",
              " 36746972,\n",
              " 824394736458985474,\n",
              " 3369357328,\n",
              " 14247236,\n",
              " 32682316,\n",
              " 568425704,\n",
              " 1713881474,\n",
              " 22799750,\n",
              " 14277670,\n",
              " 15745368,\n",
              " 1232915808,\n",
              " 140252240,\n",
              " 15023960,\n",
              " 19556528,\n",
              " 575173506,\n",
              " 162069635,\n",
              " 934870014124998656,\n",
              " 34959923,\n",
              " 992242468539260931,\n",
              " 17544524,\n",
              " 803197071612399616,\n",
              " 836265236,\n",
              " 24779354,\n",
              " 3139765462,\n",
              " 953030359,\n",
              " 781561021957754880,\n",
              " 13918842,\n",
              " 873552281244811265,\n",
              " 1018220291242242048,\n",
              " 984964882830385152,\n",
              " 3021557840,\n",
              " 765360142401544192,\n",
              " 3285613226,\n",
              " 423004948,\n",
              " 34889241,\n",
              " 408817702,\n",
              " 1471021,\n",
              " 47823917,\n",
              " 849264660,\n",
              " 18606012,\n",
              " 2891065025,\n",
              " 126065609,\n",
              " 913605726,\n",
              " 18166778,\n",
              " 898301894015148032,\n",
              " 712054651902889984,\n",
              " 18382184,\n",
              " 259045004,\n",
              " 81700995,\n",
              " 2357656989,\n",
              " 28341397,\n",
              " 6426402,\n",
              " 960566231156785153,\n",
              " 1249982359,\n",
              " 931298966,\n",
              " 133028836,\n",
              " 817532825733709824,\n",
              " 378295246,\n",
              " 948441121130074113,\n",
              " 727515153479143426,\n",
              " 821303470950989824,\n",
              " 11203972,\n",
              " 67883291,\n",
              " 8200072,\n",
              " 23929732,\n",
              " 15663,\n",
              " 7686092,\n",
              " 108882900,\n",
              " 2294142221,\n",
              " 142510532,\n",
              " 44606445,\n",
              " 22190567,\n",
              " 866412288814743552,\n",
              " 954516288440815616,\n",
              " 24644444,\n",
              " 300819096,\n",
              " 813597561323945984,\n",
              " 987240830351151104,\n",
              " 432895323,\n",
              " 784575415457308672,\n",
              " 2570424183,\n",
              " 18442571,\n",
              " 799439044274954240,\n",
              " 69185601,\n",
              " 1019638996283031554,\n",
              " 357606935,\n",
              " 20343417,\n",
              " 3339578272,\n",
              " 294082746,\n",
              " 851737964,\n",
              " 298646188,\n",
              " 306729320,\n",
              " 176712912,\n",
              " 17682476,\n",
              " 180887271,\n",
              " 293777234,\n",
              " 2770070614,\n",
              " 286344947,\n",
              " 15224666,\n",
              " 2730968903,\n",
              " 1030083798,\n",
              " 304123273,\n",
              " 139322897,\n",
              " 17980523,\n",
              " 1731644444,\n",
              " 830207667494932481,\n",
              " 991902350016221184,\n",
              " 1430508206,\n",
              " 962418734471229440,\n",
              " 33249890,\n",
              " 17263953,\n",
              " 3127179418,\n",
              " 129797263,\n",
              " 168684259,\n",
              " 962303443275780096,\n",
              " 856991644134068224,\n",
              " 707943136681713664,\n",
              " 2708577216,\n",
              " 9609632,\n",
              " 974821640436580352,\n",
              " 704726179526344704,\n",
              " 16467567,\n",
              " 957352738706173952,\n",
              " 156130765,\n",
              " 28162211,\n",
              " 69109217,\n",
              " 1167342554,\n",
              " 2152096010,\n",
              " 2159946222,\n",
              " 998168120253714432,\n",
              " 251564985,\n",
              " 914208569775480832,\n",
              " 531527946,\n",
              " 982292527301758977,\n",
              " 37217578,\n",
              " 2370897001,\n",
              " 561452170,\n",
              " 810472626934181888,\n",
              " 63841612,\n",
              " 54856746,\n",
              " 859166236378267649,\n",
              " 39384517,\n",
              " 579995287,\n",
              " 946226949399154688,\n",
              " 489725333,\n",
              " 825377961029332992,\n",
              " 941400923749920769,\n",
              " 3981225735,\n",
              " 826467895022477312,\n",
              " 4116660922,\n",
              " 2884771,\n",
              " 783475532381888512,\n",
              " 3435405693,\n",
              " 35511525,\n",
              " 2764811815,\n",
              " 77570094,\n",
              " 1703628649,\n",
              " 15311104,\n",
              " 594633979,\n",
              " 588992831,\n",
              " 42403813,\n",
              " 2602539350,\n",
              " 2999237925,\n",
              " 359814192,\n",
              " 3898472476,\n",
              " 1699841245,\n",
              " 825865484998369280,\n",
              " 898551142816329732,\n",
              " 14515799,\n",
              " 20897299,\n",
              " 2800581040,\n",
              " 24405670,\n",
              " 460470940,\n",
              " 54166596,\n",
              " 739610364975808513,\n",
              " 495654029,\n",
              " 20878297,\n",
              " 850130990706151428,\n",
              " 824160143499788288,\n",
              " 2303865409,\n",
              " 713162867906895872,\n",
              " 2758633780,\n",
              " 568143078,\n",
              " 2993979984,\n",
              " 850286737989545984,\n",
              " 17447396,\n",
              " 2351986362,\n",
              " 27995424,\n",
              " 967069087967793153,\n",
              " 204832963,\n",
              " 340318799,\n",
              " 763082628794810368,\n",
              " 759113907860418561,\n",
              " 59812104,\n",
              " 5980332,\n",
              " 4635335020,\n",
              " 734226996004311040,\n",
              " 90445688,\n",
              " 22650398,\n",
              " 2364740618,\n",
              " 382685028,\n",
              " 1167320588,\n",
              " 549547810,\n",
              " 148596994,\n",
              " 16187637,\n",
              " 31135856,\n",
              " 285545863,\n",
              " 1183945603,\n",
              " 1020920685911265280,\n",
              " 116579523,\n",
              " 718506874065305601,\n",
              " 1003979881905033217,\n",
              " 1546656000,\n",
              " 67801872,\n",
              " 707231479047315456,\n",
              " 1265831268,\n",
              " 257250631,\n",
              " 1566426516,\n",
              " 375473165,\n",
              " 750493955322552320,\n",
              " 935746561539280897,\n",
              " 1426169094,\n",
              " 989818218,\n",
              " 2415072836,\n",
              " 2177256028,\n",
              " 19040572,\n",
              " 53648074,\n",
              " 794077393166225408,\n",
              " 5988062,\n",
              " 2552951778,\n",
              " 15455253,\n",
              " 814530975350792192,\n",
              " 87000859,\n",
              " 150289183,\n",
              " 31794619,\n",
              " 112047805,\n",
              " 28888437,\n",
              " 910492003359760384,\n",
              " 24891210,\n",
              " 80617430,\n",
              " 910245951058567168,\n",
              " 2461810448,\n",
              " 2963350041,\n",
              " 19558732,\n",
              " 95650867,\n",
              " 1475970787,\n",
              " 961792879713644544,\n",
              " 3974704763,\n",
              " 27285798,\n",
              " 3250141399,\n",
              " 782265648323842048,\n",
              " 763935668284239872,\n",
              " 1148894713,\n",
              " 601535938,\n",
              " 2798705328,\n",
              " 270921976,\n",
              " 933174729694896128,\n",
              " 18082945,\n",
              " 564657538,\n",
              " 719802375,\n",
              " 3128736089,\n",
              " 42825230,\n",
              " 119528515,\n",
              " 133938408,\n",
              " 780530777326882816,\n",
              " 4761064634,\n",
              " 826123021064798208,\n",
              " 22286602,\n",
              " 2449891638,\n",
              " 341190477,\n",
              " 500589735,\n",
              " 615019546,\n",
              " 703330053396918272,\n",
              " 3012037477,\n",
              " 1019641781087080448,\n",
              " 89858112,\n",
              " 127941629,\n",
              " 90020796,\n",
              " 226160733,\n",
              " 907002328624107520,\n",
              " 610346981,\n",
              " 102688431,\n",
              " 2826709201,\n",
              " 19689986,\n",
              " 838918596843593728,\n",
              " 738080573365702657,\n",
              " 806281312181043205,\n",
              " 477474628,\n",
              " 860784208482062336,\n",
              " 182467440,\n",
              " 594175899,\n",
              " 344704050,\n",
              " 156900211,\n",
              " 955433052666200064,\n",
              " 4217380097,\n",
              " 211552063,\n",
              " 17178161,\n",
              " 15924411,\n",
              " 68682168,\n",
              " 883280792066990080,\n",
              " 218975278,\n",
              " 788106950160609280,\n",
              " 154263755,\n",
              " 975140794662137856,\n",
              " 25651173,\n",
              " 1012376354266976256,\n",
              " 3013595631,\n",
              " 506067365,\n",
              " 999634489490882560,\n",
              " 977922248148316162,\n",
              " 1424233416,\n",
              " 963575297793822721,\n",
              " 917516059036540929,\n",
              " 614419255,\n",
              " 324703658,\n",
              " 454779231,\n",
              " 21108390,\n",
              " 948466198680915968,\n",
              " 2983890506,\n",
              " 835435964906393600,\n",
              " 886617849715806208,\n",
              " 315323355,\n",
              " 31440321,\n",
              " 2480319290,\n",
              " 19051236,\n",
              " 516879588,\n",
              " 17261066,\n",
              " 59714727,\n",
              " 741717396960907264,\n",
              " 18851248,\n",
              " 804863024288894976,\n",
              " 23637488,\n",
              " 839300788702875649,\n",
              " 4431846220,\n",
              " 814040122278563842,\n",
              " 792782917638455296,\n",
              " 1264060742,\n",
              " 468646961,\n",
              " 1039142809,\n",
              " 493714995,\n",
              " 6699732,\n",
              " 253352891,\n",
              " 432558629,\n",
              " 4766842022,\n",
              " 25387735,\n",
              " 2797975154,\n",
              " 90808833,\n",
              " 194214753,\n",
              " 576318595,\n",
              " 202952121,\n",
              " ...]"
            ]
          },
          "execution_count": 43,
          "metadata": {},
          "output_type": "execute_result"
        }
      ],
      "source": [
        "nodes"
      ]
    },
    {
      "cell_type": "code",
      "execution_count": null,
      "metadata": {
        "colab": {
          "base_uri": "https://localhost:8080/"
        },
        "id": "z82Gs_qg_LM6",
        "outputId": "da4c1dcf-f325-4e88-f435-8f67ce489b12"
      },
      "outputs": [
        {
          "data": {
            "text/plain": [
              "0                321631653\n",
              "1                 18655355\n",
              "2               2467720274\n",
              "3               3176702526\n",
              "4                 24939978\n",
              "               ...        \n",
              "5181    899115298997055491\n",
              "5182              23194229\n",
              "5183    807692474684579840\n",
              "5184              59213861\n",
              "5185              26589498\n",
              "Length: 5186, dtype: int64"
            ]
          },
          "execution_count": 56,
          "metadata": {},
          "output_type": "execute_result"
        }
      ],
      "source": [
        "series = pd.Series(nodes)\n",
        "series"
      ]
    },
    {
      "cell_type": "code",
      "execution_count": null,
      "metadata": {
        "colab": {
          "base_uri": "https://localhost:8080/"
        },
        "id": "50KFL0mz_iFq",
        "outputId": "e647c745-a59f-4055-fbdf-f74a75f33324"
      },
      "outputs": [
        {
          "data": {
            "text/plain": [
              "RangeIndex(start=0, stop=5186, step=1)"
            ]
          },
          "execution_count": 57,
          "metadata": {},
          "output_type": "execute_result"
        }
      ],
      "source": [
        "series.index"
      ]
    },
    {
      "cell_type": "code",
      "execution_count": null,
      "metadata": {
        "id": "XVuN4XOD_kei"
      },
      "outputs": [],
      "source": [
        "adj_matrix = np.load('/content/drive/MyDrive/adj_matrix.npy')"
      ]
    },
    {
      "cell_type": "code",
      "execution_count": null,
      "metadata": {
        "colab": {
          "base_uri": "https://localhost:8080/"
        },
        "id": "M-OS_ngZCNIq",
        "outputId": "bff9b30d-ef51-49be-a96f-764c340661d5"
      },
      "outputs": [
        {
          "data": {
            "text/plain": [
              "array([[1., 1., 0., ..., 0., 0., 0.],\n",
              "       [1., 1., 0., ..., 0., 0., 0.],\n",
              "       [0., 0., 1., ..., 0., 0., 0.],\n",
              "       ...,\n",
              "       [0., 0., 0., ..., 1., 0., 0.],\n",
              "       [0., 0., 0., ..., 0., 1., 0.],\n",
              "       [0., 0., 0., ..., 0., 0., 1.]])"
            ]
          },
          "execution_count": 17,
          "metadata": {},
          "output_type": "execute_result"
        }
      ],
      "source": [
        "np.shape(adj_matrix)\n",
        "adj_matrix"
      ]
    },
    {
      "cell_type": "code",
      "execution_count": null,
      "metadata": {
        "id": "2BQBOlBsCR3a"
      },
      "outputs": [],
      "source": [
        "np.save('/content/drive/MyDrive/node_embeddings_node_2_vec_similarity.npy', node_embeddings)"
      ]
    },
    {
      "cell_type": "code",
      "execution_count": null,
      "metadata": {
        "colab": {
          "base_uri": "https://localhost:8080/"
        },
        "id": "cYzIsDOVC35a",
        "outputId": "f27755f0-2391-48a9-ead5-6cb975e15c0f"
      },
      "outputs": [
        {
          "data": {
            "text/plain": [
              "(5186, 128)"
            ]
          },
          "execution_count": 14,
          "metadata": {},
          "output_type": "execute_result"
        }
      ],
      "source": [
        "node_embeddings = np.load('/content/drive/MyDrive/node_embeddings_node_2_vec_similarity.npy')\n",
        "np.shape(node_embeddings)"
      ]
    },
    {
      "cell_type": "code",
      "execution_count": null,
      "metadata": {
        "colab": {
          "base_uri": "https://localhost:8080/"
        },
        "id": "bwboBSDoW91n",
        "outputId": "8697b589-bf60-4137-881e-7aec188d784d"
      },
      "outputs": [
        {
          "data": {
            "text/plain": [
              "(array([   0,    0,    1, ..., 5184, 5185, 5185]),\n",
              " array([   0,    1,    0, ..., 5184,   13, 5185]))"
            ]
          },
          "execution_count": 16,
          "metadata": {},
          "output_type": "execute_result"
        }
      ],
      "source": [
        "positions = np.where(adj_matrix == 1)\n",
        "positions"
      ]
    },
    {
      "cell_type": "code",
      "execution_count": null,
      "metadata": {
        "colab": {
          "base_uri": "https://localhost:8080/"
        },
        "id": "w9hH5hEnXtIB",
        "outputId": "e8f1a868-38df-4665-bbf4-f58da05e60a2"
      },
      "outputs": [
        {
          "name": "stdout",
          "output_type": "stream",
          "text": [
            "40662\n"
          ]
        }
      ],
      "source": [
        "num_ones = np.count_nonzero(adj_matrix)\n",
        "print(num_ones)"
      ]
    }
  ],
  "metadata": {
    "colab": {
      "provenance": []
    },
    "kernelspec": {
      "display_name": "Python 3",
      "name": "python3"
    },
    "language_info": {
      "name": "python"
    }
  },
  "nbformat": 4,
  "nbformat_minor": 0
}
